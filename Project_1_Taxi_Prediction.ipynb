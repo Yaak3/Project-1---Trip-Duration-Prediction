{
 "cells": [
  {
   "cell_type": "markdown",
   "id": "7fc58b89",
   "metadata": {
    "id": "7fc58b89"
   },
   "source": [
    "# Taxi predction"
   ]
  },
  {
   "cell_type": "markdown",
   "id": "f8e65079",
   "metadata": {
    "id": "f8e65079"
   },
   "source": [
    "## 1. Business Understanding"
   ]
  },
  {
   "cell_type": "markdown",
   "id": "31a85f31",
   "metadata": {
    "id": "31a85f31"
   },
   "source": [
    "### Este modelo tem como objetivo prever o tempo total de uma corrida de taxi na cidade de Nova York. Para isto, foi utilizada uma base de dados disponibilizada pela NYC Taxi and Limousine Commission. A base foi disponibilizada pelo site Kaggle.\n",
    "\n",
    "Link para a pagina do Kaggle: https://www.kaggle.com/c/nyc-taxi-trip-duration\n",
    "\n",
    "<p> \n",
    "    Neste projeto utilizei a metodologia CRISPDM para estrutuar a analise\n",
    "</p>\n",
    "\n",
    "### Desenvolvido por Bruno Gabriel de Sousa"
   ]
  },
  {
   "cell_type": "markdown",
   "id": "e2f99ba4",
   "metadata": {
    "id": "e2f99ba4"
   },
   "source": [
    "## 2. Data Understanding"
   ]
  },
  {
   "cell_type": "code",
   "execution_count": 182,
   "id": "af995c79",
   "metadata": {
    "id": "af995c79"
   },
   "outputs": [],
   "source": [
    "# Data manipuation\n",
    "import pandas as pd\n",
    "import numpy as np\n",
    "from haversine import haversine\n",
    "from datetime import datetime, time\n",
    "\n",
    "# Visualizing\n",
    "import matplotlib.pyplot as plt\n",
    "\n",
    "# Model selection and evaluation\n",
    "from sklearn.linear_model import LinearRegression\n",
    "from sklearn.metrics import mean_squared_error as mse\n",
    "from sklearn.metrics import mean_absolute_error as mae\n",
    "from sklearn.model_selection import train_test_split\n",
    "from sklearn.preprocessing import LabelEncoder, OneHotEncoder\n",
    "from sklearn.preprocessing import MinMaxScaler\n",
    "from sklearn.compose import ColumnTransformer\n",
    "\n",
    "#Implemetation\n",
    "from OSMPythonTools.nominatim import Nominatim"
   ]
  },
  {
   "cell_type": "code",
   "execution_count": 183,
   "id": "41c560e2",
   "metadata": {
    "colab": {
     "base_uri": "https://localhost:8080/",
     "height": 204
    },
    "id": "41c560e2",
    "outputId": "8995ad41-7fa6-420b-ac4d-ca80aae6a376",
    "scrolled": true
   },
   "outputs": [
    {
     "data": {
      "text/html": [
       "<div>\n",
       "<style scoped>\n",
       "    .dataframe tbody tr th:only-of-type {\n",
       "        vertical-align: middle;\n",
       "    }\n",
       "\n",
       "    .dataframe tbody tr th {\n",
       "        vertical-align: top;\n",
       "    }\n",
       "\n",
       "    .dataframe thead th {\n",
       "        text-align: right;\n",
       "    }\n",
       "</style>\n",
       "<table border=\"1\" class=\"dataframe\">\n",
       "  <thead>\n",
       "    <tr style=\"text-align: right;\">\n",
       "      <th></th>\n",
       "      <th>id</th>\n",
       "      <th>vendor_id</th>\n",
       "      <th>pickup_datetime</th>\n",
       "      <th>dropoff_datetime</th>\n",
       "      <th>passenger_count</th>\n",
       "      <th>pickup_longitude</th>\n",
       "      <th>pickup_latitude</th>\n",
       "      <th>dropoff_longitude</th>\n",
       "      <th>dropoff_latitude</th>\n",
       "      <th>store_and_fwd_flag</th>\n",
       "      <th>trip_duration</th>\n",
       "    </tr>\n",
       "  </thead>\n",
       "  <tbody>\n",
       "    <tr>\n",
       "      <th>0</th>\n",
       "      <td>id2875421</td>\n",
       "      <td>2</td>\n",
       "      <td>2016-03-14 17:24:55</td>\n",
       "      <td>2016-03-14 17:32:30</td>\n",
       "      <td>1</td>\n",
       "      <td>-73.982155</td>\n",
       "      <td>40.767937</td>\n",
       "      <td>-73.964630</td>\n",
       "      <td>40.765602</td>\n",
       "      <td>N</td>\n",
       "      <td>455</td>\n",
       "    </tr>\n",
       "    <tr>\n",
       "      <th>1</th>\n",
       "      <td>id2377394</td>\n",
       "      <td>1</td>\n",
       "      <td>2016-06-12 00:43:35</td>\n",
       "      <td>2016-06-12 00:54:38</td>\n",
       "      <td>1</td>\n",
       "      <td>-73.980415</td>\n",
       "      <td>40.738564</td>\n",
       "      <td>-73.999481</td>\n",
       "      <td>40.731152</td>\n",
       "      <td>N</td>\n",
       "      <td>663</td>\n",
       "    </tr>\n",
       "    <tr>\n",
       "      <th>2</th>\n",
       "      <td>id3858529</td>\n",
       "      <td>2</td>\n",
       "      <td>2016-01-19 11:35:24</td>\n",
       "      <td>2016-01-19 12:10:48</td>\n",
       "      <td>1</td>\n",
       "      <td>-73.979027</td>\n",
       "      <td>40.763939</td>\n",
       "      <td>-74.005333</td>\n",
       "      <td>40.710087</td>\n",
       "      <td>N</td>\n",
       "      <td>2124</td>\n",
       "    </tr>\n",
       "    <tr>\n",
       "      <th>3</th>\n",
       "      <td>id3504673</td>\n",
       "      <td>2</td>\n",
       "      <td>2016-04-06 19:32:31</td>\n",
       "      <td>2016-04-06 19:39:40</td>\n",
       "      <td>1</td>\n",
       "      <td>-74.010040</td>\n",
       "      <td>40.719971</td>\n",
       "      <td>-74.012268</td>\n",
       "      <td>40.706718</td>\n",
       "      <td>N</td>\n",
       "      <td>429</td>\n",
       "    </tr>\n",
       "    <tr>\n",
       "      <th>4</th>\n",
       "      <td>id2181028</td>\n",
       "      <td>2</td>\n",
       "      <td>2016-03-26 13:30:55</td>\n",
       "      <td>2016-03-26 13:38:10</td>\n",
       "      <td>1</td>\n",
       "      <td>-73.973053</td>\n",
       "      <td>40.793209</td>\n",
       "      <td>-73.972923</td>\n",
       "      <td>40.782520</td>\n",
       "      <td>N</td>\n",
       "      <td>435</td>\n",
       "    </tr>\n",
       "  </tbody>\n",
       "</table>\n",
       "</div>"
      ],
      "text/plain": [
       "          id  vendor_id      pickup_datetime     dropoff_datetime  \\\n",
       "0  id2875421          2  2016-03-14 17:24:55  2016-03-14 17:32:30   \n",
       "1  id2377394          1  2016-06-12 00:43:35  2016-06-12 00:54:38   \n",
       "2  id3858529          2  2016-01-19 11:35:24  2016-01-19 12:10:48   \n",
       "3  id3504673          2  2016-04-06 19:32:31  2016-04-06 19:39:40   \n",
       "4  id2181028          2  2016-03-26 13:30:55  2016-03-26 13:38:10   \n",
       "\n",
       "   passenger_count  pickup_longitude  pickup_latitude  dropoff_longitude  \\\n",
       "0                1        -73.982155        40.767937         -73.964630   \n",
       "1                1        -73.980415        40.738564         -73.999481   \n",
       "2                1        -73.979027        40.763939         -74.005333   \n",
       "3                1        -74.010040        40.719971         -74.012268   \n",
       "4                1        -73.973053        40.793209         -73.972923   \n",
       "\n",
       "   dropoff_latitude store_and_fwd_flag  trip_duration  \n",
       "0         40.765602                  N            455  \n",
       "1         40.731152                  N            663  \n",
       "2         40.710087                  N           2124  \n",
       "3         40.706718                  N            429  \n",
       "4         40.782520                  N            435  "
      ]
     },
     "execution_count": 183,
     "metadata": {},
     "output_type": "execute_result"
    }
   ],
   "source": [
    "#Importando a base de dados para o pandas a partir de um arquivo CSV\n",
    "df_train = pd.read_csv('train.csv')\n",
    "df_train.head()"
   ]
  },
  {
   "cell_type": "markdown",
   "id": "0b0a5c4d",
   "metadata": {
    "id": "0b0a5c4d"
   },
   "source": [
    "### Variáveis envolvidas no projeto\n",
    "\n",
    "#### ID - Registro único de cada corrida na base de dados\n",
    "#### Vendor ID - ID da empresa associada que fez o registro da corrida\n",
    "#### Pickup Datetime - Data e horário do início da corrida\n",
    "#### Dropoff Datetime - Data e horário do final da corrida\n",
    "#### Passenger Count - Número de passageiros em cada corrida\n",
    "#### Pickup Longitude - Coordenada de longitude do inicio da corrida\n",
    "#### Pickup Latitude - Coordenada de latitude do inicio da corrida\n",
    "#### Dropoff Longitude - Coordenada de longitude do final da corrida\n",
    "#### Dropoff Latitude - Coordenada de latitude do final da corrida\n",
    "#### Store and fwd flag - Indicativo se o taxi estava conectado a internet e enviou as informações da corrida antes de continuar a próxima\n",
    "#### Trip duration - Duração da corrida"
   ]
  },
  {
   "cell_type": "code",
   "execution_count": 184,
   "id": "f0Zp78d35Zib",
   "metadata": {
    "colab": {
     "base_uri": "https://localhost:8080/"
    },
    "id": "f0Zp78d35Zib",
    "outputId": "9e917e26-50af-4ab8-dee0-551d83b2c89a",
    "scrolled": false
   },
   "outputs": [
    {
     "name": "stdout",
     "output_type": "stream",
     "text": [
      "<class 'pandas.core.frame.DataFrame'>\n",
      "RangeIndex: 1458644 entries, 0 to 1458643\n",
      "Data columns (total 11 columns):\n",
      " #   Column              Non-Null Count    Dtype  \n",
      "---  ------              --------------    -----  \n",
      " 0   id                  1458644 non-null  object \n",
      " 1   vendor_id           1458644 non-null  int64  \n",
      " 2   pickup_datetime     1458644 non-null  object \n",
      " 3   dropoff_datetime    1458644 non-null  object \n",
      " 4   passenger_count     1458644 non-null  int64  \n",
      " 5   pickup_longitude    1458644 non-null  float64\n",
      " 6   pickup_latitude     1458644 non-null  float64\n",
      " 7   dropoff_longitude   1458644 non-null  float64\n",
      " 8   dropoff_latitude    1458644 non-null  float64\n",
      " 9   store_and_fwd_flag  1458644 non-null  object \n",
      " 10  trip_duration       1458644 non-null  int64  \n",
      "dtypes: float64(4), int64(3), object(4)\n",
      "memory usage: 122.4+ MB\n"
     ]
    }
   ],
   "source": [
    "#Tipos das variáveis e tamanho da base de dados\n",
    "df_train.info()"
   ]
  },
  {
   "cell_type": "code",
   "execution_count": 185,
   "id": "I1J40GVw6Ibj",
   "metadata": {
    "colab": {
     "base_uri": "https://localhost:8080/",
     "height": 297
    },
    "id": "I1J40GVw6Ibj",
    "outputId": "ac7ddb2c-2949-44a8-affb-601aaf098f9d"
   },
   "outputs": [
    {
     "data": {
      "text/html": [
       "<div>\n",
       "<style scoped>\n",
       "    .dataframe tbody tr th:only-of-type {\n",
       "        vertical-align: middle;\n",
       "    }\n",
       "\n",
       "    .dataframe tbody tr th {\n",
       "        vertical-align: top;\n",
       "    }\n",
       "\n",
       "    .dataframe thead th {\n",
       "        text-align: right;\n",
       "    }\n",
       "</style>\n",
       "<table border=\"1\" class=\"dataframe\">\n",
       "  <thead>\n",
       "    <tr style=\"text-align: right;\">\n",
       "      <th></th>\n",
       "      <th>vendor_id</th>\n",
       "      <th>passenger_count</th>\n",
       "      <th>pickup_longitude</th>\n",
       "      <th>pickup_latitude</th>\n",
       "      <th>dropoff_longitude</th>\n",
       "      <th>dropoff_latitude</th>\n",
       "      <th>trip_duration</th>\n",
       "    </tr>\n",
       "  </thead>\n",
       "  <tbody>\n",
       "    <tr>\n",
       "      <th>count</th>\n",
       "      <td>1.458644e+06</td>\n",
       "      <td>1.458644e+06</td>\n",
       "      <td>1.458644e+06</td>\n",
       "      <td>1.458644e+06</td>\n",
       "      <td>1.458644e+06</td>\n",
       "      <td>1.458644e+06</td>\n",
       "      <td>1.458644e+06</td>\n",
       "    </tr>\n",
       "    <tr>\n",
       "      <th>mean</th>\n",
       "      <td>1.534950e+00</td>\n",
       "      <td>1.664530e+00</td>\n",
       "      <td>-7.397349e+01</td>\n",
       "      <td>4.075092e+01</td>\n",
       "      <td>-7.397342e+01</td>\n",
       "      <td>4.075180e+01</td>\n",
       "      <td>9.594923e+02</td>\n",
       "    </tr>\n",
       "    <tr>\n",
       "      <th>std</th>\n",
       "      <td>4.987772e-01</td>\n",
       "      <td>1.314242e+00</td>\n",
       "      <td>7.090186e-02</td>\n",
       "      <td>3.288119e-02</td>\n",
       "      <td>7.064327e-02</td>\n",
       "      <td>3.589056e-02</td>\n",
       "      <td>5.237432e+03</td>\n",
       "    </tr>\n",
       "    <tr>\n",
       "      <th>min</th>\n",
       "      <td>1.000000e+00</td>\n",
       "      <td>0.000000e+00</td>\n",
       "      <td>-1.219333e+02</td>\n",
       "      <td>3.435970e+01</td>\n",
       "      <td>-1.219333e+02</td>\n",
       "      <td>3.218114e+01</td>\n",
       "      <td>1.000000e+00</td>\n",
       "    </tr>\n",
       "    <tr>\n",
       "      <th>25%</th>\n",
       "      <td>1.000000e+00</td>\n",
       "      <td>1.000000e+00</td>\n",
       "      <td>-7.399187e+01</td>\n",
       "      <td>4.073735e+01</td>\n",
       "      <td>-7.399133e+01</td>\n",
       "      <td>4.073588e+01</td>\n",
       "      <td>3.970000e+02</td>\n",
       "    </tr>\n",
       "    <tr>\n",
       "      <th>50%</th>\n",
       "      <td>2.000000e+00</td>\n",
       "      <td>1.000000e+00</td>\n",
       "      <td>-7.398174e+01</td>\n",
       "      <td>4.075410e+01</td>\n",
       "      <td>-7.397975e+01</td>\n",
       "      <td>4.075452e+01</td>\n",
       "      <td>6.620000e+02</td>\n",
       "    </tr>\n",
       "    <tr>\n",
       "      <th>75%</th>\n",
       "      <td>2.000000e+00</td>\n",
       "      <td>2.000000e+00</td>\n",
       "      <td>-7.396733e+01</td>\n",
       "      <td>4.076836e+01</td>\n",
       "      <td>-7.396301e+01</td>\n",
       "      <td>4.076981e+01</td>\n",
       "      <td>1.075000e+03</td>\n",
       "    </tr>\n",
       "    <tr>\n",
       "      <th>max</th>\n",
       "      <td>2.000000e+00</td>\n",
       "      <td>9.000000e+00</td>\n",
       "      <td>-6.133553e+01</td>\n",
       "      <td>5.188108e+01</td>\n",
       "      <td>-6.133553e+01</td>\n",
       "      <td>4.392103e+01</td>\n",
       "      <td>3.526282e+06</td>\n",
       "    </tr>\n",
       "  </tbody>\n",
       "</table>\n",
       "</div>"
      ],
      "text/plain": [
       "          vendor_id  passenger_count  pickup_longitude  pickup_latitude  \\\n",
       "count  1.458644e+06     1.458644e+06      1.458644e+06     1.458644e+06   \n",
       "mean   1.534950e+00     1.664530e+00     -7.397349e+01     4.075092e+01   \n",
       "std    4.987772e-01     1.314242e+00      7.090186e-02     3.288119e-02   \n",
       "min    1.000000e+00     0.000000e+00     -1.219333e+02     3.435970e+01   \n",
       "25%    1.000000e+00     1.000000e+00     -7.399187e+01     4.073735e+01   \n",
       "50%    2.000000e+00     1.000000e+00     -7.398174e+01     4.075410e+01   \n",
       "75%    2.000000e+00     2.000000e+00     -7.396733e+01     4.076836e+01   \n",
       "max    2.000000e+00     9.000000e+00     -6.133553e+01     5.188108e+01   \n",
       "\n",
       "       dropoff_longitude  dropoff_latitude  trip_duration  \n",
       "count       1.458644e+06      1.458644e+06   1.458644e+06  \n",
       "mean       -7.397342e+01      4.075180e+01   9.594923e+02  \n",
       "std         7.064327e-02      3.589056e-02   5.237432e+03  \n",
       "min        -1.219333e+02      3.218114e+01   1.000000e+00  \n",
       "25%        -7.399133e+01      4.073588e+01   3.970000e+02  \n",
       "50%        -7.397975e+01      4.075452e+01   6.620000e+02  \n",
       "75%        -7.396301e+01      4.076981e+01   1.075000e+03  \n",
       "max        -6.133553e+01      4.392103e+01   3.526282e+06  "
      ]
     },
     "execution_count": 185,
     "metadata": {},
     "output_type": "execute_result"
    }
   ],
   "source": [
    "#Distruibuilão dos valores em cada coluna da base\n",
    "df_train.describe()"
   ]
  },
  {
   "cell_type": "code",
   "execution_count": 186,
   "id": "k26FVDl16gwh",
   "metadata": {
    "colab": {
     "base_uri": "https://localhost:8080/"
    },
    "id": "k26FVDl16gwh",
    "outputId": "9260ddb6-6e8f-462f-fe89-763010dc467a",
    "scrolled": true
   },
   "outputs": [
    {
     "data": {
      "text/plain": [
       "id                    0\n",
       "vendor_id             0\n",
       "pickup_datetime       0\n",
       "dropoff_datetime      0\n",
       "passenger_count       0\n",
       "pickup_longitude      0\n",
       "pickup_latitude       0\n",
       "dropoff_longitude     0\n",
       "dropoff_latitude      0\n",
       "store_and_fwd_flag    0\n",
       "trip_duration         0\n",
       "dtype: int64"
      ]
     },
     "execution_count": 186,
     "metadata": {},
     "output_type": "execute_result"
    }
   ],
   "source": [
    "#Não há valores nulos ou faltantes em todas as colunas\n",
    "df_train.isnull().sum()"
   ]
  },
  {
   "cell_type": "code",
   "execution_count": 187,
   "id": "StpRMFuKSbbR",
   "metadata": {
    "colab": {
     "base_uri": "https://localhost:8080/"
    },
    "id": "StpRMFuKSbbR",
    "outputId": "6a1022a9-51b4-421a-d09d-41e8cff39163"
   },
   "outputs": [
    {
     "name": "stdout",
     "output_type": "stream",
     "text": [
      "id - 1458644\n",
      "vendor_id - 2\n",
      "pickup_datetime - 1380222\n",
      "dropoff_datetime - 1380377\n",
      "passenger_count - 10\n",
      "pickup_longitude - 23047\n",
      "pickup_latitude - 45245\n",
      "dropoff_longitude - 33821\n",
      "dropoff_latitude - 62519\n",
      "store_and_fwd_flag - 2\n"
     ]
    }
   ],
   "source": [
    "#Quantidade de valores diferentes em cada variável independente\n",
    "print(\"id - {}\".format(df_train['id'].nunique()))\n",
    "print(\"vendor_id - {}\".format(df_train['vendor_id'].nunique()))\n",
    "print(\"pickup_datetime - {}\".format(df_train['pickup_datetime'].nunique()))\n",
    "print(\"dropoff_datetime - {}\".format(df_train['dropoff_datetime'].nunique()))\n",
    "print(\"passenger_count - {}\".format(df_train['passenger_count'].nunique()))\n",
    "print(\"pickup_longitude - {}\".format(df_train['pickup_longitude'].nunique()))\n",
    "print(\"pickup_latitude - {}\".format(df_train['pickup_latitude'].nunique()))\n",
    "print(\"dropoff_longitude - {}\".format(df_train['dropoff_longitude'].nunique()))\n",
    "print(\"dropoff_latitude - {}\".format(df_train['dropoff_latitude'].nunique()))\n",
    "print(\"store_and_fwd_flag - {}\".format(df_train['store_and_fwd_flag'].nunique()))"
   ]
  },
  {
   "cell_type": "code",
   "execution_count": 188,
   "id": "abka0pFn5y36",
   "metadata": {
    "colab": {
     "base_uri": "https://localhost:8080/",
     "height": 306
    },
    "id": "abka0pFn5y36",
    "outputId": "f3160336-7c0c-42ec-f4aa-9a523b05a6f5",
    "scrolled": true
   },
   "outputs": [
    {
     "data": {
      "text/plain": [
       "<AxesSubplot:>"
      ]
     },
     "execution_count": 188,
     "metadata": {},
     "output_type": "execute_result"
    },
    {
     "data": {
      "image/png": "[encoded data removed]",
      "text/plain": [
       "<Figure size 432x288 with 1 Axes>"
      ]
     },
     "metadata": {
      "needs_background": "light"
     },
     "output_type": "display_data"
    }
   ],
   "source": [
    "#historiograma da variável dependente\n",
    "df_train['trip_duration'].hist(bins=30)"
   ]
  },
  {
   "cell_type": "code",
   "execution_count": 189,
   "id": "4rov_iLn56L8",
   "metadata": {
    "colab": {
     "base_uri": "https://localhost:8080/",
     "height": 412
    },
    "id": "4rov_iLn56L8",
    "outputId": "7958e7d0-a3cb-490f-b4a0-d445e61274e5"
   },
   "outputs": [
    {
     "data": {
      "text/plain": [
       "{'whiskers': [<matplotlib.lines.Line2D at 0x209607e0f10>,\n",
       "  <matplotlib.lines.Line2D at 0x209607f02b0>],\n",
       " 'caps': [<matplotlib.lines.Line2D at 0x209607f0610>,\n",
       "  <matplotlib.lines.Line2D at 0x209607f0970>],\n",
       " 'boxes': [<matplotlib.lines.Line2D at 0x209607e0bb0>],\n",
       " 'medians': [<matplotlib.lines.Line2D at 0x209607f0ca0>],\n",
       " 'fliers': [<matplotlib.lines.Line2D at 0x209607f0fd0>],\n",
       " 'means': []}"
      ]
     },
     "execution_count": 189,
     "metadata": {},
     "output_type": "execute_result"
    },
    {
     "data": {
      "image/png": "[encoded data removed]",
      "text/plain": [
       "<Figure size 432x288 with 1 Axes>"
      ]
     },
     "metadata": {
      "needs_background": "light"
     },
     "output_type": "display_data"
    }
   ],
   "source": [
    "#Gráfico de boxplot da variável dependente\n",
    "plt.boxplot(df_train['trip_duration'])"
   ]
  },
  {
   "cell_type": "code",
   "execution_count": 190,
   "id": "f6582c07",
   "metadata": {},
   "outputs": [
    {
     "data": {
      "text/html": [
       "<div>\n",
       "<style scoped>\n",
       "    .dataframe tbody tr th:only-of-type {\n",
       "        vertical-align: middle;\n",
       "    }\n",
       "\n",
       "    .dataframe tbody tr th {\n",
       "        vertical-align: top;\n",
       "    }\n",
       "\n",
       "    .dataframe thead th {\n",
       "        text-align: right;\n",
       "    }\n",
       "</style>\n",
       "<table border=\"1\" class=\"dataframe\">\n",
       "  <thead>\n",
       "    <tr style=\"text-align: right;\">\n",
       "      <th></th>\n",
       "      <th>vendor_id</th>\n",
       "      <th>passenger_count</th>\n",
       "      <th>pickup_longitude</th>\n",
       "      <th>pickup_latitude</th>\n",
       "      <th>dropoff_longitude</th>\n",
       "      <th>dropoff_latitude</th>\n",
       "      <th>trip_duration</th>\n",
       "    </tr>\n",
       "  </thead>\n",
       "  <tbody>\n",
       "    <tr>\n",
       "      <th>vendor_id</th>\n",
       "      <td>1.000000</td>\n",
       "      <td>0.287415</td>\n",
       "      <td>0.007820</td>\n",
       "      <td>0.001742</td>\n",
       "      <td>0.001528</td>\n",
       "      <td>0.004496</td>\n",
       "      <td>0.020304</td>\n",
       "    </tr>\n",
       "    <tr>\n",
       "      <th>passenger_count</th>\n",
       "      <td>0.287415</td>\n",
       "      <td>1.000000</td>\n",
       "      <td>0.002169</td>\n",
       "      <td>-0.005125</td>\n",
       "      <td>-0.000343</td>\n",
       "      <td>-0.002762</td>\n",
       "      <td>0.008471</td>\n",
       "    </tr>\n",
       "    <tr>\n",
       "      <th>pickup_longitude</th>\n",
       "      <td>0.007820</td>\n",
       "      <td>0.002169</td>\n",
       "      <td>1.000000</td>\n",
       "      <td>0.022568</td>\n",
       "      <td>0.783582</td>\n",
       "      <td>0.100190</td>\n",
       "      <td>0.026542</td>\n",
       "    </tr>\n",
       "    <tr>\n",
       "      <th>pickup_latitude</th>\n",
       "      <td>0.001742</td>\n",
       "      <td>-0.005125</td>\n",
       "      <td>0.022568</td>\n",
       "      <td>1.000000</td>\n",
       "      <td>0.114884</td>\n",
       "      <td>0.494038</td>\n",
       "      <td>-0.029204</td>\n",
       "    </tr>\n",
       "    <tr>\n",
       "      <th>dropoff_longitude</th>\n",
       "      <td>0.001528</td>\n",
       "      <td>-0.000343</td>\n",
       "      <td>0.783582</td>\n",
       "      <td>0.114884</td>\n",
       "      <td>1.000000</td>\n",
       "      <td>0.124873</td>\n",
       "      <td>0.014678</td>\n",
       "    </tr>\n",
       "    <tr>\n",
       "      <th>dropoff_latitude</th>\n",
       "      <td>0.004496</td>\n",
       "      <td>-0.002762</td>\n",
       "      <td>0.100190</td>\n",
       "      <td>0.494038</td>\n",
       "      <td>0.124873</td>\n",
       "      <td>1.000000</td>\n",
       "      <td>-0.020677</td>\n",
       "    </tr>\n",
       "    <tr>\n",
       "      <th>trip_duration</th>\n",
       "      <td>0.020304</td>\n",
       "      <td>0.008471</td>\n",
       "      <td>0.026542</td>\n",
       "      <td>-0.029204</td>\n",
       "      <td>0.014678</td>\n",
       "      <td>-0.020677</td>\n",
       "      <td>1.000000</td>\n",
       "    </tr>\n",
       "  </tbody>\n",
       "</table>\n",
       "</div>"
      ],
      "text/plain": [
       "                   vendor_id  passenger_count  pickup_longitude  \\\n",
       "vendor_id           1.000000         0.287415          0.007820   \n",
       "passenger_count     0.287415         1.000000          0.002169   \n",
       "pickup_longitude    0.007820         0.002169          1.000000   \n",
       "pickup_latitude     0.001742        -0.005125          0.022568   \n",
       "dropoff_longitude   0.001528        -0.000343          0.783582   \n",
       "dropoff_latitude    0.004496        -0.002762          0.100190   \n",
       "trip_duration       0.020304         0.008471          0.026542   \n",
       "\n",
       "                   pickup_latitude  dropoff_longitude  dropoff_latitude  \\\n",
       "vendor_id                 0.001742           0.001528          0.004496   \n",
       "passenger_count          -0.005125          -0.000343         -0.002762   \n",
       "pickup_longitude          0.022568           0.783582          0.100190   \n",
       "pickup_latitude           1.000000           0.114884          0.494038   \n",
       "dropoff_longitude         0.114884           1.000000          0.124873   \n",
       "dropoff_latitude          0.494038           0.124873          1.000000   \n",
       "trip_duration            -0.029204           0.014678         -0.020677   \n",
       "\n",
       "                   trip_duration  \n",
       "vendor_id               0.020304  \n",
       "passenger_count         0.008471  \n",
       "pickup_longitude        0.026542  \n",
       "pickup_latitude        -0.029204  \n",
       "dropoff_longitude       0.014678  \n",
       "dropoff_latitude       -0.020677  \n",
       "trip_duration           1.000000  "
      ]
     },
     "execution_count": 190,
     "metadata": {},
     "output_type": "execute_result"
    }
   ],
   "source": [
    "#correlação entre as variáveis dependente e independentes\n",
    "df_train.corr()"
   ]
  },
  {
   "cell_type": "markdown",
   "id": "6b9424de",
   "metadata": {
    "id": "6b9424de"
   },
   "source": [
    "## Data Preparation"
   ]
  },
  {
   "cell_type": "markdown",
   "id": "3ac5ee5f",
   "metadata": {
    "id": "3ac5ee5f"
   },
   "source": [
    "##### A variável store_and_fwd_flag possui apenas dois valores distintos no total. "
   ]
  },
  {
   "cell_type": "code",
   "execution_count": 191,
   "id": "YZMSKkGMNogj",
   "metadata": {
    "colab": {
     "base_uri": "https://localhost:8080/"
    },
    "id": "YZMSKkGMNogj",
    "outputId": "89ad48bc-822c-4629-a3bc-c31741363fdf"
   },
   "outputs": [
    {
     "data": {
      "text/plain": [
       "N    1450599\n",
       "Y       8045\n",
       "Name: store_and_fwd_flag, dtype: int64"
      ]
     },
     "execution_count": 191,
     "metadata": {},
     "output_type": "execute_result"
    }
   ],
   "source": [
    "df_train['store_and_fwd_flag'].value_counts()"
   ]
  },
  {
   "cell_type": "markdown",
   "id": "PgiD8mR6N_AX",
   "metadata": {
    "id": "PgiD8mR6N_AX"
   },
   "source": [
    "#### Olhando um pouco mais de perto, a variável store_and_fwd_flag, além de ter poucos valores diferentes também possui uma distribuição muito baixa entre os dados. Como essa variável já é categórica, decidi não utiliza-la para treinar o modelo"
   ]
  },
  {
   "cell_type": "code",
   "execution_count": 192,
   "id": "skB5nKbeVgLo",
   "metadata": {
    "id": "skB5nKbeVgLo"
   },
   "outputs": [],
   "source": [
    "#A coluna abaixo não será utilizada\n",
    "df_train.drop(['store_and_fwd_flag'], axis=1, inplace=True)"
   ]
  },
  {
   "cell_type": "code",
   "execution_count": 193,
   "id": "aff093c9",
   "metadata": {
    "scrolled": true
   },
   "outputs": [
    {
     "data": {
      "text/plain": [
       "2    780302\n",
       "1    678342\n",
       "Name: vendor_id, dtype: int64"
      ]
     },
     "execution_count": 193,
     "metadata": {},
     "output_type": "execute_result"
    }
   ],
   "source": [
    "df_train['vendor_id'].value_counts()"
   ]
  },
  {
   "cell_type": "code",
   "execution_count": 194,
   "id": "b0284fcb",
   "metadata": {},
   "outputs": [],
   "source": [
    "df_train.drop(['vendor_id'], axis=1, inplace=True)"
   ]
  },
  {
   "cell_type": "markdown",
   "id": "2e516ab0",
   "metadata": {},
   "source": [
    "#### A variável vendor_id também possui apenas dois valores distintos, mas sua distruibuição é bem mais equilibrada entre os dados. Entretanto, a correlação com a variável independente é baixa. Não há alguma informação explicita na documentação da base de dados que represente cada um dos valores da variável além da breve descrição apresetanda anteriormente. Decidi remove-la da análise"
   ]
  },
  {
   "cell_type": "markdown",
   "id": "600dcc2f",
   "metadata": {
    "id": "600dcc2f"
   },
   "source": [
    "#####    É necessário realizar algumas manipulações na variável pickup datetime. A variável é do tipo string, e como temos  um milhão quatrocentos e oitenta e seis seicentos e quarenta e quatro linhas no dataframe, uma mudança para variável tipo dummy é impraticavel pela quantidade de dados. Vou dividir os dados nas seguintes categorias:\n",
    "\n",
    "###### 00:00 até 05:59 - madrugada\n",
    "###### 06:00 até 11:59 - manhã\n",
    "###### 12:00 até 17:59 - tarde\n",
    "###### 18:00 até 23:59 - noite\n",
    "\n",
    "#####    Em relação a variável dropoff datetime, decidi não utilizala pois ela tem o mesmo sentido que o resultado da previsão do tempo da corrida."
   ]
  },
  {
   "cell_type": "code",
   "execution_count": 195,
   "id": "qB9wTCTBVNBU",
   "metadata": {
    "id": "qB9wTCTBVNBU"
   },
   "outputs": [],
   "source": [
    "#A coluna abaixo não será utilizada\n",
    "df_train.drop(['dropoff_datetime'], axis=1, inplace=True)"
   ]
  },
  {
   "cell_type": "code",
   "execution_count": 196,
   "id": "b637b166",
   "metadata": {
    "id": "b637b166",
    "scrolled": false
   },
   "outputs": [],
   "source": [
    "#convertendo variáveis de string para datetime\n",
    "df_train['pickup_datetime'] = pd.to_datetime(df_train['pickup_datetime'])\n",
    "\n",
    "df_temp = df_train.loc[:, ['pickup_datetime']]\n",
    "\n",
    "#Convertendo horários e datas para períodos do dia na variável pickup_datetime\n",
    "df_train.loc[(df_temp['pickup_datetime'].dt.time >= time(0, 0, 0)) & (df_temp['pickup_datetime'].dt.time < time(6, 0, 0)), 'pickup_datetime'] = 'madrugada'\n",
    "df_train.loc[(df_temp['pickup_datetime'].dt.time >= time(6, 0, 0)) & (df_temp['pickup_datetime'].dt.time < time(12, 0, 0)), 'pickup_datetime'] = 'manha'\n",
    "df_train.loc[(df_temp['pickup_datetime'].dt.time >= time(12, 0, 0)) & (df_temp['pickup_datetime'].dt.time < time(18, 0, 0)), 'pickup_datetime'] = 'tarde'\n",
    "df_train.loc[(df_temp['pickup_datetime'].dt.time >= time(18, 0, 0)) & (df_temp['pickup_datetime'].dt.time <= time(23, 59, 59)), 'pickup_datetime'] = 'noite'"
   ]
  },
  {
   "cell_type": "code",
   "execution_count": 197,
   "id": "16fb7141",
   "metadata": {
    "id": "16fb7141"
   },
   "outputs": [],
   "source": [
    "#transformando os dados da coluna pickup_datetime para variáveis dummy\n",
    "df_train = pd.get_dummies(df_train, columns=['pickup_datetime'])"
   ]
  },
  {
   "cell_type": "markdown",
   "id": "HuLrdeKITqzl",
   "metadata": {
    "id": "HuLrdeKITqzl"
   },
   "source": [
    "##### Temos no dataset quatro variáveis de coordenadas geográficas. Com base nessas variáveis conseguimos obter uma distância aproximada da corrida. Isso é interessante para tentar criar uma correlação maior com a variável target trip_duration. Como este é um projeto expiremental, vou utilizar a distância de haversine. Essa distância seria uma linha reta entre dois pontos no globo terrestre. Não utilizei bibliotecas como as do google maps devido a cobrança por requests ou por baixo desempenho de bibliotecas gratuitas."
   ]
  },
  {
   "cell_type": "code",
   "execution_count": 198,
   "id": "eb819398",
   "metadata": {
    "id": "eb819398"
   },
   "outputs": [],
   "source": [
    "#Convertendo as coordenadas geográficas para distância em kilometros\n",
    "kilometragem = df_train.apply(\n",
    "                                    lambda row: round(haversine((row['pickup_latitude'], row['pickup_longitude']),\n",
    "                                                        (row['dropoff_latitude'],row['dropoff_longitude'])), 1),\n",
    "                                    axis=1\n",
    "                                )\n",
    "\n",
    "df_train['kilometragem'] = kilometragem"
   ]
  },
  {
   "cell_type": "code",
   "execution_count": 199,
   "id": "LKsYGweTUnvy",
   "metadata": {
    "id": "LKsYGweTUnvy"
   },
   "outputs": [],
   "source": [
    "#As colunas abaixo foram transformadas para a nova coluna Kilometragem. Não será mais necessário utiliza-las.\n",
    "df_train.drop(['pickup_latitude', 'pickup_longitude', 'dropoff_latitude', 'dropoff_longitude'], axis=1, inplace=True)"
   ]
  },
  {
   "cell_type": "code",
   "execution_count": 200,
   "id": "1e078c51",
   "metadata": {},
   "outputs": [
    {
     "data": {
      "text/plain": [
       "count    1.458644e+06\n",
       "mean     3.440831e+00\n",
       "std      4.296641e+00\n",
       "min      0.000000e+00\n",
       "25%      1.200000e+00\n",
       "50%      2.100000e+00\n",
       "75%      3.900000e+00\n",
       "max      1.240900e+03\n",
       "Name: kilometragem, dtype: float64"
      ]
     },
     "execution_count": 200,
     "metadata": {},
     "output_type": "execute_result"
    }
   ],
   "source": [
    "#como ficou a distribuição dos dados após a transformação das variáveis de coordenada\n",
    "df_train['kilometragem'].describe()"
   ]
  },
  {
   "cell_type": "code",
   "execution_count": 201,
   "id": "e834121a",
   "metadata": {
    "scrolled": true
   },
   "outputs": [
    {
     "data": {
      "text/html": [
       "<div>\n",
       "<style scoped>\n",
       "    .dataframe tbody tr th:only-of-type {\n",
       "        vertical-align: middle;\n",
       "    }\n",
       "\n",
       "    .dataframe tbody tr th {\n",
       "        vertical-align: top;\n",
       "    }\n",
       "\n",
       "    .dataframe thead th {\n",
       "        text-align: right;\n",
       "    }\n",
       "</style>\n",
       "<table border=\"1\" class=\"dataframe\">\n",
       "  <thead>\n",
       "    <tr style=\"text-align: right;\">\n",
       "      <th></th>\n",
       "      <th>id</th>\n",
       "      <th>passenger_count</th>\n",
       "      <th>trip_duration</th>\n",
       "      <th>pickup_datetime_madrugada</th>\n",
       "      <th>pickup_datetime_manha</th>\n",
       "      <th>pickup_datetime_noite</th>\n",
       "      <th>pickup_datetime_tarde</th>\n",
       "      <th>kilometragem</th>\n",
       "    </tr>\n",
       "  </thead>\n",
       "  <tbody>\n",
       "    <tr>\n",
       "      <th>246</th>\n",
       "      <td>id3487442</td>\n",
       "      <td>1</td>\n",
       "      <td>227</td>\n",
       "      <td>0</td>\n",
       "      <td>0</td>\n",
       "      <td>1</td>\n",
       "      <td>0</td>\n",
       "      <td>0.0</td>\n",
       "    </tr>\n",
       "    <tr>\n",
       "      <th>291</th>\n",
       "      <td>id0924324</td>\n",
       "      <td>2</td>\n",
       "      <td>1109</td>\n",
       "      <td>0</td>\n",
       "      <td>0</td>\n",
       "      <td>1</td>\n",
       "      <td>0</td>\n",
       "      <td>0.0</td>\n",
       "    </tr>\n",
       "    <tr>\n",
       "      <th>323</th>\n",
       "      <td>id2954399</td>\n",
       "      <td>1</td>\n",
       "      <td>40</td>\n",
       "      <td>0</td>\n",
       "      <td>1</td>\n",
       "      <td>0</td>\n",
       "      <td>0</td>\n",
       "      <td>0.0</td>\n",
       "    </tr>\n",
       "    <tr>\n",
       "      <th>337</th>\n",
       "      <td>id0790613</td>\n",
       "      <td>1</td>\n",
       "      <td>1778</td>\n",
       "      <td>0</td>\n",
       "      <td>0</td>\n",
       "      <td>0</td>\n",
       "      <td>1</td>\n",
       "      <td>0.0</td>\n",
       "    </tr>\n",
       "    <tr>\n",
       "      <th>407</th>\n",
       "      <td>id1145809</td>\n",
       "      <td>6</td>\n",
       "      <td>947</td>\n",
       "      <td>0</td>\n",
       "      <td>0</td>\n",
       "      <td>1</td>\n",
       "      <td>0</td>\n",
       "      <td>0.0</td>\n",
       "    </tr>\n",
       "    <tr>\n",
       "      <th>...</th>\n",
       "      <td>...</td>\n",
       "      <td>...</td>\n",
       "      <td>...</td>\n",
       "      <td>...</td>\n",
       "      <td>...</td>\n",
       "      <td>...</td>\n",
       "      <td>...</td>\n",
       "      <td>...</td>\n",
       "    </tr>\n",
       "    <tr>\n",
       "      <th>1457746</th>\n",
       "      <td>id1044471</td>\n",
       "      <td>1</td>\n",
       "      <td>12</td>\n",
       "      <td>0</td>\n",
       "      <td>0</td>\n",
       "      <td>1</td>\n",
       "      <td>0</td>\n",
       "      <td>0.0</td>\n",
       "    </tr>\n",
       "    <tr>\n",
       "      <th>1458044</th>\n",
       "      <td>id3200588</td>\n",
       "      <td>1</td>\n",
       "      <td>7</td>\n",
       "      <td>1</td>\n",
       "      <td>0</td>\n",
       "      <td>0</td>\n",
       "      <td>0</td>\n",
       "      <td>0.0</td>\n",
       "    </tr>\n",
       "    <tr>\n",
       "      <th>1458291</th>\n",
       "      <td>id0078326</td>\n",
       "      <td>1</td>\n",
       "      <td>318</td>\n",
       "      <td>1</td>\n",
       "      <td>0</td>\n",
       "      <td>0</td>\n",
       "      <td>0</td>\n",
       "      <td>0.0</td>\n",
       "    </tr>\n",
       "    <tr>\n",
       "      <th>1458544</th>\n",
       "      <td>id3958653</td>\n",
       "      <td>1</td>\n",
       "      <td>38</td>\n",
       "      <td>0</td>\n",
       "      <td>0</td>\n",
       "      <td>0</td>\n",
       "      <td>1</td>\n",
       "      <td>0.0</td>\n",
       "    </tr>\n",
       "    <tr>\n",
       "      <th>1458602</th>\n",
       "      <td>id2089150</td>\n",
       "      <td>1</td>\n",
       "      <td>26</td>\n",
       "      <td>0</td>\n",
       "      <td>0</td>\n",
       "      <td>0</td>\n",
       "      <td>1</td>\n",
       "      <td>0.0</td>\n",
       "    </tr>\n",
       "  </tbody>\n",
       "</table>\n",
       "<p>11329 rows × 8 columns</p>\n",
       "</div>"
      ],
      "text/plain": [
       "                id  passenger_count  trip_duration  pickup_datetime_madrugada  \\\n",
       "246      id3487442                1            227                          0   \n",
       "291      id0924324                2           1109                          0   \n",
       "323      id2954399                1             40                          0   \n",
       "337      id0790613                1           1778                          0   \n",
       "407      id1145809                6            947                          0   \n",
       "...            ...              ...            ...                        ...   \n",
       "1457746  id1044471                1             12                          0   \n",
       "1458044  id3200588                1              7                          1   \n",
       "1458291  id0078326                1            318                          1   \n",
       "1458544  id3958653                1             38                          0   \n",
       "1458602  id2089150                1             26                          0   \n",
       "\n",
       "         pickup_datetime_manha  pickup_datetime_noite  pickup_datetime_tarde  \\\n",
       "246                          0                      1                      0   \n",
       "291                          0                      1                      0   \n",
       "323                          1                      0                      0   \n",
       "337                          0                      0                      1   \n",
       "407                          0                      1                      0   \n",
       "...                        ...                    ...                    ...   \n",
       "1457746                      0                      1                      0   \n",
       "1458044                      0                      0                      0   \n",
       "1458291                      0                      0                      0   \n",
       "1458544                      0                      0                      1   \n",
       "1458602                      0                      0                      1   \n",
       "\n",
       "         kilometragem  \n",
       "246               0.0  \n",
       "291               0.0  \n",
       "323               0.0  \n",
       "337               0.0  \n",
       "407               0.0  \n",
       "...               ...  \n",
       "1457746           0.0  \n",
       "1458044           0.0  \n",
       "1458291           0.0  \n",
       "1458544           0.0  \n",
       "1458602           0.0  \n",
       "\n",
       "[11329 rows x 8 columns]"
      ]
     },
     "execution_count": 201,
     "metadata": {},
     "output_type": "execute_result"
    }
   ],
   "source": [
    "df_train[df_train['kilometragem'] == 0]"
   ]
  },
  {
   "cell_type": "markdown",
   "id": "b33544c7",
   "metadata": {},
   "source": [
    "#### Após a transformação para a variável kilometragem, alguns valores ficaram zerados. Não é interessante para este algoritmo aprender valores zerados de distância. Abaixo será realizado a limpeza destes dados"
   ]
  },
  {
   "cell_type": "code",
   "execution_count": 202,
   "id": "4e5f497f",
   "metadata": {},
   "outputs": [],
   "source": [
    "filtered_km = df_train.query('kilometragem == 0')\n",
    "df_train.drop(filtered_km.index, inplace=True)"
   ]
  },
  {
   "cell_type": "code",
   "execution_count": 203,
   "id": "0324eae0",
   "metadata": {
    "colab": {
     "base_uri": "https://localhost:8080/",
     "height": 204
    },
    "id": "0324eae0",
    "outputId": "baeefee9-5f8e-4621-97d5-8dde2c590c4c",
    "scrolled": false
   },
   "outputs": [
    {
     "data": {
      "text/html": [
       "<div>\n",
       "<style scoped>\n",
       "    .dataframe tbody tr th:only-of-type {\n",
       "        vertical-align: middle;\n",
       "    }\n",
       "\n",
       "    .dataframe tbody tr th {\n",
       "        vertical-align: top;\n",
       "    }\n",
       "\n",
       "    .dataframe thead th {\n",
       "        text-align: right;\n",
       "    }\n",
       "</style>\n",
       "<table border=\"1\" class=\"dataframe\">\n",
       "  <thead>\n",
       "    <tr style=\"text-align: right;\">\n",
       "      <th></th>\n",
       "      <th>id</th>\n",
       "      <th>passenger_count</th>\n",
       "      <th>trip_duration</th>\n",
       "      <th>pickup_datetime_madrugada</th>\n",
       "      <th>pickup_datetime_manha</th>\n",
       "      <th>pickup_datetime_noite</th>\n",
       "      <th>pickup_datetime_tarde</th>\n",
       "      <th>kilometragem</th>\n",
       "    </tr>\n",
       "  </thead>\n",
       "  <tbody>\n",
       "    <tr>\n",
       "      <th>0</th>\n",
       "      <td>id2875421</td>\n",
       "      <td>1</td>\n",
       "      <td>455</td>\n",
       "      <td>0</td>\n",
       "      <td>0</td>\n",
       "      <td>0</td>\n",
       "      <td>1</td>\n",
       "      <td>1.5</td>\n",
       "    </tr>\n",
       "    <tr>\n",
       "      <th>1</th>\n",
       "      <td>id2377394</td>\n",
       "      <td>1</td>\n",
       "      <td>663</td>\n",
       "      <td>1</td>\n",
       "      <td>0</td>\n",
       "      <td>0</td>\n",
       "      <td>0</td>\n",
       "      <td>1.8</td>\n",
       "    </tr>\n",
       "    <tr>\n",
       "      <th>2</th>\n",
       "      <td>id3858529</td>\n",
       "      <td>1</td>\n",
       "      <td>2124</td>\n",
       "      <td>0</td>\n",
       "      <td>1</td>\n",
       "      <td>0</td>\n",
       "      <td>0</td>\n",
       "      <td>6.4</td>\n",
       "    </tr>\n",
       "    <tr>\n",
       "      <th>3</th>\n",
       "      <td>id3504673</td>\n",
       "      <td>1</td>\n",
       "      <td>429</td>\n",
       "      <td>0</td>\n",
       "      <td>0</td>\n",
       "      <td>1</td>\n",
       "      <td>0</td>\n",
       "      <td>1.5</td>\n",
       "    </tr>\n",
       "    <tr>\n",
       "      <th>4</th>\n",
       "      <td>id2181028</td>\n",
       "      <td>1</td>\n",
       "      <td>435</td>\n",
       "      <td>0</td>\n",
       "      <td>0</td>\n",
       "      <td>0</td>\n",
       "      <td>1</td>\n",
       "      <td>1.2</td>\n",
       "    </tr>\n",
       "  </tbody>\n",
       "</table>\n",
       "</div>"
      ],
      "text/plain": [
       "          id  passenger_count  trip_duration  pickup_datetime_madrugada  \\\n",
       "0  id2875421                1            455                          0   \n",
       "1  id2377394                1            663                          1   \n",
       "2  id3858529                1           2124                          0   \n",
       "3  id3504673                1            429                          0   \n",
       "4  id2181028                1            435                          0   \n",
       "\n",
       "   pickup_datetime_manha  pickup_datetime_noite  pickup_datetime_tarde  \\\n",
       "0                      0                      0                      1   \n",
       "1                      0                      0                      0   \n",
       "2                      1                      0                      0   \n",
       "3                      0                      1                      0   \n",
       "4                      0                      0                      1   \n",
       "\n",
       "   kilometragem  \n",
       "0           1.5  \n",
       "1           1.8  \n",
       "2           6.4  \n",
       "3           1.5  \n",
       "4           1.2  "
      ]
     },
     "execution_count": 203,
     "metadata": {},
     "output_type": "execute_result"
    }
   ],
   "source": [
    "#Como ficou o dataframe após as transformações\n",
    "df_train.head()"
   ]
  },
  {
   "cell_type": "code",
   "execution_count": 204,
   "id": "537ed1f7",
   "metadata": {},
   "outputs": [
    {
     "data": {
      "text/html": [
       "<div>\n",
       "<style scoped>\n",
       "    .dataframe tbody tr th:only-of-type {\n",
       "        vertical-align: middle;\n",
       "    }\n",
       "\n",
       "    .dataframe tbody tr th {\n",
       "        vertical-align: top;\n",
       "    }\n",
       "\n",
       "    .dataframe thead th {\n",
       "        text-align: right;\n",
       "    }\n",
       "</style>\n",
       "<table border=\"1\" class=\"dataframe\">\n",
       "  <thead>\n",
       "    <tr style=\"text-align: right;\">\n",
       "      <th></th>\n",
       "      <th>passenger_count</th>\n",
       "      <th>trip_duration</th>\n",
       "      <th>pickup_datetime_madrugada</th>\n",
       "      <th>pickup_datetime_manha</th>\n",
       "      <th>pickup_datetime_noite</th>\n",
       "      <th>pickup_datetime_tarde</th>\n",
       "      <th>kilometragem</th>\n",
       "    </tr>\n",
       "  </thead>\n",
       "  <tbody>\n",
       "    <tr>\n",
       "      <th>passenger_count</th>\n",
       "      <td>1.000000</td>\n",
       "      <td>0.008408</td>\n",
       "      <td>0.007668</td>\n",
       "      <td>-0.019891</td>\n",
       "      <td>0.008741</td>\n",
       "      <td>0.004255</td>\n",
       "      <td>0.009857</td>\n",
       "    </tr>\n",
       "    <tr>\n",
       "      <th>trip_duration</th>\n",
       "      <td>0.008408</td>\n",
       "      <td>1.000000</td>\n",
       "      <td>-0.003691</td>\n",
       "      <td>-0.005448</td>\n",
       "      <td>-0.003858</td>\n",
       "      <td>0.011759</td>\n",
       "      <td>0.094625</td>\n",
       "    </tr>\n",
       "    <tr>\n",
       "      <th>pickup_datetime_madrugada</th>\n",
       "      <td>0.007668</td>\n",
       "      <td>-0.003691</td>\n",
       "      <td>1.000000</td>\n",
       "      <td>-0.207748</td>\n",
       "      <td>-0.263188</td>\n",
       "      <td>-0.235765</td>\n",
       "      <td>0.063879</td>\n",
       "    </tr>\n",
       "    <tr>\n",
       "      <th>pickup_datetime_manha</th>\n",
       "      <td>-0.019891</td>\n",
       "      <td>-0.005448</td>\n",
       "      <td>-0.207748</td>\n",
       "      <td>1.000000</td>\n",
       "      <td>-0.411428</td>\n",
       "      <td>-0.368560</td>\n",
       "      <td>-0.036549</td>\n",
       "    </tr>\n",
       "    <tr>\n",
       "      <th>pickup_datetime_noite</th>\n",
       "      <td>0.008741</td>\n",
       "      <td>-0.003858</td>\n",
       "      <td>-0.263188</td>\n",
       "      <td>-0.411428</td>\n",
       "      <td>1.000000</td>\n",
       "      <td>-0.466914</td>\n",
       "      <td>0.006950</td>\n",
       "    </tr>\n",
       "    <tr>\n",
       "      <th>pickup_datetime_tarde</th>\n",
       "      <td>0.004255</td>\n",
       "      <td>0.011759</td>\n",
       "      <td>-0.235765</td>\n",
       "      <td>-0.368560</td>\n",
       "      <td>-0.466914</td>\n",
       "      <td>1.000000</td>\n",
       "      <td>-0.017831</td>\n",
       "    </tr>\n",
       "    <tr>\n",
       "      <th>kilometragem</th>\n",
       "      <td>0.009857</td>\n",
       "      <td>0.094625</td>\n",
       "      <td>0.063879</td>\n",
       "      <td>-0.036549</td>\n",
       "      <td>0.006950</td>\n",
       "      <td>-0.017831</td>\n",
       "      <td>1.000000</td>\n",
       "    </tr>\n",
       "  </tbody>\n",
       "</table>\n",
       "</div>"
      ],
      "text/plain": [
       "                           passenger_count  trip_duration  \\\n",
       "passenger_count                   1.000000       0.008408   \n",
       "trip_duration                     0.008408       1.000000   \n",
       "pickup_datetime_madrugada         0.007668      -0.003691   \n",
       "pickup_datetime_manha            -0.019891      -0.005448   \n",
       "pickup_datetime_noite             0.008741      -0.003858   \n",
       "pickup_datetime_tarde             0.004255       0.011759   \n",
       "kilometragem                      0.009857       0.094625   \n",
       "\n",
       "                           pickup_datetime_madrugada  pickup_datetime_manha  \\\n",
       "passenger_count                             0.007668              -0.019891   \n",
       "trip_duration                              -0.003691              -0.005448   \n",
       "pickup_datetime_madrugada                   1.000000              -0.207748   \n",
       "pickup_datetime_manha                      -0.207748               1.000000   \n",
       "pickup_datetime_noite                      -0.263188              -0.411428   \n",
       "pickup_datetime_tarde                      -0.235765              -0.368560   \n",
       "kilometragem                                0.063879              -0.036549   \n",
       "\n",
       "                           pickup_datetime_noite  pickup_datetime_tarde  \\\n",
       "passenger_count                         0.008741               0.004255   \n",
       "trip_duration                          -0.003858               0.011759   \n",
       "pickup_datetime_madrugada              -0.263188              -0.235765   \n",
       "pickup_datetime_manha                  -0.411428              -0.368560   \n",
       "pickup_datetime_noite                   1.000000              -0.466914   \n",
       "pickup_datetime_tarde                  -0.466914               1.000000   \n",
       "kilometragem                            0.006950              -0.017831   \n",
       "\n",
       "                           kilometragem  \n",
       "passenger_count                0.009857  \n",
       "trip_duration                  0.094625  \n",
       "pickup_datetime_madrugada      0.063879  \n",
       "pickup_datetime_manha         -0.036549  \n",
       "pickup_datetime_noite          0.006950  \n",
       "pickup_datetime_tarde         -0.017831  \n",
       "kilometragem                   1.000000  "
      ]
     },
     "execution_count": 204,
     "metadata": {},
     "output_type": "execute_result"
    }
   ],
   "source": [
    "df_train.corr()"
   ]
  },
  {
   "cell_type": "markdown",
   "id": "bc22de4c",
   "metadata": {},
   "source": [
    "#### Com as transformações que realizamos ainda não conseguimos atingir uma correlação interessante entre as variáveis. Entretanto, existem diversos outliers na variável trip_duration (variavel independente). Isso pode estar atrapalhando a correlação entre as variáveis. Abaixo será realizada a limpeza dos dados outliers desta variável utilizando o método IQR (Inter Quartile Range)"
   ]
  },
  {
   "cell_type": "code",
   "execution_count": 205,
   "id": "sJCnxXO__b2B",
   "metadata": {
    "id": "sJCnxXO__b2B"
   },
   "outputs": [],
   "source": [
    "Q1 = df_train['trip_duration'].quantile(0.25)\n",
    "Q3 = df_train['trip_duration'].quantile(0.75)\n",
    "IQR = Q3 - Q1\n",
    "\n",
    "filtered = df_train.query('(@Q1 - 1.5 * @IQR) < trip_duration > (@Q3 + 1.5 * @IQR)')\n",
    "df_train.drop(filtered.index, inplace=True)"
   ]
  },
  {
   "cell_type": "code",
   "execution_count": 206,
   "id": "08524e4d",
   "metadata": {},
   "outputs": [
    {
     "data": {
      "text/plain": [
       "{'whiskers': [<matplotlib.lines.Line2D at 0x2091b5403a0>,\n",
       "  <matplotlib.lines.Line2D at 0x2091b644c10>],\n",
       " 'caps': [<matplotlib.lines.Line2D at 0x2091b9f4520>,\n",
       "  <matplotlib.lines.Line2D at 0x2091b3d1df0>],\n",
       " 'boxes': [<matplotlib.lines.Line2D at 0x2094a865790>],\n",
       " 'medians': [<matplotlib.lines.Line2D at 0x2091b3d1190>],\n",
       " 'fliers': [<matplotlib.lines.Line2D at 0x2091b3e9220>],\n",
       " 'means': []}"
      ]
     },
     "execution_count": 206,
     "metadata": {},
     "output_type": "execute_result"
    },
    {
     "data": {
      "image/png": "[encoded data removed]",
      "text/plain": [
       "<Figure size 432x288 with 1 Axes>"
      ]
     },
     "metadata": {
      "needs_background": "light"
     },
     "output_type": "display_data"
    }
   ],
   "source": [
    "plt.boxplot(df_train['trip_duration'])"
   ]
  },
  {
   "cell_type": "code",
   "execution_count": 207,
   "id": "d27c899e",
   "metadata": {
    "scrolled": true
   },
   "outputs": [
    {
     "data": {
      "text/plain": [
       "<AxesSubplot:>"
      ]
     },
     "execution_count": 207,
     "metadata": {},
     "output_type": "execute_result"
    },
    {
     "data": {
      "image/png": "[encoded data removed]",
      "text/plain": [
       "<Figure size 432x288 with 1 Axes>"
      ]
     },
     "metadata": {
      "needs_background": "light"
     },
     "output_type": "display_data"
    }
   ],
   "source": [
    "df_train['trip_duration'].hist(bins=30)"
   ]
  },
  {
   "cell_type": "markdown",
   "id": "a9c9ca20",
   "metadata": {},
   "source": [
    "#### A distribuição dos valroes e a distância entre os outliers e o máximo do gráfico de boxplot melhorou considerávelmente após a limpeza dos dados na variável trip_duration"
   ]
  },
  {
   "cell_type": "code",
   "execution_count": 208,
   "id": "bd774d6a",
   "metadata": {
    "scrolled": true
   },
   "outputs": [
    {
     "data": {
      "text/html": [
       "<div>\n",
       "<style scoped>\n",
       "    .dataframe tbody tr th:only-of-type {\n",
       "        vertical-align: middle;\n",
       "    }\n",
       "\n",
       "    .dataframe tbody tr th {\n",
       "        vertical-align: top;\n",
       "    }\n",
       "\n",
       "    .dataframe thead th {\n",
       "        text-align: right;\n",
       "    }\n",
       "</style>\n",
       "<table border=\"1\" class=\"dataframe\">\n",
       "  <thead>\n",
       "    <tr style=\"text-align: right;\">\n",
       "      <th></th>\n",
       "      <th>passenger_count</th>\n",
       "      <th>trip_duration</th>\n",
       "      <th>pickup_datetime_madrugada</th>\n",
       "      <th>pickup_datetime_manha</th>\n",
       "      <th>pickup_datetime_noite</th>\n",
       "      <th>pickup_datetime_tarde</th>\n",
       "      <th>kilometragem</th>\n",
       "    </tr>\n",
       "  </thead>\n",
       "  <tbody>\n",
       "    <tr>\n",
       "      <th>passenger_count</th>\n",
       "      <td>1.000000</td>\n",
       "      <td>0.010363</td>\n",
       "      <td>0.008290</td>\n",
       "      <td>-0.020174</td>\n",
       "      <td>0.009423</td>\n",
       "      <td>0.003314</td>\n",
       "      <td>0.004923</td>\n",
       "    </tr>\n",
       "    <tr>\n",
       "      <th>trip_duration</th>\n",
       "      <td>0.010363</td>\n",
       "      <td>1.000000</td>\n",
       "      <td>-0.025750</td>\n",
       "      <td>-0.018342</td>\n",
       "      <td>-0.002006</td>\n",
       "      <td>0.038156</td>\n",
       "      <td>0.601224</td>\n",
       "    </tr>\n",
       "    <tr>\n",
       "      <th>pickup_datetime_madrugada</th>\n",
       "      <td>0.008290</td>\n",
       "      <td>-0.025750</td>\n",
       "      <td>1.000000</td>\n",
       "      <td>-0.211666</td>\n",
       "      <td>-0.270378</td>\n",
       "      <td>-0.234762</td>\n",
       "      <td>0.122473</td>\n",
       "    </tr>\n",
       "    <tr>\n",
       "      <th>pickup_datetime_manha</th>\n",
       "      <td>-0.020174</td>\n",
       "      <td>-0.018342</td>\n",
       "      <td>-0.211666</td>\n",
       "      <td>1.000000</td>\n",
       "      <td>-0.416308</td>\n",
       "      <td>-0.361468</td>\n",
       "      <td>-0.038761</td>\n",
       "    </tr>\n",
       "    <tr>\n",
       "      <th>pickup_datetime_noite</th>\n",
       "      <td>0.009423</td>\n",
       "      <td>-0.002006</td>\n",
       "      <td>-0.270378</td>\n",
       "      <td>-0.416308</td>\n",
       "      <td>1.000000</td>\n",
       "      <td>-0.461732</td>\n",
       "      <td>0.033516</td>\n",
       "    </tr>\n",
       "    <tr>\n",
       "      <th>pickup_datetime_tarde</th>\n",
       "      <td>0.003314</td>\n",
       "      <td>0.038156</td>\n",
       "      <td>-0.234762</td>\n",
       "      <td>-0.361468</td>\n",
       "      <td>-0.461732</td>\n",
       "      <td>1.000000</td>\n",
       "      <td>-0.086705</td>\n",
       "    </tr>\n",
       "    <tr>\n",
       "      <th>kilometragem</th>\n",
       "      <td>0.004923</td>\n",
       "      <td>0.601224</td>\n",
       "      <td>0.122473</td>\n",
       "      <td>-0.038761</td>\n",
       "      <td>0.033516</td>\n",
       "      <td>-0.086705</td>\n",
       "      <td>1.000000</td>\n",
       "    </tr>\n",
       "  </tbody>\n",
       "</table>\n",
       "</div>"
      ],
      "text/plain": [
       "                           passenger_count  trip_duration  \\\n",
       "passenger_count                   1.000000       0.010363   \n",
       "trip_duration                     0.010363       1.000000   \n",
       "pickup_datetime_madrugada         0.008290      -0.025750   \n",
       "pickup_datetime_manha            -0.020174      -0.018342   \n",
       "pickup_datetime_noite             0.009423      -0.002006   \n",
       "pickup_datetime_tarde             0.003314       0.038156   \n",
       "kilometragem                      0.004923       0.601224   \n",
       "\n",
       "                           pickup_datetime_madrugada  pickup_datetime_manha  \\\n",
       "passenger_count                             0.008290              -0.020174   \n",
       "trip_duration                              -0.025750              -0.018342   \n",
       "pickup_datetime_madrugada                   1.000000              -0.211666   \n",
       "pickup_datetime_manha                      -0.211666               1.000000   \n",
       "pickup_datetime_noite                      -0.270378              -0.416308   \n",
       "pickup_datetime_tarde                      -0.234762              -0.361468   \n",
       "kilometragem                                0.122473              -0.038761   \n",
       "\n",
       "                           pickup_datetime_noite  pickup_datetime_tarde  \\\n",
       "passenger_count                         0.009423               0.003314   \n",
       "trip_duration                          -0.002006               0.038156   \n",
       "pickup_datetime_madrugada              -0.270378              -0.234762   \n",
       "pickup_datetime_manha                  -0.416308              -0.361468   \n",
       "pickup_datetime_noite                   1.000000              -0.461732   \n",
       "pickup_datetime_tarde                  -0.461732               1.000000   \n",
       "kilometragem                            0.033516              -0.086705   \n",
       "\n",
       "                           kilometragem  \n",
       "passenger_count                0.004923  \n",
       "trip_duration                  0.601224  \n",
       "pickup_datetime_madrugada      0.122473  \n",
       "pickup_datetime_manha         -0.038761  \n",
       "pickup_datetime_noite          0.033516  \n",
       "pickup_datetime_tarde         -0.086705  \n",
       "kilometragem                   1.000000  "
      ]
     },
     "execution_count": 208,
     "metadata": {},
     "output_type": "execute_result"
    }
   ],
   "source": [
    "df_train.corr()"
   ]
  },
  {
   "cell_type": "markdown",
   "id": "6e92cdc9",
   "metadata": {},
   "source": [
    "#### Com a retirada dos outliers, podemos ver que a correlação de algumas variáveis responderam muito melhor com a limpeza dos dados. A variável kilometragem foi a que respondeu melhor. "
   ]
  },
  {
   "cell_type": "code",
   "execution_count": 209,
   "id": "d52f7efc",
   "metadata": {
    "scrolled": true
   },
   "outputs": [
    {
     "data": {
      "text/plain": [
       "{'whiskers': [<matplotlib.lines.Line2D at 0x20937396760>,\n",
       "  <matplotlib.lines.Line2D at 0x20937396ac0>],\n",
       " 'caps': [<matplotlib.lines.Line2D at 0x20937396e20>,\n",
       "  <matplotlib.lines.Line2D at 0x209373a11c0>],\n",
       " 'boxes': [<matplotlib.lines.Line2D at 0x20937396400>],\n",
       " 'medians': [<matplotlib.lines.Line2D at 0x209373a1520>],\n",
       " 'fliers': [<matplotlib.lines.Line2D at 0x209373a1880>],\n",
       " 'means': []}"
      ]
     },
     "execution_count": 209,
     "metadata": {},
     "output_type": "execute_result"
    },
    {
     "data": {
      "image/png": "[encoded data removed]",
      "text/plain": [
       "<Figure size 432x288 with 1 Axes>"
      ]
     },
     "metadata": {
      "needs_background": "light"
     },
     "output_type": "display_data"
    }
   ],
   "source": [
    "plt.boxplot(df_train['kilometragem'])"
   ]
  },
  {
   "cell_type": "code",
   "execution_count": 210,
   "id": "1611d774",
   "metadata": {},
   "outputs": [
    {
     "data": {
      "text/plain": [
       "<AxesSubplot:>"
      ]
     },
     "execution_count": 210,
     "metadata": {},
     "output_type": "execute_result"
    },
    {
     "data": {
      "image/png": "[encoded data removed]",
      "text/plain": [
       "<Figure size 432x288 with 1 Axes>"
      ]
     },
     "metadata": {
      "needs_background": "light"
     },
     "output_type": "display_data"
    }
   ],
   "source": [
    "df_train['kilometragem'].hist(bins=30)"
   ]
  },
  {
   "cell_type": "markdown",
   "id": "6638bdfc",
   "metadata": {},
   "source": [
    "##### A variável kilometragem também tem vários outliers. Abaixo será utilizada a mesma técnica utlizada na variável trip_duration para limpar os dados."
   ]
  },
  {
   "cell_type": "code",
   "execution_count": 211,
   "id": "kXGDy5JQ_dV7",
   "metadata": {
    "id": "kXGDy5JQ_dV7"
   },
   "outputs": [],
   "source": [
    "Q1 = df_train['kilometragem'].quantile(0.25)\n",
    "Q3 = df_train['kilometragem'].quantile(0.75)\n",
    "IQR = Q3 - Q1\n",
    "\n",
    "filtered_km = df_train.query('(@Q1 - 1.5 * @IQR) < kilometragem > (@Q3 + 1.5 * @IQR)')\n",
    "df_train.drop(filtered_km.index, inplace=True)"
   ]
  },
  {
   "cell_type": "code",
   "execution_count": 212,
   "id": "441b3529",
   "metadata": {},
   "outputs": [
    {
     "data": {
      "text/plain": [
       "{'whiskers': [<matplotlib.lines.Line2D at 0x209374ad5e0>,\n",
       "  <matplotlib.lines.Line2D at 0x209374ad940>],\n",
       " 'caps': [<matplotlib.lines.Line2D at 0x209374adca0>,\n",
       "  <matplotlib.lines.Line2D at 0x2094a879040>],\n",
       " 'boxes': [<matplotlib.lines.Line2D at 0x209374ad280>],\n",
       " 'medians': [<matplotlib.lines.Line2D at 0x2094a8793a0>],\n",
       " 'fliers': [<matplotlib.lines.Line2D at 0x2094a879700>],\n",
       " 'means': []}"
      ]
     },
     "execution_count": 212,
     "metadata": {},
     "output_type": "execute_result"
    },
    {
     "data": {
      "image/png": "[encoded data removed]",
      "text/plain": [
       "<Figure size 432x288 with 1 Axes>"
      ]
     },
     "metadata": {
      "needs_background": "light"
     },
     "output_type": "display_data"
    }
   ],
   "source": [
    "plt.boxplot(df_train['kilometragem'])"
   ]
  },
  {
   "cell_type": "code",
   "execution_count": 213,
   "id": "9e456743",
   "metadata": {},
   "outputs": [
    {
     "data": {
      "text/plain": [
       "<AxesSubplot:>"
      ]
     },
     "execution_count": 213,
     "metadata": {},
     "output_type": "execute_result"
    },
    {
     "data": {
      "image/png": "[encoded data removed]",
      "text/plain": [
       "<Figure size 432x288 with 1 Axes>"
      ]
     },
     "metadata": {
      "needs_background": "light"
     },
     "output_type": "display_data"
    }
   ],
   "source": [
    "df_train['kilometragem'].hist(bins=30)"
   ]
  },
  {
   "cell_type": "code",
   "execution_count": 214,
   "id": "f8f28f47",
   "metadata": {
    "scrolled": true
   },
   "outputs": [
    {
     "data": {
      "text/html": [
       "<div>\n",
       "<style scoped>\n",
       "    .dataframe tbody tr th:only-of-type {\n",
       "        vertical-align: middle;\n",
       "    }\n",
       "\n",
       "    .dataframe tbody tr th {\n",
       "        vertical-align: top;\n",
       "    }\n",
       "\n",
       "    .dataframe thead th {\n",
       "        text-align: right;\n",
       "    }\n",
       "</style>\n",
       "<table border=\"1\" class=\"dataframe\">\n",
       "  <thead>\n",
       "    <tr style=\"text-align: right;\">\n",
       "      <th></th>\n",
       "      <th>passenger_count</th>\n",
       "      <th>trip_duration</th>\n",
       "      <th>pickup_datetime_madrugada</th>\n",
       "      <th>pickup_datetime_manha</th>\n",
       "      <th>pickup_datetime_noite</th>\n",
       "      <th>pickup_datetime_tarde</th>\n",
       "      <th>kilometragem</th>\n",
       "    </tr>\n",
       "  </thead>\n",
       "  <tbody>\n",
       "    <tr>\n",
       "      <th>passenger_count</th>\n",
       "      <td>1.000000</td>\n",
       "      <td>0.009909</td>\n",
       "      <td>0.008597</td>\n",
       "      <td>-0.021053</td>\n",
       "      <td>0.010043</td>\n",
       "      <td>0.003604</td>\n",
       "      <td>0.004316</td>\n",
       "    </tr>\n",
       "    <tr>\n",
       "      <th>trip_duration</th>\n",
       "      <td>0.009909</td>\n",
       "      <td>1.000000</td>\n",
       "      <td>-0.083062</td>\n",
       "      <td>-0.005324</td>\n",
       "      <td>-0.012685</td>\n",
       "      <td>0.075243</td>\n",
       "      <td>0.682482</td>\n",
       "    </tr>\n",
       "    <tr>\n",
       "      <th>pickup_datetime_madrugada</th>\n",
       "      <td>0.008597</td>\n",
       "      <td>-0.083062</td>\n",
       "      <td>1.000000</td>\n",
       "      <td>-0.202642</td>\n",
       "      <td>-0.255325</td>\n",
       "      <td>-0.227570</td>\n",
       "      <td>0.095078</td>\n",
       "    </tr>\n",
       "    <tr>\n",
       "      <th>pickup_datetime_manha</th>\n",
       "      <td>-0.021053</td>\n",
       "      <td>-0.005324</td>\n",
       "      <td>-0.202642</td>\n",
       "      <td>1.000000</td>\n",
       "      <td>-0.418630</td>\n",
       "      <td>-0.373124</td>\n",
       "      <td>-0.045445</td>\n",
       "    </tr>\n",
       "    <tr>\n",
       "      <th>pickup_datetime_noite</th>\n",
       "      <td>0.010043</td>\n",
       "      <td>-0.012685</td>\n",
       "      <td>-0.255325</td>\n",
       "      <td>-0.418630</td>\n",
       "      <td>1.000000</td>\n",
       "      <td>-0.470128</td>\n",
       "      <td>0.054297</td>\n",
       "    </tr>\n",
       "    <tr>\n",
       "      <th>pickup_datetime_tarde</th>\n",
       "      <td>0.003604</td>\n",
       "      <td>0.075243</td>\n",
       "      <td>-0.227570</td>\n",
       "      <td>-0.373124</td>\n",
       "      <td>-0.470128</td>\n",
       "      <td>1.000000</td>\n",
       "      <td>-0.078706</td>\n",
       "    </tr>\n",
       "    <tr>\n",
       "      <th>kilometragem</th>\n",
       "      <td>0.004316</td>\n",
       "      <td>0.682482</td>\n",
       "      <td>0.095078</td>\n",
       "      <td>-0.045445</td>\n",
       "      <td>0.054297</td>\n",
       "      <td>-0.078706</td>\n",
       "      <td>1.000000</td>\n",
       "    </tr>\n",
       "  </tbody>\n",
       "</table>\n",
       "</div>"
      ],
      "text/plain": [
       "                           passenger_count  trip_duration  \\\n",
       "passenger_count                   1.000000       0.009909   \n",
       "trip_duration                     0.009909       1.000000   \n",
       "pickup_datetime_madrugada         0.008597      -0.083062   \n",
       "pickup_datetime_manha            -0.021053      -0.005324   \n",
       "pickup_datetime_noite             0.010043      -0.012685   \n",
       "pickup_datetime_tarde             0.003604       0.075243   \n",
       "kilometragem                      0.004316       0.682482   \n",
       "\n",
       "                           pickup_datetime_madrugada  pickup_datetime_manha  \\\n",
       "passenger_count                             0.008597              -0.021053   \n",
       "trip_duration                              -0.083062              -0.005324   \n",
       "pickup_datetime_madrugada                   1.000000              -0.202642   \n",
       "pickup_datetime_manha                      -0.202642               1.000000   \n",
       "pickup_datetime_noite                      -0.255325              -0.418630   \n",
       "pickup_datetime_tarde                      -0.227570              -0.373124   \n",
       "kilometragem                                0.095078              -0.045445   \n",
       "\n",
       "                           pickup_datetime_noite  pickup_datetime_tarde  \\\n",
       "passenger_count                         0.010043               0.003604   \n",
       "trip_duration                          -0.012685               0.075243   \n",
       "pickup_datetime_madrugada              -0.255325              -0.227570   \n",
       "pickup_datetime_manha                  -0.418630              -0.373124   \n",
       "pickup_datetime_noite                   1.000000              -0.470128   \n",
       "pickup_datetime_tarde                  -0.470128               1.000000   \n",
       "kilometragem                            0.054297              -0.078706   \n",
       "\n",
       "                           kilometragem  \n",
       "passenger_count                0.004316  \n",
       "trip_duration                  0.682482  \n",
       "pickup_datetime_madrugada      0.095078  \n",
       "pickup_datetime_manha         -0.045445  \n",
       "pickup_datetime_noite          0.054297  \n",
       "pickup_datetime_tarde         -0.078706  \n",
       "kilometragem                   1.000000  "
      ]
     },
     "execution_count": 214,
     "metadata": {},
     "output_type": "execute_result"
    }
   ],
   "source": [
    "df_train.corr()"
   ]
  },
  {
   "cell_type": "markdown",
   "id": "cb485816",
   "metadata": {},
   "source": [
    "#### A correlação entre as variáveis trip_duration e kilometragem aumentaram 68% com a limpeza dos dados. "
   ]
  },
  {
   "cell_type": "markdown",
   "id": "e5161a92",
   "metadata": {},
   "source": [
    "#### Abaixo temos alguns dados da variável passenger_count"
   ]
  },
  {
   "cell_type": "code",
   "execution_count": 215,
   "id": "6c171c44",
   "metadata": {},
   "outputs": [
    {
     "data": {
      "text/plain": [
       "<AxesSubplot:>"
      ]
     },
     "execution_count": 215,
     "metadata": {},
     "output_type": "execute_result"
    },
    {
     "data": {
      "image/png": "[encoded data removed]",
      "text/plain": [
       "<Figure size 432x288 with 1 Axes>"
      ]
     },
     "metadata": {
      "needs_background": "light"
     },
     "output_type": "display_data"
    }
   ],
   "source": [
    "df_train['passenger_count'].hist(bins=5)"
   ]
  },
  {
   "cell_type": "code",
   "execution_count": 217,
   "id": "4b0775fa",
   "metadata": {
    "scrolled": true
   },
   "outputs": [
    {
     "data": {
      "text/plain": [
       "{'whiskers': [<matplotlib.lines.Line2D at 0x2094ac9c400>,\n",
       "  <matplotlib.lines.Line2D at 0x2094ac9c760>],\n",
       " 'caps': [<matplotlib.lines.Line2D at 0x2094ac9cac0>,\n",
       "  <matplotlib.lines.Line2D at 0x2094ac9ce20>],\n",
       " 'boxes': [<matplotlib.lines.Line2D at 0x2094ac9c0a0>],\n",
       " 'medians': [<matplotlib.lines.Line2D at 0x2094aca71c0>],\n",
       " 'fliers': [<matplotlib.lines.Line2D at 0x2094aca7520>],\n",
       " 'means': []}"
      ]
     },
     "execution_count": 217,
     "metadata": {},
     "output_type": "execute_result"
    },
    {
     "data": {
      "image/png": "[encoded data removed]",
      "text/plain": [
       "<Figure size 432x288 with 1 Axes>"
      ]
     },
     "metadata": {
      "needs_background": "light"
     },
     "output_type": "display_data"
    }
   ],
   "source": [
    "plt.boxplot(df_train['passenger_count'])"
   ]
  },
  {
   "cell_type": "markdown",
   "id": "9482859c",
   "metadata": {},
   "source": [
    "#### Esta variável também possui vários outliers. Abaixo será aplicado a limpeza dos dados"
   ]
  },
  {
   "cell_type": "code",
   "execution_count": 218,
   "id": "dd2ede56",
   "metadata": {},
   "outputs": [],
   "source": [
    "Q1 = df_train['passenger_count'].quantile(0.25)\n",
    "Q3 = df_train['passenger_count'].quantile(0.75)\n",
    "IQR = Q3 - Q1\n",
    "\n",
    "filtered_passenger_count = df_train.query('(@Q1 - 1.5 * @IQR) < passenger_count > (@Q3 + 1.5 * @IQR)')\n",
    "df_train.drop(filtered_passenger_count.index, inplace=True)\n",
    "#df_train['passenger_count'] = df_train['passenger_count'].apply(lambda x: 4 if x > 3 else x)"
   ]
  },
  {
   "cell_type": "code",
   "execution_count": 219,
   "id": "2311ee08",
   "metadata": {},
   "outputs": [
    {
     "data": {
      "text/plain": [
       "<AxesSubplot:>"
      ]
     },
     "execution_count": 219,
     "metadata": {},
     "output_type": "execute_result"
    },
    {
     "data": {
      "image/png": "[encoded data removed]",
      "text/plain": [
       "<Figure size 432x288 with 1 Axes>"
      ]
     },
     "metadata": {
      "needs_background": "light"
     },
     "output_type": "display_data"
    }
   ],
   "source": [
    "df_train['passenger_count'].hist(bins=3)"
   ]
  },
  {
   "cell_type": "code",
   "execution_count": 220,
   "id": "ecfaf2fd",
   "metadata": {
    "scrolled": true
   },
   "outputs": [
    {
     "data": {
      "text/plain": [
       "{'whiskers': [<matplotlib.lines.Line2D at 0x2094ad57dc0>,\n",
       "  <matplotlib.lines.Line2D at 0x2094ad68160>],\n",
       " 'caps': [<matplotlib.lines.Line2D at 0x2094ad684c0>,\n",
       "  <matplotlib.lines.Line2D at 0x2094ad68820>],\n",
       " 'boxes': [<matplotlib.lines.Line2D at 0x2094ad57a60>],\n",
       " 'medians': [<matplotlib.lines.Line2D at 0x2094ad68b50>],\n",
       " 'fliers': [<matplotlib.lines.Line2D at 0x2094ad68e80>],\n",
       " 'means': []}"
      ]
     },
     "execution_count": 220,
     "metadata": {},
     "output_type": "execute_result"
    },
    {
     "data": {
      "image/png": "[encoded data removed]",
      "text/plain": [
       "<Figure size 432x288 with 1 Axes>"
      ]
     },
     "metadata": {
      "needs_background": "light"
     },
     "output_type": "display_data"
    }
   ],
   "source": [
    "plt.boxplot(df_train['passenger_count'])"
   ]
  },
  {
   "cell_type": "code",
   "execution_count": 221,
   "id": "7f6c6695",
   "metadata": {},
   "outputs": [],
   "source": [
    "#removendo valores onde o número de passageiros é 0\n",
    "filtered_passenger_count = df_train.query('passenger_count == 0')\n",
    "df_train.drop(filtered_passenger_count.index, inplace=True)"
   ]
  },
  {
   "cell_type": "code",
   "execution_count": 222,
   "id": "a3a72004",
   "metadata": {},
   "outputs": [
    {
     "data": {
      "text/plain": [
       "{'whiskers': [<matplotlib.lines.Line2D at 0x2094b0a7b50>,\n",
       "  <matplotlib.lines.Line2D at 0x2094b0a7eb0>],\n",
       " 'caps': [<matplotlib.lines.Line2D at 0x2094b0b5250>,\n",
       "  <matplotlib.lines.Line2D at 0x2094b0b55b0>],\n",
       " 'boxes': [<matplotlib.lines.Line2D at 0x2094b0a77f0>],\n",
       " 'medians': [<matplotlib.lines.Line2D at 0x2094b0b58e0>],\n",
       " 'fliers': [<matplotlib.lines.Line2D at 0x2094b0b5c10>],\n",
       " 'means': []}"
      ]
     },
     "execution_count": 222,
     "metadata": {},
     "output_type": "execute_result"
    },
    {
     "data": {
      "image/png": "[encoded data removed]",
      "text/plain": [
       "<Figure size 432x288 with 1 Axes>"
      ]
     },
     "metadata": {
      "needs_background": "light"
     },
     "output_type": "display_data"
    }
   ],
   "source": [
    "plt.boxplot(df_train['passenger_count'])"
   ]
  },
  {
   "cell_type": "code",
   "execution_count": 223,
   "id": "91a3a193",
   "metadata": {
    "scrolled": true
   },
   "outputs": [
    {
     "data": {
      "text/html": [
       "<div>\n",
       "<style scoped>\n",
       "    .dataframe tbody tr th:only-of-type {\n",
       "        vertical-align: middle;\n",
       "    }\n",
       "\n",
       "    .dataframe tbody tr th {\n",
       "        vertical-align: top;\n",
       "    }\n",
       "\n",
       "    .dataframe thead th {\n",
       "        text-align: right;\n",
       "    }\n",
       "</style>\n",
       "<table border=\"1\" class=\"dataframe\">\n",
       "  <thead>\n",
       "    <tr style=\"text-align: right;\">\n",
       "      <th></th>\n",
       "      <th>passenger_count</th>\n",
       "      <th>trip_duration</th>\n",
       "      <th>pickup_datetime_madrugada</th>\n",
       "      <th>pickup_datetime_manha</th>\n",
       "      <th>pickup_datetime_noite</th>\n",
       "      <th>pickup_datetime_tarde</th>\n",
       "      <th>kilometragem</th>\n",
       "    </tr>\n",
       "  </thead>\n",
       "  <tbody>\n",
       "    <tr>\n",
       "      <th>passenger_count</th>\n",
       "      <td>1.000000</td>\n",
       "      <td>0.021838</td>\n",
       "      <td>0.017938</td>\n",
       "      <td>-0.055688</td>\n",
       "      <td>0.033456</td>\n",
       "      <td>0.005712</td>\n",
       "      <td>0.013074</td>\n",
       "    </tr>\n",
       "    <tr>\n",
       "      <th>trip_duration</th>\n",
       "      <td>0.021838</td>\n",
       "      <td>1.000000</td>\n",
       "      <td>-0.083072</td>\n",
       "      <td>-0.005461</td>\n",
       "      <td>-0.012274</td>\n",
       "      <td>0.074883</td>\n",
       "      <td>0.682727</td>\n",
       "    </tr>\n",
       "    <tr>\n",
       "      <th>pickup_datetime_madrugada</th>\n",
       "      <td>0.017938</td>\n",
       "      <td>-0.083072</td>\n",
       "      <td>1.000000</td>\n",
       "      <td>-0.202617</td>\n",
       "      <td>-0.254776</td>\n",
       "      <td>-0.227039</td>\n",
       "      <td>0.095611</td>\n",
       "    </tr>\n",
       "    <tr>\n",
       "      <th>pickup_datetime_manha</th>\n",
       "      <td>-0.055688</td>\n",
       "      <td>-0.005461</td>\n",
       "      <td>-0.202617</td>\n",
       "      <td>1.000000</td>\n",
       "      <td>-0.419271</td>\n",
       "      <td>-0.373625</td>\n",
       "      <td>-0.045638</td>\n",
       "    </tr>\n",
       "    <tr>\n",
       "      <th>pickup_datetime_noite</th>\n",
       "      <td>0.033456</td>\n",
       "      <td>-0.012274</td>\n",
       "      <td>-0.254776</td>\n",
       "      <td>-0.419271</td>\n",
       "      <td>1.000000</td>\n",
       "      <td>-0.469806</td>\n",
       "      <td>0.054897</td>\n",
       "    </tr>\n",
       "    <tr>\n",
       "      <th>pickup_datetime_tarde</th>\n",
       "      <td>0.005712</td>\n",
       "      <td>0.074883</td>\n",
       "      <td>-0.227039</td>\n",
       "      <td>-0.373625</td>\n",
       "      <td>-0.469806</td>\n",
       "      <td>1.000000</td>\n",
       "      <td>-0.079387</td>\n",
       "    </tr>\n",
       "    <tr>\n",
       "      <th>kilometragem</th>\n",
       "      <td>0.013074</td>\n",
       "      <td>0.682727</td>\n",
       "      <td>0.095611</td>\n",
       "      <td>-0.045638</td>\n",
       "      <td>0.054897</td>\n",
       "      <td>-0.079387</td>\n",
       "      <td>1.000000</td>\n",
       "    </tr>\n",
       "  </tbody>\n",
       "</table>\n",
       "</div>"
      ],
      "text/plain": [
       "                           passenger_count  trip_duration  \\\n",
       "passenger_count                   1.000000       0.021838   \n",
       "trip_duration                     0.021838       1.000000   \n",
       "pickup_datetime_madrugada         0.017938      -0.083072   \n",
       "pickup_datetime_manha            -0.055688      -0.005461   \n",
       "pickup_datetime_noite             0.033456      -0.012274   \n",
       "pickup_datetime_tarde             0.005712       0.074883   \n",
       "kilometragem                      0.013074       0.682727   \n",
       "\n",
       "                           pickup_datetime_madrugada  pickup_datetime_manha  \\\n",
       "passenger_count                             0.017938              -0.055688   \n",
       "trip_duration                              -0.083072              -0.005461   \n",
       "pickup_datetime_madrugada                   1.000000              -0.202617   \n",
       "pickup_datetime_manha                      -0.202617               1.000000   \n",
       "pickup_datetime_noite                      -0.254776              -0.419271   \n",
       "pickup_datetime_tarde                      -0.227039              -0.373625   \n",
       "kilometragem                                0.095611              -0.045638   \n",
       "\n",
       "                           pickup_datetime_noite  pickup_datetime_tarde  \\\n",
       "passenger_count                         0.033456               0.005712   \n",
       "trip_duration                          -0.012274               0.074883   \n",
       "pickup_datetime_madrugada              -0.254776              -0.227039   \n",
       "pickup_datetime_manha                  -0.419271              -0.373625   \n",
       "pickup_datetime_noite                   1.000000              -0.469806   \n",
       "pickup_datetime_tarde                  -0.469806               1.000000   \n",
       "kilometragem                            0.054897              -0.079387   \n",
       "\n",
       "                           kilometragem  \n",
       "passenger_count                0.013074  \n",
       "trip_duration                  0.682727  \n",
       "pickup_datetime_madrugada      0.095611  \n",
       "pickup_datetime_manha         -0.045638  \n",
       "pickup_datetime_noite          0.054897  \n",
       "pickup_datetime_tarde         -0.079387  \n",
       "kilometragem                   1.000000  "
      ]
     },
     "execution_count": 223,
     "metadata": {},
     "output_type": "execute_result"
    }
   ],
   "source": [
    "df_train.corr()"
   ]
  },
  {
   "cell_type": "markdown",
   "id": "959828b7",
   "metadata": {},
   "source": [
    "#### A variável passenger_count não possuia uma correlação boa com a variável independente. Mesmo retirando os outliers como feito em outras variáveis, não ajudou muito a aumentar a correlação entre as elas."
   ]
  },
  {
   "cell_type": "markdown",
   "id": "5ff40485",
   "metadata": {
    "id": "5ff40485"
   },
   "source": [
    "## 4 Modeling"
   ]
  },
  {
   "cell_type": "markdown",
   "id": "d8b74685",
   "metadata": {},
   "source": [
    "#### Com base na alta correlação, será utilizado apenas a variável kilometragem para realizar a previsão. Escolhi o método de regressão linear para treinar o modelo pois as variáveis de distância e tempo tem uma lineariedade propicia para esse tipo de algoritmo\n"
   ]
  },
  {
   "cell_type": "code",
   "execution_count": 224,
   "id": "c1498c09",
   "metadata": {
    "scrolled": true
   },
   "outputs": [
    {
     "data": {
      "text/plain": [
       "<matplotlib.collections.PathCollection at 0x2094b10d4c0>"
      ]
     },
     "execution_count": 224,
     "metadata": {},
     "output_type": "execute_result"
    },
    {
     "data": {
      "image/png": "[encoded data removed]",
      "text/plain": [
       "<Figure size 432x288 with 1 Axes>"
      ]
     },
     "metadata": {
      "needs_background": "light"
     },
     "output_type": "display_data"
    }
   ],
   "source": [
    "plt.scatter(x=df_train['kilometragem'].tail(1000), y=df_train['trip_duration'].tail(1000))"
   ]
  },
  {
   "cell_type": "code",
   "execution_count": 225,
   "id": "e10307c5",
   "metadata": {
    "id": "e10307c5",
    "scrolled": true
   },
   "outputs": [],
   "source": [
    "#valor a ser previsto\n",
    "y = df_train['trip_duration']"
   ]
  },
  {
   "cell_type": "code",
   "execution_count": 226,
   "id": "9b842d59",
   "metadata": {
    "id": "9b842d59",
    "scrolled": false
   },
   "outputs": [],
   "source": [
    "#variável independente\n",
    "X = df_train.loc[:, ['kilometragem']]"
   ]
  },
  {
   "cell_type": "code",
   "execution_count": 227,
   "id": "ebc82b73",
   "metadata": {
    "colab": {
     "base_uri": "https://localhost:8080/"
    },
    "id": "ebc82b73",
    "outputId": "469cae15-03bf-478c-b3ff-f7ae14a4da75",
    "scrolled": true
   },
   "outputs": [],
   "source": [
    "model = LinearRegression()"
   ]
  },
  {
   "cell_type": "code",
   "execution_count": 228,
   "id": "700905b0",
   "metadata": {},
   "outputs": [
    {
     "data": {
      "text/plain": [
       "218.62209300287967"
      ]
     },
     "execution_count": 228,
     "metadata": {},
     "output_type": "execute_result"
    }
   ],
   "source": [
    "#divisão da base de dados\n",
    "X_train, X_test, y_train, y_test = train_test_split(X, y, test_size=0.3)\n",
    "#treino do modelo\n",
    "model.fit(X_train, y_train)\n",
    "#realizando previsões com a variável independente de teste\n",
    "y_predicted = model.predict(X_test)\n",
    "#avaliando o modelo\n",
    "mae(y_predicted, y_test)"
   ]
  },
  {
   "cell_type": "markdown",
   "id": "e677a66b",
   "metadata": {},
   "source": [
    "#### Com os dados que tinhamos para a previsão, alcançamos um valor de erro de 218 segundos entre a linha de regressão e os dados reais. O método de avaliação escolhido para o modelo foi o Mean Absolute Error"
   ]
  },
  {
   "cell_type": "markdown",
   "id": "c8731698",
   "metadata": {},
   "source": [
    "## Evaluation"
   ]
  },
  {
   "cell_type": "code",
   "execution_count": 166,
   "id": "b157bb58",
   "metadata": {},
   "outputs": [],
   "source": [
    "list_x = []\n",
    "list_y = []\n",
    "for x in range(1000):\n",
    "    X_train, X_test, y_train, y_test = train_test_split(X, y, test_size=0.3)\n",
    "    #treino do modelo\n",
    "    model.fit(X_train, y_train)\n",
    "    #realizando previsões com a variável independente de teste\n",
    "    y_predicted = model.predict(X_test)\n",
    "    #avaliando o modelo\n",
    "    list_y.append(mae(y_predicted, y_test))\n",
    "    list_x.append(x + 1)"
   ]
  },
  {
   "cell_type": "code",
   "execution_count": 167,
   "id": "aab78cbc",
   "metadata": {},
   "outputs": [
    {
     "data": {
      "text/plain": [
       "[<matplotlib.lines.Line2D at 0x209982e4be0>]"
      ]
     },
     "execution_count": 167,
     "metadata": {},
     "output_type": "execute_result"
    },
    {
     "data": {
      "image/png": "[encoded data removed]",
      "text/plain": [
       "<Figure size 432x288 with 1 Axes>"
      ]
     },
     "metadata": {
      "needs_background": "light"
     },
     "output_type": "display_data"
    }
   ],
   "source": [
    "plt.plot(list_x, list_y)"
   ]
  },
  {
   "cell_type": "markdown",
   "id": "df9b64c7",
   "metadata": {},
   "source": [
    "#### Acima foi computada uma amostra de mil treinamentos, teste e validações da base de dados."
   ]
  },
  {
   "cell_type": "markdown",
   "id": "J28KIPs7yXkw",
   "metadata": {
    "id": "J28KIPs7yXkw"
   },
   "source": [
    "## Aplicando o modelo"
   ]
  },
  {
   "cell_type": "markdown",
   "id": "1bb47abc",
   "metadata": {},
   "source": [
    "#### Abaixo desenvolvi uma aplicação simples para aplicar o que foi feito no modelo anteriormente. Você deve entrar com as localizações de origem e destino e o algoritmo dá uma previsão do tempo que a corrida irá levar"
   ]
  },
  {
   "cell_type": "code",
   "execution_count": 180,
   "id": "3ggdpI5rybSW",
   "metadata": {
    "colab": {
     "base_uri": "https://localhost:8080/"
    },
    "id": "3ggdpI5rybSW",
    "outputId": "7452fe9e-0f19-4ab6-f890-0e521f583b72"
   },
   "outputs": [
    {
     "name": "stdout",
     "output_type": "stream",
     "text": [
      "---Digite as informações de origem e destino.---\n",
      "Os dados devem seguir a seguinte ordem. Rua, número, bairro, cidade, estado, país. \n",
      "\n",
      "Digite o local de origem: \n",
      "Timbó, Santa Catarina, Brasil\n",
      "\n",
      "\n",
      "Digite o local de destino: \n",
      "Curitiba, Paraná, Brasil\n"
     ]
    },
    {
     "name": "stderr",
     "output_type": "stream",
     "text": [
      "[nominatim] downloading data: search\n"
     ]
    },
    {
     "name": "stdout",
     "output_type": "stream",
     "text": [
      "Tempo esmtimado é de 481.0 minutos\n"
     ]
    }
   ],
   "source": [
    "nominatim = Nominatim()\n",
    "input_dados = True\n",
    "while(input_dados):\n",
    "  print('---Digite as informações de origem e destino.---')\n",
    "  print('Os dados devem seguir a seguinte ordem. Rua, número, bairro, cidade, estado, país. \\n')\n",
    "\n",
    "  origin = input(\"Digite o local de origem: \\n\")\n",
    "  print('\\n')\n",
    "  destination = input(\"Digite o local de destino: \\n\")\n",
    "\n",
    "  #pegando coordenadas de origem\n",
    "  origin_coordiantes = nominatim.query(origin)\n",
    "  origin_coordiantes = origin_coordiantes.toJSON()\n",
    "\n",
    "  #pegando coordenadas de destino\n",
    "  destination_coordiantes = nominatim.query(destination)\n",
    "  destination_coordiantes = destination_coordiantes.toJSON()\n",
    "\n",
    "  if len(origin_coordiantes) == 0:\n",
    "    print(\"Dados de origem não encontrados, digite novamente \\n\")\n",
    "  elif len(destination_coordiantes) == 0:\n",
    "    print(\"Dados de destino não encontrados, digite novamente \\n\")\n",
    "  else:\n",
    "    input_dados = False\n",
    "\n",
    "distance = round(haversine((float(origin_coordiantes[0]['lat']), float(origin_coordiantes[0]['lon'])),\n",
    "                            (float(destination_coordiantes[0]['lat']),float(destination_coordiantes[0]['lon']))), 1)\n",
    "previsão = model.predict([[distance]])\n",
    "print('Tempo esmtimado é de {} minutos'.format(round(previsão[0]/60, 0)))"
   ]
  }
 ],
 "metadata": {
  "colab": {
   "collapsed_sections": [],
   "name": "Project 1 - Taxi Prediction.ipynb",
   "provenance": []
  },
  "kernelspec": {
   "display_name": "Python 3",
   "language": "python",
   "name": "python3"
  },
  "language_info": {
   "codemirror_mode": {
    "name": "ipython",
    "version": 3
   },
   "file_extension": ".py",
   "mimetype": "text/x-python",
   "name": "python",
   "nbconvert_exporter": "python",
   "pygments_lexer": "ipython3",
   "version": "3.8.8"
  }
 },
 "nbformat": 4,
 "nbformat_minor": 5
}
