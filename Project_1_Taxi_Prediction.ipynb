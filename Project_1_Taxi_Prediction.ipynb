{
 "cells": [
  {
   "cell_type": "markdown",
   "id": "7fc58b89",
   "metadata": {
    "id": "7fc58b89"
   },
   "source": [
    "# Taxi predction"
   ]
  },
  {
   "cell_type": "markdown",
   "id": "05332cb4",
   "metadata": {},
   "source": [
    "<img src=\"https://cdn2.civitatis.com/estados-unidos/nueva-york/guia/taxi.jpg\">"
   ]
  },
  {
   "cell_type": "markdown",
   "id": "f8e65079",
   "metadata": {
    "id": "f8e65079"
   },
   "source": [
    "## 1. Business Understanding"
   ]
  },
  {
   "cell_type": "markdown",
   "id": "31a85f31",
   "metadata": {
    "id": "31a85f31"
   },
   "source": [
    "Este modelo tem como objetivo prever o tempo total de uma corrida de taxi na cidade de Nova York. Para isto, foi utilizada uma base de dados disponibilizada pela NYC Taxi and Limousine Commission. A base pode ser encontrada site Kaggle.\n",
    "\n",
    "Link para a página do Kaggle: https://www.kaggle.com/c/nyc-taxi-trip-duration\n",
    "\n",
    "<p> \n",
    "    Neste projeto utilizei a metodologia CRISPDM para estruturar a análise.\n",
    "</p>\n",
    "\n",
    "### Desenvolvido por Bruno Gabriel de Sousa"
   ]
  },
  {
   "cell_type": "markdown",
   "id": "e2f99ba4",
   "metadata": {
    "id": "e2f99ba4"
   },
   "source": [
    "## 2. Data Understanding"
   ]
  },
  {
   "cell_type": "code",
   "execution_count": 71,
   "id": "af995c79",
   "metadata": {
    "executionInfo": {
     "elapsed": 396,
     "status": "ok",
     "timestamp": 1628105826007,
     "user": {
      "displayName": "Bruno Sousa",
      "photoUrl": "",
      "userId": "03776589829833325726"
     },
     "user_tz": 180
    },
    "id": "af995c79"
   },
   "outputs": [],
   "source": [
    "# Data manipuation\n",
    "import pandas as pd\n",
    "import numpy as np\n",
    "from haversine import haversine\n",
    "from datetime import datetime, time\n",
    "\n",
    "\n",
    "# Visualizing\n",
    "import matplotlib.pyplot as plt\n",
    "\n",
    "# Model selection and evaluation\n",
    "from sklearn.linear_model import LinearRegression\n",
    "from sklearn.metrics import mean_squared_error as mse\n",
    "from sklearn.metrics import mean_absolute_error as mae\n",
    "from sklearn.model_selection import train_test_split\n",
    "from sklearn.preprocessing import LabelEncoder, OneHotEncoder\n",
    "from sklearn.preprocessing import MinMaxScaler\n",
    "from sklearn.compose import ColumnTransformer\n",
    "import math\n",
    "\n",
    "#Implemetation\n",
    "import folium\n",
    "from OSMPythonTools.nominatim import Nominatim"
   ]
  },
  {
   "cell_type": "markdown",
   "id": "cc2de4ef",
   "metadata": {
    "id": "cc2de4ef"
   },
   "source": [
    "Importando a base de dados para o pandas a partir de um arquivo CSV."
   ]
  },
  {
   "cell_type": "code",
   "execution_count": 21,
   "id": "41c560e2",
   "metadata": {
    "colab": {
     "base_uri": "https://localhost:8080/",
     "height": 204
    },
    "executionInfo": {
     "elapsed": 4669,
     "status": "ok",
     "timestamp": 1628105831098,
     "user": {
      "displayName": "Bruno Sousa",
      "photoUrl": "",
      "userId": "03776589829833325726"
     },
     "user_tz": 180
    },
    "id": "41c560e2",
    "outputId": "88dba6fb-48ea-41e7-b001-cbd9790295c1",
    "scrolled": true
   },
   "outputs": [
    {
     "data": {
      "text/html": [
       "<div>\n",
       "<style scoped>\n",
       "    .dataframe tbody tr th:only-of-type {\n",
       "        vertical-align: middle;\n",
       "    }\n",
       "\n",
       "    .dataframe tbody tr th {\n",
       "        vertical-align: top;\n",
       "    }\n",
       "\n",
       "    .dataframe thead th {\n",
       "        text-align: right;\n",
       "    }\n",
       "</style>\n",
       "<table border=\"1\" class=\"dataframe\">\n",
       "  <thead>\n",
       "    <tr style=\"text-align: right;\">\n",
       "      <th></th>\n",
       "      <th>id</th>\n",
       "      <th>vendor_id</th>\n",
       "      <th>pickup_datetime</th>\n",
       "      <th>dropoff_datetime</th>\n",
       "      <th>passenger_count</th>\n",
       "      <th>pickup_longitude</th>\n",
       "      <th>pickup_latitude</th>\n",
       "      <th>dropoff_longitude</th>\n",
       "      <th>dropoff_latitude</th>\n",
       "      <th>store_and_fwd_flag</th>\n",
       "      <th>trip_duration</th>\n",
       "    </tr>\n",
       "  </thead>\n",
       "  <tbody>\n",
       "    <tr>\n",
       "      <th>0</th>\n",
       "      <td>id2875421</td>\n",
       "      <td>2</td>\n",
       "      <td>2016-03-14 17:24:55</td>\n",
       "      <td>2016-03-14 17:32:30</td>\n",
       "      <td>1</td>\n",
       "      <td>-73.982155</td>\n",
       "      <td>40.767937</td>\n",
       "      <td>-73.964630</td>\n",
       "      <td>40.765602</td>\n",
       "      <td>N</td>\n",
       "      <td>455</td>\n",
       "    </tr>\n",
       "    <tr>\n",
       "      <th>1</th>\n",
       "      <td>id2377394</td>\n",
       "      <td>1</td>\n",
       "      <td>2016-06-12 00:43:35</td>\n",
       "      <td>2016-06-12 00:54:38</td>\n",
       "      <td>1</td>\n",
       "      <td>-73.980415</td>\n",
       "      <td>40.738564</td>\n",
       "      <td>-73.999481</td>\n",
       "      <td>40.731152</td>\n",
       "      <td>N</td>\n",
       "      <td>663</td>\n",
       "    </tr>\n",
       "    <tr>\n",
       "      <th>2</th>\n",
       "      <td>id3858529</td>\n",
       "      <td>2</td>\n",
       "      <td>2016-01-19 11:35:24</td>\n",
       "      <td>2016-01-19 12:10:48</td>\n",
       "      <td>1</td>\n",
       "      <td>-73.979027</td>\n",
       "      <td>40.763939</td>\n",
       "      <td>-74.005333</td>\n",
       "      <td>40.710087</td>\n",
       "      <td>N</td>\n",
       "      <td>2124</td>\n",
       "    </tr>\n",
       "    <tr>\n",
       "      <th>3</th>\n",
       "      <td>id3504673</td>\n",
       "      <td>2</td>\n",
       "      <td>2016-04-06 19:32:31</td>\n",
       "      <td>2016-04-06 19:39:40</td>\n",
       "      <td>1</td>\n",
       "      <td>-74.010040</td>\n",
       "      <td>40.719971</td>\n",
       "      <td>-74.012268</td>\n",
       "      <td>40.706718</td>\n",
       "      <td>N</td>\n",
       "      <td>429</td>\n",
       "    </tr>\n",
       "    <tr>\n",
       "      <th>4</th>\n",
       "      <td>id2181028</td>\n",
       "      <td>2</td>\n",
       "      <td>2016-03-26 13:30:55</td>\n",
       "      <td>2016-03-26 13:38:10</td>\n",
       "      <td>1</td>\n",
       "      <td>-73.973053</td>\n",
       "      <td>40.793209</td>\n",
       "      <td>-73.972923</td>\n",
       "      <td>40.782520</td>\n",
       "      <td>N</td>\n",
       "      <td>435</td>\n",
       "    </tr>\n",
       "  </tbody>\n",
       "</table>\n",
       "</div>"
      ],
      "text/plain": [
       "          id  vendor_id      pickup_datetime     dropoff_datetime  \\\n",
       "0  id2875421          2  2016-03-14 17:24:55  2016-03-14 17:32:30   \n",
       "1  id2377394          1  2016-06-12 00:43:35  2016-06-12 00:54:38   \n",
       "2  id3858529          2  2016-01-19 11:35:24  2016-01-19 12:10:48   \n",
       "3  id3504673          2  2016-04-06 19:32:31  2016-04-06 19:39:40   \n",
       "4  id2181028          2  2016-03-26 13:30:55  2016-03-26 13:38:10   \n",
       "\n",
       "   passenger_count  pickup_longitude  pickup_latitude  dropoff_longitude  \\\n",
       "0                1        -73.982155        40.767937         -73.964630   \n",
       "1                1        -73.980415        40.738564         -73.999481   \n",
       "2                1        -73.979027        40.763939         -74.005333   \n",
       "3                1        -74.010040        40.719971         -74.012268   \n",
       "4                1        -73.973053        40.793209         -73.972923   \n",
       "\n",
       "   dropoff_latitude store_and_fwd_flag  trip_duration  \n",
       "0         40.765602                  N            455  \n",
       "1         40.731152                  N            663  \n",
       "2         40.710087                  N           2124  \n",
       "3         40.706718                  N            429  \n",
       "4         40.782520                  N            435  "
      ]
     },
     "execution_count": 21,
     "metadata": {},
     "output_type": "execute_result"
    }
   ],
   "source": [
    "df_train = pd.read_csv('train.csv')\n",
    "df_train.head()"
   ]
  },
  {
   "cell_type": "markdown",
   "id": "0b0a5c4d",
   "metadata": {
    "id": "0b0a5c4d"
   },
   "source": [
    "Variáveis envolvidas no projeto: \n",
    "\n",
    "<p>ID - Registro único de cada corrida na base de dados.</p>\n",
    "<p>vendor_id - ID da empresa associada que fez o registro da corrida.</p>\n",
    "<p>pickup_datetime- Data e horário do início da corrida.</p>\n",
    "<p>dropoff_datetime - Data e horário do final da corrida.</p>\n",
    "<p>passenger_count- Número de passageiros em cada corrida.</p>\n",
    "<p>pickup_longitude - Coordenada de longitude do inicio da corrida.</p>\n",
    "<p> pickup_latitude - Coordenada de latitude do inicio da corrida.</p>\n",
    "<p>dropoff_longitude - Coordenada de longitude do final da corrida.</p>\n",
    "<p>dropoff_latitude - Coordenada de latitude do final da corrida.</p>\n",
    "<p>store_and_fwd_flag - Indicativo se o taxi estava conectado a internet e enviou as informações da corrida antes de continuar a próxima.</p>\n",
    "<p>trip_duration - Duração da corrida.</p>"
   ]
  },
  {
   "cell_type": "markdown",
   "id": "f6a6e6a0",
   "metadata": {
    "id": "f6a6e6a0"
   },
   "source": [
    "Tipos das variáveis e tamanho da base de dados."
   ]
  },
  {
   "cell_type": "code",
   "execution_count": 22,
   "id": "f0Zp78d35Zib",
   "metadata": {
    "colab": {
     "base_uri": "https://localhost:8080/"
    },
    "executionInfo": {
     "elapsed": 455,
     "status": "ok",
     "timestamp": 1628105831549,
     "user": {
      "displayName": "Bruno Sousa",
      "photoUrl": "",
      "userId": "03776589829833325726"
     },
     "user_tz": 180
    },
    "id": "f0Zp78d35Zib",
    "outputId": "2c52cdb0-8625-471e-b351-8842390279c0",
    "scrolled": true
   },
   "outputs": [
    {
     "name": "stdout",
     "output_type": "stream",
     "text": [
      "<class 'pandas.core.frame.DataFrame'>\n",
      "RangeIndex: 1458644 entries, 0 to 1458643\n",
      "Data columns (total 11 columns):\n",
      " #   Column              Non-Null Count    Dtype  \n",
      "---  ------              --------------    -----  \n",
      " 0   id                  1458644 non-null  object \n",
      " 1   vendor_id           1458644 non-null  int64  \n",
      " 2   pickup_datetime     1458644 non-null  object \n",
      " 3   dropoff_datetime    1458644 non-null  object \n",
      " 4   passenger_count     1458644 non-null  int64  \n",
      " 5   pickup_longitude    1458644 non-null  float64\n",
      " 6   pickup_latitude     1458644 non-null  float64\n",
      " 7   dropoff_longitude   1458644 non-null  float64\n",
      " 8   dropoff_latitude    1458644 non-null  float64\n",
      " 9   store_and_fwd_flag  1458644 non-null  object \n",
      " 10  trip_duration       1458644 non-null  int64  \n",
      "dtypes: float64(4), int64(3), object(4)\n",
      "memory usage: 122.4+ MB\n"
     ]
    }
   ],
   "source": [
    "df_train.info()"
   ]
  },
  {
   "cell_type": "markdown",
   "id": "7f85658e",
   "metadata": {
    "id": "7f85658e"
   },
   "source": [
    "Distribuição dos valores em cada coluna da base."
   ]
  },
  {
   "cell_type": "code",
   "execution_count": 23,
   "id": "I1J40GVw6Ibj",
   "metadata": {
    "colab": {
     "base_uri": "https://localhost:8080/",
     "height": 297
    },
    "executionInfo": {
     "elapsed": 306,
     "status": "ok",
     "timestamp": 1628105831846,
     "user": {
      "displayName": "Bruno Sousa",
      "photoUrl": "",
      "userId": "03776589829833325726"
     },
     "user_tz": 180
    },
    "id": "I1J40GVw6Ibj",
    "outputId": "1e7b3a1a-6381-4e30-d0e6-fc292653756e",
    "scrolled": true
   },
   "outputs": [
    {
     "data": {
      "text/html": [
       "<div>\n",
       "<style scoped>\n",
       "    .dataframe tbody tr th:only-of-type {\n",
       "        vertical-align: middle;\n",
       "    }\n",
       "\n",
       "    .dataframe tbody tr th {\n",
       "        vertical-align: top;\n",
       "    }\n",
       "\n",
       "    .dataframe thead th {\n",
       "        text-align: right;\n",
       "    }\n",
       "</style>\n",
       "<table border=\"1\" class=\"dataframe\">\n",
       "  <thead>\n",
       "    <tr style=\"text-align: right;\">\n",
       "      <th></th>\n",
       "      <th>vendor_id</th>\n",
       "      <th>passenger_count</th>\n",
       "      <th>pickup_longitude</th>\n",
       "      <th>pickup_latitude</th>\n",
       "      <th>dropoff_longitude</th>\n",
       "      <th>dropoff_latitude</th>\n",
       "      <th>trip_duration</th>\n",
       "    </tr>\n",
       "  </thead>\n",
       "  <tbody>\n",
       "    <tr>\n",
       "      <th>count</th>\n",
       "      <td>1.458644e+06</td>\n",
       "      <td>1.458644e+06</td>\n",
       "      <td>1.458644e+06</td>\n",
       "      <td>1.458644e+06</td>\n",
       "      <td>1.458644e+06</td>\n",
       "      <td>1.458644e+06</td>\n",
       "      <td>1.458644e+06</td>\n",
       "    </tr>\n",
       "    <tr>\n",
       "      <th>mean</th>\n",
       "      <td>1.534950e+00</td>\n",
       "      <td>1.664530e+00</td>\n",
       "      <td>-7.397349e+01</td>\n",
       "      <td>4.075092e+01</td>\n",
       "      <td>-7.397342e+01</td>\n",
       "      <td>4.075180e+01</td>\n",
       "      <td>9.594923e+02</td>\n",
       "    </tr>\n",
       "    <tr>\n",
       "      <th>std</th>\n",
       "      <td>4.987772e-01</td>\n",
       "      <td>1.314242e+00</td>\n",
       "      <td>7.090186e-02</td>\n",
       "      <td>3.288119e-02</td>\n",
       "      <td>7.064327e-02</td>\n",
       "      <td>3.589056e-02</td>\n",
       "      <td>5.237432e+03</td>\n",
       "    </tr>\n",
       "    <tr>\n",
       "      <th>min</th>\n",
       "      <td>1.000000e+00</td>\n",
       "      <td>0.000000e+00</td>\n",
       "      <td>-1.219333e+02</td>\n",
       "      <td>3.435970e+01</td>\n",
       "      <td>-1.219333e+02</td>\n",
       "      <td>3.218114e+01</td>\n",
       "      <td>1.000000e+00</td>\n",
       "    </tr>\n",
       "    <tr>\n",
       "      <th>25%</th>\n",
       "      <td>1.000000e+00</td>\n",
       "      <td>1.000000e+00</td>\n",
       "      <td>-7.399187e+01</td>\n",
       "      <td>4.073735e+01</td>\n",
       "      <td>-7.399133e+01</td>\n",
       "      <td>4.073588e+01</td>\n",
       "      <td>3.970000e+02</td>\n",
       "    </tr>\n",
       "    <tr>\n",
       "      <th>50%</th>\n",
       "      <td>2.000000e+00</td>\n",
       "      <td>1.000000e+00</td>\n",
       "      <td>-7.398174e+01</td>\n",
       "      <td>4.075410e+01</td>\n",
       "      <td>-7.397975e+01</td>\n",
       "      <td>4.075452e+01</td>\n",
       "      <td>6.620000e+02</td>\n",
       "    </tr>\n",
       "    <tr>\n",
       "      <th>75%</th>\n",
       "      <td>2.000000e+00</td>\n",
       "      <td>2.000000e+00</td>\n",
       "      <td>-7.396733e+01</td>\n",
       "      <td>4.076836e+01</td>\n",
       "      <td>-7.396301e+01</td>\n",
       "      <td>4.076981e+01</td>\n",
       "      <td>1.075000e+03</td>\n",
       "    </tr>\n",
       "    <tr>\n",
       "      <th>max</th>\n",
       "      <td>2.000000e+00</td>\n",
       "      <td>9.000000e+00</td>\n",
       "      <td>-6.133553e+01</td>\n",
       "      <td>5.188108e+01</td>\n",
       "      <td>-6.133553e+01</td>\n",
       "      <td>4.392103e+01</td>\n",
       "      <td>3.526282e+06</td>\n",
       "    </tr>\n",
       "  </tbody>\n",
       "</table>\n",
       "</div>"
      ],
      "text/plain": [
       "          vendor_id  passenger_count  pickup_longitude  pickup_latitude  \\\n",
       "count  1.458644e+06     1.458644e+06      1.458644e+06     1.458644e+06   \n",
       "mean   1.534950e+00     1.664530e+00     -7.397349e+01     4.075092e+01   \n",
       "std    4.987772e-01     1.314242e+00      7.090186e-02     3.288119e-02   \n",
       "min    1.000000e+00     0.000000e+00     -1.219333e+02     3.435970e+01   \n",
       "25%    1.000000e+00     1.000000e+00     -7.399187e+01     4.073735e+01   \n",
       "50%    2.000000e+00     1.000000e+00     -7.398174e+01     4.075410e+01   \n",
       "75%    2.000000e+00     2.000000e+00     -7.396733e+01     4.076836e+01   \n",
       "max    2.000000e+00     9.000000e+00     -6.133553e+01     5.188108e+01   \n",
       "\n",
       "       dropoff_longitude  dropoff_latitude  trip_duration  \n",
       "count       1.458644e+06      1.458644e+06   1.458644e+06  \n",
       "mean       -7.397342e+01      4.075180e+01   9.594923e+02  \n",
       "std         7.064327e-02      3.589056e-02   5.237432e+03  \n",
       "min        -1.219333e+02      3.218114e+01   1.000000e+00  \n",
       "25%        -7.399133e+01      4.073588e+01   3.970000e+02  \n",
       "50%        -7.397975e+01      4.075452e+01   6.620000e+02  \n",
       "75%        -7.396301e+01      4.076981e+01   1.075000e+03  \n",
       "max        -6.133553e+01      4.392103e+01   3.526282e+06  "
      ]
     },
     "execution_count": 23,
     "metadata": {},
     "output_type": "execute_result"
    }
   ],
   "source": [
    "df_train.describe()"
   ]
  },
  {
   "cell_type": "markdown",
   "id": "8f22408d",
   "metadata": {
    "id": "8f22408d"
   },
   "source": [
    "Não há valores nulos ou faltantes em todas as colunas."
   ]
  },
  {
   "cell_type": "code",
   "execution_count": 24,
   "id": "k26FVDl16gwh",
   "metadata": {
    "colab": {
     "base_uri": "https://localhost:8080/"
    },
    "executionInfo": {
     "elapsed": 396,
     "status": "ok",
     "timestamp": 1628105832232,
     "user": {
      "displayName": "Bruno Sousa",
      "photoUrl": "",
      "userId": "03776589829833325726"
     },
     "user_tz": 180
    },
    "id": "k26FVDl16gwh",
    "outputId": "64c0ab3d-55ba-4751-fbe0-55ecb6ec2859",
    "scrolled": true
   },
   "outputs": [
    {
     "data": {
      "text/plain": [
       "id                    0\n",
       "vendor_id             0\n",
       "pickup_datetime       0\n",
       "dropoff_datetime      0\n",
       "passenger_count       0\n",
       "pickup_longitude      0\n",
       "pickup_latitude       0\n",
       "dropoff_longitude     0\n",
       "dropoff_latitude      0\n",
       "store_and_fwd_flag    0\n",
       "trip_duration         0\n",
       "dtype: int64"
      ]
     },
     "execution_count": 24,
     "metadata": {},
     "output_type": "execute_result"
    }
   ],
   "source": [
    "df_train.isnull().sum()"
   ]
  },
  {
   "cell_type": "markdown",
   "id": "4eaf26d6",
   "metadata": {
    "id": "4eaf26d6"
   },
   "source": [
    "Quantidade de valores diferentes em cada variável independente."
   ]
  },
  {
   "cell_type": "code",
   "execution_count": 25,
   "id": "StpRMFuKSbbR",
   "metadata": {
    "colab": {
     "base_uri": "https://localhost:8080/"
    },
    "executionInfo": {
     "elapsed": 1469,
     "status": "ok",
     "timestamp": 1628105833695,
     "user": {
      "displayName": "Bruno Sousa",
      "photoUrl": "",
      "userId": "03776589829833325726"
     },
     "user_tz": 180
    },
    "id": "StpRMFuKSbbR",
    "outputId": "381752a3-0673-4443-8a14-10ac898dd16a",
    "scrolled": true
   },
   "outputs": [
    {
     "name": "stdout",
     "output_type": "stream",
     "text": [
      "id - 1458644\n",
      "vendor_id - 2\n",
      "pickup_datetime - 1380222\n",
      "dropoff_datetime - 1380377\n",
      "passenger_count - 10\n",
      "pickup_longitude - 23047\n",
      "pickup_latitude - 45245\n",
      "dropoff_longitude - 33821\n",
      "dropoff_latitude - 62519\n",
      "store_and_fwd_flag - 2\n"
     ]
    }
   ],
   "source": [
    "print(\"id - {}\".format(df_train['id'].nunique()))\n",
    "print(\"vendor_id - {}\".format(df_train['vendor_id'].nunique()))\n",
    "print(\"pickup_datetime - {}\".format(df_train['pickup_datetime'].nunique()))\n",
    "print(\"dropoff_datetime - {}\".format(df_train['dropoff_datetime'].nunique()))\n",
    "print(\"passenger_count - {}\".format(df_train['passenger_count'].nunique()))\n",
    "print(\"pickup_longitude - {}\".format(df_train['pickup_longitude'].nunique()))\n",
    "print(\"pickup_latitude - {}\".format(df_train['pickup_latitude'].nunique()))\n",
    "print(\"dropoff_longitude - {}\".format(df_train['dropoff_longitude'].nunique()))\n",
    "print(\"dropoff_latitude - {}\".format(df_train['dropoff_latitude'].nunique()))\n",
    "print(\"store_and_fwd_flag - {}\".format(df_train['store_and_fwd_flag'].nunique()))"
   ]
  },
  {
   "cell_type": "markdown",
   "id": "89a6a34f",
   "metadata": {
    "id": "89a6a34f"
   },
   "source": [
    "Histograma da variável dependente."
   ]
  },
  {
   "cell_type": "code",
   "execution_count": 26,
   "id": "abka0pFn5y36",
   "metadata": {
    "colab": {
     "base_uri": "https://localhost:8080/",
     "height": 306
    },
    "executionInfo": {
     "elapsed": 613,
     "status": "ok",
     "timestamp": 1628105834293,
     "user": {
      "displayName": "Bruno Sousa",
      "photoUrl": "",
      "userId": "03776589829833325726"
     },
     "user_tz": 180
    },
    "id": "abka0pFn5y36",
    "outputId": "ff6cf8f6-7e25-44e2-fa2a-73e20aed5ab8",
    "scrolled": false
   },
   "outputs": [
    {
     "data": {
      "text/plain": [
       "<AxesSubplot:>"
      ]
     },
     "execution_count": 26,
     "metadata": {},
     "output_type": "execute_result"
    },
    {
     "data": {
      "image/png": "[encoded data removed]",
      "text/plain": [
       "<Figure size 432x288 with 1 Axes>"
      ]
     },
     "metadata": {
      "needs_background": "light"
     },
     "output_type": "display_data"
    }
   ],
   "source": [
    "df_train['trip_duration'].hist(bins=30)"
   ]
  },
  {
   "cell_type": "markdown",
   "id": "2e2bb839",
   "metadata": {
    "id": "2e2bb839"
   },
   "source": [
    "Gráfico de boxplot da variável dependente."
   ]
  },
  {
   "cell_type": "code",
   "execution_count": 27,
   "id": "4rov_iLn56L8",
   "metadata": {
    "colab": {
     "base_uri": "https://localhost:8080/",
     "height": 412
    },
    "executionInfo": {
     "elapsed": 542,
     "status": "ok",
     "timestamp": 1628105834823,
     "user": {
      "displayName": "Bruno Sousa",
      "photoUrl": "",
      "userId": "03776589829833325726"
     },
     "user_tz": 180
    },
    "id": "4rov_iLn56L8",
    "outputId": "c337765a-9805-4a6e-c8ba-a4933189dedc",
    "scrolled": true
   },
   "outputs": [
    {
     "data": {
      "text/plain": [
       "{'whiskers': [<matplotlib.lines.Line2D at 0x28cb76e1250>,\n",
       "  <matplotlib.lines.Line2D at 0x28cb76e15b0>],\n",
       " 'caps': [<matplotlib.lines.Line2D at 0x28cb76e1910>,\n",
       "  <matplotlib.lines.Line2D at 0x28cb76e1c70>],\n",
       " 'boxes': [<matplotlib.lines.Line2D at 0x28cb76d1eb0>],\n",
       " 'medians': [<matplotlib.lines.Line2D at 0x28cb76e1fd0>],\n",
       " 'fliers': [<matplotlib.lines.Line2D at 0x28cb76ea370>],\n",
       " 'means': []}"
      ]
     },
     "execution_count": 27,
     "metadata": {},
     "output_type": "execute_result"
    },
    {
     "data": {
      "image/png": "[encoded data removed]",
      "text/plain": [
       "<Figure size 432x288 with 1 Axes>"
      ]
     },
     "metadata": {
      "needs_background": "light"
     },
     "output_type": "display_data"
    }
   ],
   "source": [
    "plt.boxplot(df_train['trip_duration'])"
   ]
  },
  {
   "cell_type": "markdown",
   "id": "2d98c8ff",
   "metadata": {
    "id": "2d98c8ff"
   },
   "source": [
    "Correlação entre as variáveis dependente e independentes."
   ]
  },
  {
   "cell_type": "code",
   "execution_count": 28,
   "id": "f6582c07",
   "metadata": {
    "colab": {
     "base_uri": "https://localhost:8080/",
     "height": 266
    },
    "executionInfo": {
     "elapsed": 23,
     "status": "ok",
     "timestamp": 1628105834824,
     "user": {
      "displayName": "Bruno Sousa",
      "photoUrl": "",
      "userId": "03776589829833325726"
     },
     "user_tz": 180
    },
    "id": "f6582c07",
    "outputId": "5d33f246-8e17-423b-e768-9e12fc705308",
    "scrolled": true
   },
   "outputs": [
    {
     "data": {
      "text/html": [
       "<div>\n",
       "<style scoped>\n",
       "    .dataframe tbody tr th:only-of-type {\n",
       "        vertical-align: middle;\n",
       "    }\n",
       "\n",
       "    .dataframe tbody tr th {\n",
       "        vertical-align: top;\n",
       "    }\n",
       "\n",
       "    .dataframe thead th {\n",
       "        text-align: right;\n",
       "    }\n",
       "</style>\n",
       "<table border=\"1\" class=\"dataframe\">\n",
       "  <thead>\n",
       "    <tr style=\"text-align: right;\">\n",
       "      <th></th>\n",
       "      <th>vendor_id</th>\n",
       "      <th>passenger_count</th>\n",
       "      <th>pickup_longitude</th>\n",
       "      <th>pickup_latitude</th>\n",
       "      <th>dropoff_longitude</th>\n",
       "      <th>dropoff_latitude</th>\n",
       "      <th>trip_duration</th>\n",
       "    </tr>\n",
       "  </thead>\n",
       "  <tbody>\n",
       "    <tr>\n",
       "      <th>vendor_id</th>\n",
       "      <td>1.000000</td>\n",
       "      <td>0.287415</td>\n",
       "      <td>0.007820</td>\n",
       "      <td>0.001742</td>\n",
       "      <td>0.001528</td>\n",
       "      <td>0.004496</td>\n",
       "      <td>0.020304</td>\n",
       "    </tr>\n",
       "    <tr>\n",
       "      <th>passenger_count</th>\n",
       "      <td>0.287415</td>\n",
       "      <td>1.000000</td>\n",
       "      <td>0.002169</td>\n",
       "      <td>-0.005125</td>\n",
       "      <td>-0.000343</td>\n",
       "      <td>-0.002762</td>\n",
       "      <td>0.008471</td>\n",
       "    </tr>\n",
       "    <tr>\n",
       "      <th>pickup_longitude</th>\n",
       "      <td>0.007820</td>\n",
       "      <td>0.002169</td>\n",
       "      <td>1.000000</td>\n",
       "      <td>0.022568</td>\n",
       "      <td>0.783582</td>\n",
       "      <td>0.100190</td>\n",
       "      <td>0.026542</td>\n",
       "    </tr>\n",
       "    <tr>\n",
       "      <th>pickup_latitude</th>\n",
       "      <td>0.001742</td>\n",
       "      <td>-0.005125</td>\n",
       "      <td>0.022568</td>\n",
       "      <td>1.000000</td>\n",
       "      <td>0.114884</td>\n",
       "      <td>0.494038</td>\n",
       "      <td>-0.029204</td>\n",
       "    </tr>\n",
       "    <tr>\n",
       "      <th>dropoff_longitude</th>\n",
       "      <td>0.001528</td>\n",
       "      <td>-0.000343</td>\n",
       "      <td>0.783582</td>\n",
       "      <td>0.114884</td>\n",
       "      <td>1.000000</td>\n",
       "      <td>0.124873</td>\n",
       "      <td>0.014678</td>\n",
       "    </tr>\n",
       "    <tr>\n",
       "      <th>dropoff_latitude</th>\n",
       "      <td>0.004496</td>\n",
       "      <td>-0.002762</td>\n",
       "      <td>0.100190</td>\n",
       "      <td>0.494038</td>\n",
       "      <td>0.124873</td>\n",
       "      <td>1.000000</td>\n",
       "      <td>-0.020677</td>\n",
       "    </tr>\n",
       "    <tr>\n",
       "      <th>trip_duration</th>\n",
       "      <td>0.020304</td>\n",
       "      <td>0.008471</td>\n",
       "      <td>0.026542</td>\n",
       "      <td>-0.029204</td>\n",
       "      <td>0.014678</td>\n",
       "      <td>-0.020677</td>\n",
       "      <td>1.000000</td>\n",
       "    </tr>\n",
       "  </tbody>\n",
       "</table>\n",
       "</div>"
      ],
      "text/plain": [
       "                   vendor_id  passenger_count  pickup_longitude  \\\n",
       "vendor_id           1.000000         0.287415          0.007820   \n",
       "passenger_count     0.287415         1.000000          0.002169   \n",
       "pickup_longitude    0.007820         0.002169          1.000000   \n",
       "pickup_latitude     0.001742        -0.005125          0.022568   \n",
       "dropoff_longitude   0.001528        -0.000343          0.783582   \n",
       "dropoff_latitude    0.004496        -0.002762          0.100190   \n",
       "trip_duration       0.020304         0.008471          0.026542   \n",
       "\n",
       "                   pickup_latitude  dropoff_longitude  dropoff_latitude  \\\n",
       "vendor_id                 0.001742           0.001528          0.004496   \n",
       "passenger_count          -0.005125          -0.000343         -0.002762   \n",
       "pickup_longitude          0.022568           0.783582          0.100190   \n",
       "pickup_latitude           1.000000           0.114884          0.494038   \n",
       "dropoff_longitude         0.114884           1.000000          0.124873   \n",
       "dropoff_latitude          0.494038           0.124873          1.000000   \n",
       "trip_duration            -0.029204           0.014678         -0.020677   \n",
       "\n",
       "                   trip_duration  \n",
       "vendor_id               0.020304  \n",
       "passenger_count         0.008471  \n",
       "pickup_longitude        0.026542  \n",
       "pickup_latitude        -0.029204  \n",
       "dropoff_longitude       0.014678  \n",
       "dropoff_latitude       -0.020677  \n",
       "trip_duration           1.000000  "
      ]
     },
     "execution_count": 28,
     "metadata": {},
     "output_type": "execute_result"
    }
   ],
   "source": [
    "df_train.corr()"
   ]
  },
  {
   "cell_type": "markdown",
   "id": "6b9424de",
   "metadata": {
    "id": "6b9424de"
   },
   "source": [
    "## Data Preparation"
   ]
  },
  {
   "cell_type": "markdown",
   "id": "3ac5ee5f",
   "metadata": {
    "id": "3ac5ee5f"
   },
   "source": [
    "A variável store_and_fwd_flag possui apenas dois valores distintos no total. "
   ]
  },
  {
   "cell_type": "code",
   "execution_count": 29,
   "id": "YZMSKkGMNogj",
   "metadata": {
    "colab": {
     "base_uri": "https://localhost:8080/"
    },
    "executionInfo": {
     "elapsed": 21,
     "status": "ok",
     "timestamp": 1628105834825,
     "user": {
      "displayName": "Bruno Sousa",
      "photoUrl": "",
      "userId": "03776589829833325726"
     },
     "user_tz": 180
    },
    "id": "YZMSKkGMNogj",
    "outputId": "ab1d0e7d-a2f2-41c5-cfe0-177ecfcd2a9f"
   },
   "outputs": [
    {
     "data": {
      "text/plain": [
       "N    1450599\n",
       "Y       8045\n",
       "Name: store_and_fwd_flag, dtype: int64"
      ]
     },
     "execution_count": 29,
     "metadata": {},
     "output_type": "execute_result"
    }
   ],
   "source": [
    "df_train['store_and_fwd_flag'].value_counts()"
   ]
  },
  {
   "cell_type": "markdown",
   "id": "PgiD8mR6N_AX",
   "metadata": {
    "id": "PgiD8mR6N_AX"
   },
   "source": [
    "Olhando um pouco mais de perto, a variável store_and_fwd_flag além de ter poucos valores diferentes também possui uma distribuição muito baixa entre os dados. Como essa variável já é categórica, decidi não utiliza-la para treinar o modelo."
   ]
  },
  {
   "cell_type": "code",
   "execution_count": 30,
   "id": "skB5nKbeVgLo",
   "metadata": {
    "executionInfo": {
     "elapsed": 412,
     "status": "ok",
     "timestamp": 1628105835221,
     "user": {
      "displayName": "Bruno Sousa",
      "photoUrl": "",
      "userId": "03776589829833325726"
     },
     "user_tz": 180
    },
    "id": "skB5nKbeVgLo"
   },
   "outputs": [],
   "source": [
    "df_train.drop(['store_and_fwd_flag'], axis=1, inplace=True)"
   ]
  },
  {
   "cell_type": "code",
   "execution_count": 31,
   "id": "aff093c9",
   "metadata": {
    "colab": {
     "base_uri": "https://localhost:8080/"
    },
    "executionInfo": {
     "elapsed": 27,
     "status": "ok",
     "timestamp": 1628105835222,
     "user": {
      "displayName": "Bruno Sousa",
      "photoUrl": "",
      "userId": "03776589829833325726"
     },
     "user_tz": 180
    },
    "id": "aff093c9",
    "outputId": "13d2c3c1-ac71-4d02-abdb-698ad9b57645",
    "scrolled": false
   },
   "outputs": [
    {
     "data": {
      "text/plain": [
       "2    780302\n",
       "1    678342\n",
       "Name: vendor_id, dtype: int64"
      ]
     },
     "execution_count": 31,
     "metadata": {},
     "output_type": "execute_result"
    }
   ],
   "source": [
    "df_train['vendor_id'].value_counts()"
   ]
  },
  {
   "cell_type": "markdown",
   "id": "2c6ba9c4",
   "metadata": {
    "id": "2c6ba9c4"
   },
   "source": [
    "A variável vendor_id também possui apenas dois valores distintos, mas sua distribuição é bem mais equilibrada entre os dados. Entretanto, a correlação com a variável dependente é baixa. Não há alguma informação explícita na documentação da base de dados que represente cada um dos valores da variável além da breve descrição apresentada anteriormente. Decidi removê-la do treinamento."
   ]
  },
  {
   "cell_type": "code",
   "execution_count": 32,
   "id": "b0284fcb",
   "metadata": {
    "executionInfo": {
     "elapsed": 9,
     "status": "ok",
     "timestamp": 1628105835222,
     "user": {
      "displayName": "Bruno Sousa",
      "photoUrl": "",
      "userId": "03776589829833325726"
     },
     "user_tz": 180
    },
    "id": "b0284fcb"
   },
   "outputs": [],
   "source": [
    "df_train.drop(['vendor_id'], axis=1, inplace=True)"
   ]
  },
  {
   "cell_type": "markdown",
   "id": "600dcc2f",
   "metadata": {
    "id": "600dcc2f"
   },
   "source": [
    "É necessário realizar algumas manipulações na variável pickup_datetime. A variável é do tipo string, e como temos um milhão quatrocentos e cinquenta e oito mil seiscentos e quarenta e quatro linhas no dataframe, uma mudança para variável tipo dummy é impraticável pela quantidade de dados. Vou dividir os dados nas seguintes categorias:\n",
    "\n",
    "00:00 até 05:59 - madrugada.\n",
    "06:00 até 11:59 - manhã.\n",
    "12:00 até 17:59 - tarde.\n",
    "18:00 até 23:59 - noite.\n",
    "\n",
    "Em relação a variável dropoff_datetime, decidi não utilizá-la pois tem o mesmo sentido que o resultado da previsão do tempo da corrida."
   ]
  },
  {
   "cell_type": "code",
   "execution_count": 33,
   "id": "qB9wTCTBVNBU",
   "metadata": {
    "executionInfo": {
     "elapsed": 251,
     "status": "ok",
     "timestamp": 1628105835465,
     "user": {
      "displayName": "Bruno Sousa",
      "photoUrl": "",
      "userId": "03776589829833325726"
     },
     "user_tz": 180
    },
    "id": "qB9wTCTBVNBU"
   },
   "outputs": [],
   "source": [
    "df_train.drop(['dropoff_datetime'], axis=1, inplace=True)"
   ]
  },
  {
   "cell_type": "markdown",
   "id": "e48d60a1",
   "metadata": {
    "id": "e48d60a1"
   },
   "source": [
    "Convertendo horários e datas para períodos do dia na variável pickup_datetime."
   ]
  },
  {
   "cell_type": "code",
   "execution_count": 34,
   "id": "b637b166",
   "metadata": {
    "executionInfo": {
     "elapsed": 12714,
     "status": "ok",
     "timestamp": 1628105848175,
     "user": {
      "displayName": "Bruno Sousa",
      "photoUrl": "",
      "userId": "03776589829833325726"
     },
     "user_tz": 180
    },
    "id": "b637b166",
    "scrolled": false
   },
   "outputs": [],
   "source": [
    "df_train['pickup_datetime'] = pd.to_datetime(df_train['pickup_datetime'])\n",
    "\n",
    "df_temp = df_train.loc[:, ['pickup_datetime']]\n",
    "\n",
    "df_train.loc[(df_temp['pickup_datetime'].dt.time >= time(0, 0, 0)) & (df_temp['pickup_datetime'].dt.time < time(6, 0, 0)), 'pickup_datetime'] = 'madrugada'\n",
    "df_train.loc[(df_temp['pickup_datetime'].dt.time >= time(6, 0, 0)) & (df_temp['pickup_datetime'].dt.time < time(12, 0, 0)), 'pickup_datetime'] = 'manha'\n",
    "df_train.loc[(df_temp['pickup_datetime'].dt.time >= time(12, 0, 0)) & (df_temp['pickup_datetime'].dt.time < time(18, 0, 0)), 'pickup_datetime'] = 'tarde'\n",
    "df_train.loc[(df_temp['pickup_datetime'].dt.time >= time(18, 0, 0)) & (df_temp['pickup_datetime'].dt.time <= time(23, 59, 59)), 'pickup_datetime'] = 'noite'"
   ]
  },
  {
   "cell_type": "markdown",
   "id": "b54e2e7e",
   "metadata": {
    "id": "b54e2e7e"
   },
   "source": [
    "Transformando os dados da coluna pickup_datetime para variáveis dummy."
   ]
  },
  {
   "cell_type": "code",
   "execution_count": 35,
   "id": "16fb7141",
   "metadata": {
    "executionInfo": {
     "elapsed": 32,
     "status": "ok",
     "timestamp": 1628105848177,
     "user": {
      "displayName": "Bruno Sousa",
      "photoUrl": "",
      "userId": "03776589829833325726"
     },
     "user_tz": 180
    },
    "id": "16fb7141"
   },
   "outputs": [],
   "source": [
    "df_train = pd.get_dummies(df_train, columns=['pickup_datetime'])"
   ]
  },
  {
   "cell_type": "markdown",
   "id": "HuLrdeKITqzl",
   "metadata": {
    "id": "HuLrdeKITqzl"
   },
   "source": [
    "Temos no dataset quatro variáveis de coordenadas geográficas. Com base nessas variáveis conseguimos obter uma distância aproximada da corrida. Isso é interessante para tentar criar uma correlação maior com a variável dependente trip_duration. Como este é um projeto experimental, vou utilizar a distância de haversine. Essa distância seria uma linha reta entre dois pontos no globo terrestre. Não utilizei bibliotecas como a do Google Maps devido a cobrança por requests ou por baixo desempenho de bibliotecas gratuitas para a quantidade de dados na base."
   ]
  },
  {
   "cell_type": "markdown",
   "id": "419c736a",
   "metadata": {
    "id": "419c736a"
   },
   "source": [
    "Convertendo as coordenadas geográficas para distância em quilômetros."
   ]
  },
  {
   "cell_type": "code",
   "execution_count": 36,
   "id": "eb819398",
   "metadata": {
    "executionInfo": {
     "elapsed": 35848,
     "status": "ok",
     "timestamp": 1628105883996,
     "user": {
      "displayName": "Bruno Sousa",
      "photoUrl": "",
      "userId": "03776589829833325726"
     },
     "user_tz": 180
    },
    "id": "eb819398"
   },
   "outputs": [],
   "source": [
    "quilometragem = df_train.apply(\n",
    "                                    lambda row: round(haversine((row['pickup_latitude'], row['pickup_longitude']),\n",
    "                                                        (row['dropoff_latitude'],row['dropoff_longitude'])), 1),\n",
    "                                    axis=1\n",
    "                                )\n",
    "\n",
    "df_train['quilometragem'] = quilometragem"
   ]
  },
  {
   "cell_type": "markdown",
   "id": "7ab3bebf",
   "metadata": {
    "id": "7ab3bebf"
   },
   "source": [
    "As colunas abaixo foram transformadas para a nova coluna quilometragem. Não será mais necessário utilizá-las."
   ]
  },
  {
   "cell_type": "code",
   "execution_count": 37,
   "id": "LKsYGweTUnvy",
   "metadata": {
    "executionInfo": {
     "elapsed": 67,
     "status": "ok",
     "timestamp": 1628105884003,
     "user": {
      "displayName": "Bruno Sousa",
      "photoUrl": "",
      "userId": "03776589829833325726"
     },
     "user_tz": 180
    },
    "id": "LKsYGweTUnvy"
   },
   "outputs": [],
   "source": [
    "df_train.drop(['pickup_latitude', 'pickup_longitude', 'dropoff_latitude', 'dropoff_longitude'], axis=1, inplace=True)"
   ]
  },
  {
   "cell_type": "markdown",
   "id": "df1a5235",
   "metadata": {
    "id": "df1a5235"
   },
   "source": [
    "Como ficou a distribuição dos dados após a transformação das variáveis de coordenada geográfica."
   ]
  },
  {
   "cell_type": "code",
   "execution_count": 38,
   "id": "1e078c51",
   "metadata": {
    "colab": {
     "base_uri": "https://localhost:8080/"
    },
    "executionInfo": {
     "elapsed": 59,
     "status": "ok",
     "timestamp": 1628105884004,
     "user": {
      "displayName": "Bruno Sousa",
      "photoUrl": "",
      "userId": "03776589829833325726"
     },
     "user_tz": 180
    },
    "id": "1e078c51",
    "outputId": "474cf62b-298f-46cf-e1a8-235e7391a4ab"
   },
   "outputs": [
    {
     "data": {
      "text/plain": [
       "count    1.458644e+06\n",
       "mean     3.440831e+00\n",
       "std      4.296641e+00\n",
       "min      0.000000e+00\n",
       "25%      1.200000e+00\n",
       "50%      2.100000e+00\n",
       "75%      3.900000e+00\n",
       "max      1.240900e+03\n",
       "Name: quilometragem, dtype: float64"
      ]
     },
     "execution_count": 38,
     "metadata": {},
     "output_type": "execute_result"
    }
   ],
   "source": [
    "df_train['quilometragem'].describe()"
   ]
  },
  {
   "cell_type": "code",
   "execution_count": 39,
   "id": "e834121a",
   "metadata": {
    "colab": {
     "base_uri": "https://localhost:8080/",
     "height": 419
    },
    "executionInfo": {
     "elapsed": 45,
     "status": "ok",
     "timestamp": 1628105884005,
     "user": {
      "displayName": "Bruno Sousa",
      "photoUrl": "",
      "userId": "03776589829833325726"
     },
     "user_tz": 180
    },
    "id": "e834121a",
    "outputId": "500ad9b4-0374-473b-bc29-cb065c73383f",
    "scrolled": true
   },
   "outputs": [
    {
     "data": {
      "text/html": [
       "<div>\n",
       "<style scoped>\n",
       "    .dataframe tbody tr th:only-of-type {\n",
       "        vertical-align: middle;\n",
       "    }\n",
       "\n",
       "    .dataframe tbody tr th {\n",
       "        vertical-align: top;\n",
       "    }\n",
       "\n",
       "    .dataframe thead th {\n",
       "        text-align: right;\n",
       "    }\n",
       "</style>\n",
       "<table border=\"1\" class=\"dataframe\">\n",
       "  <thead>\n",
       "    <tr style=\"text-align: right;\">\n",
       "      <th></th>\n",
       "      <th>id</th>\n",
       "      <th>passenger_count</th>\n",
       "      <th>trip_duration</th>\n",
       "      <th>pickup_datetime_madrugada</th>\n",
       "      <th>pickup_datetime_manha</th>\n",
       "      <th>pickup_datetime_noite</th>\n",
       "      <th>pickup_datetime_tarde</th>\n",
       "      <th>quilometragem</th>\n",
       "    </tr>\n",
       "  </thead>\n",
       "  <tbody>\n",
       "    <tr>\n",
       "      <th>246</th>\n",
       "      <td>id3487442</td>\n",
       "      <td>1</td>\n",
       "      <td>227</td>\n",
       "      <td>0</td>\n",
       "      <td>0</td>\n",
       "      <td>1</td>\n",
       "      <td>0</td>\n",
       "      <td>0.0</td>\n",
       "    </tr>\n",
       "    <tr>\n",
       "      <th>291</th>\n",
       "      <td>id0924324</td>\n",
       "      <td>2</td>\n",
       "      <td>1109</td>\n",
       "      <td>0</td>\n",
       "      <td>0</td>\n",
       "      <td>1</td>\n",
       "      <td>0</td>\n",
       "      <td>0.0</td>\n",
       "    </tr>\n",
       "    <tr>\n",
       "      <th>323</th>\n",
       "      <td>id2954399</td>\n",
       "      <td>1</td>\n",
       "      <td>40</td>\n",
       "      <td>0</td>\n",
       "      <td>1</td>\n",
       "      <td>0</td>\n",
       "      <td>0</td>\n",
       "      <td>0.0</td>\n",
       "    </tr>\n",
       "    <tr>\n",
       "      <th>337</th>\n",
       "      <td>id0790613</td>\n",
       "      <td>1</td>\n",
       "      <td>1778</td>\n",
       "      <td>0</td>\n",
       "      <td>0</td>\n",
       "      <td>0</td>\n",
       "      <td>1</td>\n",
       "      <td>0.0</td>\n",
       "    </tr>\n",
       "    <tr>\n",
       "      <th>407</th>\n",
       "      <td>id1145809</td>\n",
       "      <td>6</td>\n",
       "      <td>947</td>\n",
       "      <td>0</td>\n",
       "      <td>0</td>\n",
       "      <td>1</td>\n",
       "      <td>0</td>\n",
       "      <td>0.0</td>\n",
       "    </tr>\n",
       "    <tr>\n",
       "      <th>...</th>\n",
       "      <td>...</td>\n",
       "      <td>...</td>\n",
       "      <td>...</td>\n",
       "      <td>...</td>\n",
       "      <td>...</td>\n",
       "      <td>...</td>\n",
       "      <td>...</td>\n",
       "      <td>...</td>\n",
       "    </tr>\n",
       "    <tr>\n",
       "      <th>1457746</th>\n",
       "      <td>id1044471</td>\n",
       "      <td>1</td>\n",
       "      <td>12</td>\n",
       "      <td>0</td>\n",
       "      <td>0</td>\n",
       "      <td>1</td>\n",
       "      <td>0</td>\n",
       "      <td>0.0</td>\n",
       "    </tr>\n",
       "    <tr>\n",
       "      <th>1458044</th>\n",
       "      <td>id3200588</td>\n",
       "      <td>1</td>\n",
       "      <td>7</td>\n",
       "      <td>1</td>\n",
       "      <td>0</td>\n",
       "      <td>0</td>\n",
       "      <td>0</td>\n",
       "      <td>0.0</td>\n",
       "    </tr>\n",
       "    <tr>\n",
       "      <th>1458291</th>\n",
       "      <td>id0078326</td>\n",
       "      <td>1</td>\n",
       "      <td>318</td>\n",
       "      <td>1</td>\n",
       "      <td>0</td>\n",
       "      <td>0</td>\n",
       "      <td>0</td>\n",
       "      <td>0.0</td>\n",
       "    </tr>\n",
       "    <tr>\n",
       "      <th>1458544</th>\n",
       "      <td>id3958653</td>\n",
       "      <td>1</td>\n",
       "      <td>38</td>\n",
       "      <td>0</td>\n",
       "      <td>0</td>\n",
       "      <td>0</td>\n",
       "      <td>1</td>\n",
       "      <td>0.0</td>\n",
       "    </tr>\n",
       "    <tr>\n",
       "      <th>1458602</th>\n",
       "      <td>id2089150</td>\n",
       "      <td>1</td>\n",
       "      <td>26</td>\n",
       "      <td>0</td>\n",
       "      <td>0</td>\n",
       "      <td>0</td>\n",
       "      <td>1</td>\n",
       "      <td>0.0</td>\n",
       "    </tr>\n",
       "  </tbody>\n",
       "</table>\n",
       "<p>11329 rows × 8 columns</p>\n",
       "</div>"
      ],
      "text/plain": [
       "                id  passenger_count  trip_duration  pickup_datetime_madrugada  \\\n",
       "246      id3487442                1            227                          0   \n",
       "291      id0924324                2           1109                          0   \n",
       "323      id2954399                1             40                          0   \n",
       "337      id0790613                1           1778                          0   \n",
       "407      id1145809                6            947                          0   \n",
       "...            ...              ...            ...                        ...   \n",
       "1457746  id1044471                1             12                          0   \n",
       "1458044  id3200588                1              7                          1   \n",
       "1458291  id0078326                1            318                          1   \n",
       "1458544  id3958653                1             38                          0   \n",
       "1458602  id2089150                1             26                          0   \n",
       "\n",
       "         pickup_datetime_manha  pickup_datetime_noite  pickup_datetime_tarde  \\\n",
       "246                          0                      1                      0   \n",
       "291                          0                      1                      0   \n",
       "323                          1                      0                      0   \n",
       "337                          0                      0                      1   \n",
       "407                          0                      1                      0   \n",
       "...                        ...                    ...                    ...   \n",
       "1457746                      0                      1                      0   \n",
       "1458044                      0                      0                      0   \n",
       "1458291                      0                      0                      0   \n",
       "1458544                      0                      0                      1   \n",
       "1458602                      0                      0                      1   \n",
       "\n",
       "         quilometragem  \n",
       "246                0.0  \n",
       "291                0.0  \n",
       "323                0.0  \n",
       "337                0.0  \n",
       "407                0.0  \n",
       "...                ...  \n",
       "1457746            0.0  \n",
       "1458044            0.0  \n",
       "1458291            0.0  \n",
       "1458544            0.0  \n",
       "1458602            0.0  \n",
       "\n",
       "[11329 rows x 8 columns]"
      ]
     },
     "execution_count": 39,
     "metadata": {},
     "output_type": "execute_result"
    }
   ],
   "source": [
    "df_train[df_train['quilometragem'] == 0]"
   ]
  },
  {
   "cell_type": "markdown",
   "id": "b33544c7",
   "metadata": {
    "id": "b33544c7"
   },
   "source": [
    "Após a transformação para a variável quilometragem, alguns valores ficaram zerados. Não é interessante para este algoritmo aprender valores zerados de distância. Abaixo será realizado a limpeza destes dados."
   ]
  },
  {
   "cell_type": "code",
   "execution_count": 40,
   "id": "4e5f497f",
   "metadata": {
    "executionInfo": {
     "elapsed": 376,
     "status": "ok",
     "timestamp": 1628105884346,
     "user": {
      "displayName": "Bruno Sousa",
      "photoUrl": "",
      "userId": "03776589829833325726"
     },
     "user_tz": 180
    },
    "id": "4e5f497f"
   },
   "outputs": [],
   "source": [
    "filtered_km = df_train.query('quilometragem == 0')\n",
    "df_train.drop(filtered_km.index, inplace=True)"
   ]
  },
  {
   "cell_type": "markdown",
   "id": "e9470850",
   "metadata": {
    "id": "e9470850"
   },
   "source": [
    "Como ficou o dataframe após as transformações."
   ]
  },
  {
   "cell_type": "code",
   "execution_count": 41,
   "id": "0324eae0",
   "metadata": {
    "colab": {
     "base_uri": "https://localhost:8080/",
     "height": 204
    },
    "executionInfo": {
     "elapsed": 11,
     "status": "ok",
     "timestamp": 1628105884349,
     "user": {
      "displayName": "Bruno Sousa",
      "photoUrl": "",
      "userId": "03776589829833325726"
     },
     "user_tz": 180
    },
    "id": "0324eae0",
    "outputId": "d2c56280-582b-426f-be9b-fb45e19b3bea",
    "scrolled": false
   },
   "outputs": [
    {
     "data": {
      "text/html": [
       "<div>\n",
       "<style scoped>\n",
       "    .dataframe tbody tr th:only-of-type {\n",
       "        vertical-align: middle;\n",
       "    }\n",
       "\n",
       "    .dataframe tbody tr th {\n",
       "        vertical-align: top;\n",
       "    }\n",
       "\n",
       "    .dataframe thead th {\n",
       "        text-align: right;\n",
       "    }\n",
       "</style>\n",
       "<table border=\"1\" class=\"dataframe\">\n",
       "  <thead>\n",
       "    <tr style=\"text-align: right;\">\n",
       "      <th></th>\n",
       "      <th>id</th>\n",
       "      <th>passenger_count</th>\n",
       "      <th>trip_duration</th>\n",
       "      <th>pickup_datetime_madrugada</th>\n",
       "      <th>pickup_datetime_manha</th>\n",
       "      <th>pickup_datetime_noite</th>\n",
       "      <th>pickup_datetime_tarde</th>\n",
       "      <th>quilometragem</th>\n",
       "    </tr>\n",
       "  </thead>\n",
       "  <tbody>\n",
       "    <tr>\n",
       "      <th>0</th>\n",
       "      <td>id2875421</td>\n",
       "      <td>1</td>\n",
       "      <td>455</td>\n",
       "      <td>0</td>\n",
       "      <td>0</td>\n",
       "      <td>0</td>\n",
       "      <td>1</td>\n",
       "      <td>1.5</td>\n",
       "    </tr>\n",
       "    <tr>\n",
       "      <th>1</th>\n",
       "      <td>id2377394</td>\n",
       "      <td>1</td>\n",
       "      <td>663</td>\n",
       "      <td>1</td>\n",
       "      <td>0</td>\n",
       "      <td>0</td>\n",
       "      <td>0</td>\n",
       "      <td>1.8</td>\n",
       "    </tr>\n",
       "    <tr>\n",
       "      <th>2</th>\n",
       "      <td>id3858529</td>\n",
       "      <td>1</td>\n",
       "      <td>2124</td>\n",
       "      <td>0</td>\n",
       "      <td>1</td>\n",
       "      <td>0</td>\n",
       "      <td>0</td>\n",
       "      <td>6.4</td>\n",
       "    </tr>\n",
       "    <tr>\n",
       "      <th>3</th>\n",
       "      <td>id3504673</td>\n",
       "      <td>1</td>\n",
       "      <td>429</td>\n",
       "      <td>0</td>\n",
       "      <td>0</td>\n",
       "      <td>1</td>\n",
       "      <td>0</td>\n",
       "      <td>1.5</td>\n",
       "    </tr>\n",
       "    <tr>\n",
       "      <th>4</th>\n",
       "      <td>id2181028</td>\n",
       "      <td>1</td>\n",
       "      <td>435</td>\n",
       "      <td>0</td>\n",
       "      <td>0</td>\n",
       "      <td>0</td>\n",
       "      <td>1</td>\n",
       "      <td>1.2</td>\n",
       "    </tr>\n",
       "  </tbody>\n",
       "</table>\n",
       "</div>"
      ],
      "text/plain": [
       "          id  passenger_count  trip_duration  pickup_datetime_madrugada  \\\n",
       "0  id2875421                1            455                          0   \n",
       "1  id2377394                1            663                          1   \n",
       "2  id3858529                1           2124                          0   \n",
       "3  id3504673                1            429                          0   \n",
       "4  id2181028                1            435                          0   \n",
       "\n",
       "   pickup_datetime_manha  pickup_datetime_noite  pickup_datetime_tarde  \\\n",
       "0                      0                      0                      1   \n",
       "1                      0                      0                      0   \n",
       "2                      1                      0                      0   \n",
       "3                      0                      1                      0   \n",
       "4                      0                      0                      1   \n",
       "\n",
       "   quilometragem  \n",
       "0            1.5  \n",
       "1            1.8  \n",
       "2            6.4  \n",
       "3            1.5  \n",
       "4            1.2  "
      ]
     },
     "execution_count": 41,
     "metadata": {},
     "output_type": "execute_result"
    }
   ],
   "source": [
    "df_train.head()"
   ]
  },
  {
   "cell_type": "code",
   "execution_count": 42,
   "id": "537ed1f7",
   "metadata": {
    "colab": {
     "base_uri": "https://localhost:8080/",
     "height": 266
    },
    "executionInfo": {
     "elapsed": 306,
     "status": "ok",
     "timestamp": 1628105884646,
     "user": {
      "displayName": "Bruno Sousa",
      "photoUrl": "",
      "userId": "03776589829833325726"
     },
     "user_tz": 180
    },
    "id": "537ed1f7",
    "outputId": "6d159770-89b7-4f27-c1ef-482f30ba03ce"
   },
   "outputs": [
    {
     "data": {
      "text/html": [
       "<div>\n",
       "<style scoped>\n",
       "    .dataframe tbody tr th:only-of-type {\n",
       "        vertical-align: middle;\n",
       "    }\n",
       "\n",
       "    .dataframe tbody tr th {\n",
       "        vertical-align: top;\n",
       "    }\n",
       "\n",
       "    .dataframe thead th {\n",
       "        text-align: right;\n",
       "    }\n",
       "</style>\n",
       "<table border=\"1\" class=\"dataframe\">\n",
       "  <thead>\n",
       "    <tr style=\"text-align: right;\">\n",
       "      <th></th>\n",
       "      <th>passenger_count</th>\n",
       "      <th>trip_duration</th>\n",
       "      <th>pickup_datetime_madrugada</th>\n",
       "      <th>pickup_datetime_manha</th>\n",
       "      <th>pickup_datetime_noite</th>\n",
       "      <th>pickup_datetime_tarde</th>\n",
       "      <th>quilometragem</th>\n",
       "    </tr>\n",
       "  </thead>\n",
       "  <tbody>\n",
       "    <tr>\n",
       "      <th>passenger_count</th>\n",
       "      <td>1.000000</td>\n",
       "      <td>0.008408</td>\n",
       "      <td>0.007668</td>\n",
       "      <td>-0.019891</td>\n",
       "      <td>0.008741</td>\n",
       "      <td>0.004255</td>\n",
       "      <td>0.009857</td>\n",
       "    </tr>\n",
       "    <tr>\n",
       "      <th>trip_duration</th>\n",
       "      <td>0.008408</td>\n",
       "      <td>1.000000</td>\n",
       "      <td>-0.003691</td>\n",
       "      <td>-0.005448</td>\n",
       "      <td>-0.003858</td>\n",
       "      <td>0.011759</td>\n",
       "      <td>0.094625</td>\n",
       "    </tr>\n",
       "    <tr>\n",
       "      <th>pickup_datetime_madrugada</th>\n",
       "      <td>0.007668</td>\n",
       "      <td>-0.003691</td>\n",
       "      <td>1.000000</td>\n",
       "      <td>-0.207748</td>\n",
       "      <td>-0.263188</td>\n",
       "      <td>-0.235765</td>\n",
       "      <td>0.063879</td>\n",
       "    </tr>\n",
       "    <tr>\n",
       "      <th>pickup_datetime_manha</th>\n",
       "      <td>-0.019891</td>\n",
       "      <td>-0.005448</td>\n",
       "      <td>-0.207748</td>\n",
       "      <td>1.000000</td>\n",
       "      <td>-0.411428</td>\n",
       "      <td>-0.368560</td>\n",
       "      <td>-0.036549</td>\n",
       "    </tr>\n",
       "    <tr>\n",
       "      <th>pickup_datetime_noite</th>\n",
       "      <td>0.008741</td>\n",
       "      <td>-0.003858</td>\n",
       "      <td>-0.263188</td>\n",
       "      <td>-0.411428</td>\n",
       "      <td>1.000000</td>\n",
       "      <td>-0.466914</td>\n",
       "      <td>0.006950</td>\n",
       "    </tr>\n",
       "    <tr>\n",
       "      <th>pickup_datetime_tarde</th>\n",
       "      <td>0.004255</td>\n",
       "      <td>0.011759</td>\n",
       "      <td>-0.235765</td>\n",
       "      <td>-0.368560</td>\n",
       "      <td>-0.466914</td>\n",
       "      <td>1.000000</td>\n",
       "      <td>-0.017831</td>\n",
       "    </tr>\n",
       "    <tr>\n",
       "      <th>quilometragem</th>\n",
       "      <td>0.009857</td>\n",
       "      <td>0.094625</td>\n",
       "      <td>0.063879</td>\n",
       "      <td>-0.036549</td>\n",
       "      <td>0.006950</td>\n",
       "      <td>-0.017831</td>\n",
       "      <td>1.000000</td>\n",
       "    </tr>\n",
       "  </tbody>\n",
       "</table>\n",
       "</div>"
      ],
      "text/plain": [
       "                           passenger_count  trip_duration  \\\n",
       "passenger_count                   1.000000       0.008408   \n",
       "trip_duration                     0.008408       1.000000   \n",
       "pickup_datetime_madrugada         0.007668      -0.003691   \n",
       "pickup_datetime_manha            -0.019891      -0.005448   \n",
       "pickup_datetime_noite             0.008741      -0.003858   \n",
       "pickup_datetime_tarde             0.004255       0.011759   \n",
       "quilometragem                     0.009857       0.094625   \n",
       "\n",
       "                           pickup_datetime_madrugada  pickup_datetime_manha  \\\n",
       "passenger_count                             0.007668              -0.019891   \n",
       "trip_duration                              -0.003691              -0.005448   \n",
       "pickup_datetime_madrugada                   1.000000              -0.207748   \n",
       "pickup_datetime_manha                      -0.207748               1.000000   \n",
       "pickup_datetime_noite                      -0.263188              -0.411428   \n",
       "pickup_datetime_tarde                      -0.235765              -0.368560   \n",
       "quilometragem                               0.063879              -0.036549   \n",
       "\n",
       "                           pickup_datetime_noite  pickup_datetime_tarde  \\\n",
       "passenger_count                         0.008741               0.004255   \n",
       "trip_duration                          -0.003858               0.011759   \n",
       "pickup_datetime_madrugada              -0.263188              -0.235765   \n",
       "pickup_datetime_manha                  -0.411428              -0.368560   \n",
       "pickup_datetime_noite                   1.000000              -0.466914   \n",
       "pickup_datetime_tarde                  -0.466914               1.000000   \n",
       "quilometragem                           0.006950              -0.017831   \n",
       "\n",
       "                           quilometragem  \n",
       "passenger_count                 0.009857  \n",
       "trip_duration                   0.094625  \n",
       "pickup_datetime_madrugada       0.063879  \n",
       "pickup_datetime_manha          -0.036549  \n",
       "pickup_datetime_noite           0.006950  \n",
       "pickup_datetime_tarde          -0.017831  \n",
       "quilometragem                   1.000000  "
      ]
     },
     "execution_count": 42,
     "metadata": {},
     "output_type": "execute_result"
    }
   ],
   "source": [
    "df_train.corr()"
   ]
  },
  {
   "cell_type": "markdown",
   "id": "bc22de4c",
   "metadata": {
    "id": "bc22de4c"
   },
   "source": [
    "Com as transformações que realizamos ainda não conseguimos atingir uma correlação interessante entre as variáveis. Entretanto, existem diversos outliers na variável trip_duration (variável dependente). Isso pode estar atrapalhando a correlação entre as variáveis. Abaixo será realizada a limpeza dos dados outliers desta variável utilizando o método IQR (Inter Quartile Range)"
   ]
  },
  {
   "cell_type": "code",
   "execution_count": 43,
   "id": "sJCnxXO__b2B",
   "metadata": {
    "executionInfo": {
     "elapsed": 309,
     "status": "ok",
     "timestamp": 1628105884946,
     "user": {
      "displayName": "Bruno Sousa",
      "photoUrl": "",
      "userId": "03776589829833325726"
     },
     "user_tz": 180
    },
    "id": "sJCnxXO__b2B"
   },
   "outputs": [],
   "source": [
    "Q1 = df_train['trip_duration'].quantile(0.25)\n",
    "Q3 = df_train['trip_duration'].quantile(0.75)\n",
    "IQR = Q3 - Q1\n",
    "\n",
    "filtered = df_train.query('(@Q1 - 1.5 * @IQR) < trip_duration > (@Q3 + 1.5 * @IQR)')\n",
    "df_train.drop(filtered.index, inplace=True)"
   ]
  },
  {
   "cell_type": "code",
   "execution_count": 44,
   "id": "08524e4d",
   "metadata": {
    "colab": {
     "base_uri": "https://localhost:8080/",
     "height": 401
    },
    "executionInfo": {
     "elapsed": 18,
     "status": "ok",
     "timestamp": 1628105884949,
     "user": {
      "displayName": "Bruno Sousa",
      "photoUrl": "",
      "userId": "03776589829833325726"
     },
     "user_tz": 180
    },
    "id": "08524e4d",
    "outputId": "663f9e8c-f2d1-4a86-d3ac-cf5b14e783e3"
   },
   "outputs": [
    {
     "data": {
      "text/plain": [
       "{'whiskers': [<matplotlib.lines.Line2D at 0x28d123afee0>,\n",
       "  <matplotlib.lines.Line2D at 0x28d03df6280>],\n",
       " 'caps': [<matplotlib.lines.Line2D at 0x28d03df65e0>,\n",
       "  <matplotlib.lines.Line2D at 0x28d03df6940>],\n",
       " 'boxes': [<matplotlib.lines.Line2D at 0x28d123afb80>],\n",
       " 'medians': [<matplotlib.lines.Line2D at 0x28d03df6ca0>],\n",
       " 'fliers': [<matplotlib.lines.Line2D at 0x28d03dea040>],\n",
       " 'means': []}"
      ]
     },
     "execution_count": 44,
     "metadata": {},
     "output_type": "execute_result"
    },
    {
     "data": {
      "image/png": "[encoded data removed]",
      "text/plain": [
       "<Figure size 432x288 with 1 Axes>"
      ]
     },
     "metadata": {
      "needs_background": "light"
     },
     "output_type": "display_data"
    }
   ],
   "source": [
    "plt.boxplot(df_train['trip_duration'])"
   ]
  },
  {
   "cell_type": "code",
   "execution_count": 45,
   "id": "d27c899e",
   "metadata": {
    "colab": {
     "base_uri": "https://localhost:8080/",
     "height": 282
    },
    "executionInfo": {
     "elapsed": 290,
     "status": "ok",
     "timestamp": 1628105885231,
     "user": {
      "displayName": "Bruno Sousa",
      "photoUrl": "",
      "userId": "03776589829833325726"
     },
     "user_tz": 180
    },
    "id": "d27c899e",
    "outputId": "68988ea9-0ba8-4f13-b6d0-f0f4fa5ce234",
    "scrolled": true
   },
   "outputs": [
    {
     "data": {
      "text/plain": [
       "<AxesSubplot:>"
      ]
     },
     "execution_count": 45,
     "metadata": {},
     "output_type": "execute_result"
    },
    {
     "data": {
      "image/png": "[encoded data removed]",
      "text/plain": [
       "<Figure size 432x288 with 1 Axes>"
      ]
     },
     "metadata": {
      "needs_background": "light"
     },
     "output_type": "display_data"
    }
   ],
   "source": [
    "df_train['trip_duration'].hist(bins=30)"
   ]
  },
  {
   "cell_type": "markdown",
   "id": "a9c9ca20",
   "metadata": {
    "id": "a9c9ca20"
   },
   "source": [
    "A distribuição dos valores e a distância entre os outliers e o máximo do gráfico de boxplot melhorou consideravelmente após a limpeza dos dados na variável trip_duration."
   ]
  },
  {
   "cell_type": "code",
   "execution_count": 46,
   "id": "bd774d6a",
   "metadata": {
    "colab": {
     "base_uri": "https://localhost:8080/",
     "height": 266
    },
    "executionInfo": {
     "elapsed": 370,
     "status": "ok",
     "timestamp": 1628105885583,
     "user": {
      "displayName": "Bruno Sousa",
      "photoUrl": "",
      "userId": "03776589829833325726"
     },
     "user_tz": 180
    },
    "id": "bd774d6a",
    "outputId": "d4efdfac-e18b-448a-a508-ac8a4031a8a8",
    "scrolled": true
   },
   "outputs": [
    {
     "data": {
      "text/html": [
       "<div>\n",
       "<style scoped>\n",
       "    .dataframe tbody tr th:only-of-type {\n",
       "        vertical-align: middle;\n",
       "    }\n",
       "\n",
       "    .dataframe tbody tr th {\n",
       "        vertical-align: top;\n",
       "    }\n",
       "\n",
       "    .dataframe thead th {\n",
       "        text-align: right;\n",
       "    }\n",
       "</style>\n",
       "<table border=\"1\" class=\"dataframe\">\n",
       "  <thead>\n",
       "    <tr style=\"text-align: right;\">\n",
       "      <th></th>\n",
       "      <th>passenger_count</th>\n",
       "      <th>trip_duration</th>\n",
       "      <th>pickup_datetime_madrugada</th>\n",
       "      <th>pickup_datetime_manha</th>\n",
       "      <th>pickup_datetime_noite</th>\n",
       "      <th>pickup_datetime_tarde</th>\n",
       "      <th>quilometragem</th>\n",
       "    </tr>\n",
       "  </thead>\n",
       "  <tbody>\n",
       "    <tr>\n",
       "      <th>passenger_count</th>\n",
       "      <td>1.000000</td>\n",
       "      <td>0.010363</td>\n",
       "      <td>0.008290</td>\n",
       "      <td>-0.020174</td>\n",
       "      <td>0.009423</td>\n",
       "      <td>0.003314</td>\n",
       "      <td>0.004923</td>\n",
       "    </tr>\n",
       "    <tr>\n",
       "      <th>trip_duration</th>\n",
       "      <td>0.010363</td>\n",
       "      <td>1.000000</td>\n",
       "      <td>-0.025750</td>\n",
       "      <td>-0.018342</td>\n",
       "      <td>-0.002006</td>\n",
       "      <td>0.038156</td>\n",
       "      <td>0.601224</td>\n",
       "    </tr>\n",
       "    <tr>\n",
       "      <th>pickup_datetime_madrugada</th>\n",
       "      <td>0.008290</td>\n",
       "      <td>-0.025750</td>\n",
       "      <td>1.000000</td>\n",
       "      <td>-0.211666</td>\n",
       "      <td>-0.270378</td>\n",
       "      <td>-0.234762</td>\n",
       "      <td>0.122473</td>\n",
       "    </tr>\n",
       "    <tr>\n",
       "      <th>pickup_datetime_manha</th>\n",
       "      <td>-0.020174</td>\n",
       "      <td>-0.018342</td>\n",
       "      <td>-0.211666</td>\n",
       "      <td>1.000000</td>\n",
       "      <td>-0.416308</td>\n",
       "      <td>-0.361468</td>\n",
       "      <td>-0.038761</td>\n",
       "    </tr>\n",
       "    <tr>\n",
       "      <th>pickup_datetime_noite</th>\n",
       "      <td>0.009423</td>\n",
       "      <td>-0.002006</td>\n",
       "      <td>-0.270378</td>\n",
       "      <td>-0.416308</td>\n",
       "      <td>1.000000</td>\n",
       "      <td>-0.461732</td>\n",
       "      <td>0.033516</td>\n",
       "    </tr>\n",
       "    <tr>\n",
       "      <th>pickup_datetime_tarde</th>\n",
       "      <td>0.003314</td>\n",
       "      <td>0.038156</td>\n",
       "      <td>-0.234762</td>\n",
       "      <td>-0.361468</td>\n",
       "      <td>-0.461732</td>\n",
       "      <td>1.000000</td>\n",
       "      <td>-0.086705</td>\n",
       "    </tr>\n",
       "    <tr>\n",
       "      <th>quilometragem</th>\n",
       "      <td>0.004923</td>\n",
       "      <td>0.601224</td>\n",
       "      <td>0.122473</td>\n",
       "      <td>-0.038761</td>\n",
       "      <td>0.033516</td>\n",
       "      <td>-0.086705</td>\n",
       "      <td>1.000000</td>\n",
       "    </tr>\n",
       "  </tbody>\n",
       "</table>\n",
       "</div>"
      ],
      "text/plain": [
       "                           passenger_count  trip_duration  \\\n",
       "passenger_count                   1.000000       0.010363   \n",
       "trip_duration                     0.010363       1.000000   \n",
       "pickup_datetime_madrugada         0.008290      -0.025750   \n",
       "pickup_datetime_manha            -0.020174      -0.018342   \n",
       "pickup_datetime_noite             0.009423      -0.002006   \n",
       "pickup_datetime_tarde             0.003314       0.038156   \n",
       "quilometragem                     0.004923       0.601224   \n",
       "\n",
       "                           pickup_datetime_madrugada  pickup_datetime_manha  \\\n",
       "passenger_count                             0.008290              -0.020174   \n",
       "trip_duration                              -0.025750              -0.018342   \n",
       "pickup_datetime_madrugada                   1.000000              -0.211666   \n",
       "pickup_datetime_manha                      -0.211666               1.000000   \n",
       "pickup_datetime_noite                      -0.270378              -0.416308   \n",
       "pickup_datetime_tarde                      -0.234762              -0.361468   \n",
       "quilometragem                               0.122473              -0.038761   \n",
       "\n",
       "                           pickup_datetime_noite  pickup_datetime_tarde  \\\n",
       "passenger_count                         0.009423               0.003314   \n",
       "trip_duration                          -0.002006               0.038156   \n",
       "pickup_datetime_madrugada              -0.270378              -0.234762   \n",
       "pickup_datetime_manha                  -0.416308              -0.361468   \n",
       "pickup_datetime_noite                   1.000000              -0.461732   \n",
       "pickup_datetime_tarde                  -0.461732               1.000000   \n",
       "quilometragem                           0.033516              -0.086705   \n",
       "\n",
       "                           quilometragem  \n",
       "passenger_count                 0.004923  \n",
       "trip_duration                   0.601224  \n",
       "pickup_datetime_madrugada       0.122473  \n",
       "pickup_datetime_manha          -0.038761  \n",
       "pickup_datetime_noite           0.033516  \n",
       "pickup_datetime_tarde          -0.086705  \n",
       "quilometragem                   1.000000  "
      ]
     },
     "execution_count": 46,
     "metadata": {},
     "output_type": "execute_result"
    }
   ],
   "source": [
    "df_train.corr()"
   ]
  },
  {
   "cell_type": "markdown",
   "id": "6e92cdc9",
   "metadata": {
    "id": "6e92cdc9"
   },
   "source": [
    "Com a retirada dos outliers, podemos ver que a correlação de algumas variáveis respondeu muito melhor com a limpeza dos dados. A variável quilometragem foi a que respondeu melhor."
   ]
  },
  {
   "cell_type": "code",
   "execution_count": 47,
   "id": "d52f7efc",
   "metadata": {
    "colab": {
     "base_uri": "https://localhost:8080/",
     "height": 401
    },
    "executionInfo": {
     "elapsed": 411,
     "status": "ok",
     "timestamp": 1628105885990,
     "user": {
      "displayName": "Bruno Sousa",
      "photoUrl": "",
      "userId": "03776589829833325726"
     },
     "user_tz": 180
    },
    "id": "d52f7efc",
    "outputId": "28943a97-2ee6-4d53-ecec-55d4a8ff9eb5",
    "scrolled": true
   },
   "outputs": [
    {
     "data": {
      "text/plain": [
       "{'whiskers': [<matplotlib.lines.Line2D at 0x28c96f44eb0>,\n",
       "  <matplotlib.lines.Line2D at 0x28c96f53250>],\n",
       " 'caps': [<matplotlib.lines.Line2D at 0x28c96f535b0>,\n",
       "  <matplotlib.lines.Line2D at 0x28c96f53910>],\n",
       " 'boxes': [<matplotlib.lines.Line2D at 0x28c96f44b50>],\n",
       " 'medians': [<matplotlib.lines.Line2D at 0x28c96f53c70>],\n",
       " 'fliers': [<matplotlib.lines.Line2D at 0x28c96f53fd0>],\n",
       " 'means': []}"
      ]
     },
     "execution_count": 47,
     "metadata": {},
     "output_type": "execute_result"
    },
    {
     "data": {
      "image/png": "[encoded data removed]",
      "text/plain": [
       "<Figure size 432x288 with 1 Axes>"
      ]
     },
     "metadata": {
      "needs_background": "light"
     },
     "output_type": "display_data"
    }
   ],
   "source": [
    "plt.boxplot(df_train['quilometragem'])"
   ]
  },
  {
   "cell_type": "code",
   "execution_count": 48,
   "id": "1611d774",
   "metadata": {
    "colab": {
     "base_uri": "https://localhost:8080/",
     "height": 293
    },
    "executionInfo": {
     "elapsed": 551,
     "status": "ok",
     "timestamp": 1628105886533,
     "user": {
      "displayName": "Bruno Sousa",
      "photoUrl": "",
      "userId": "03776589829833325726"
     },
     "user_tz": 180
    },
    "id": "1611d774",
    "outputId": "d06c9124-1172-4c86-caea-a459ec846d55"
   },
   "outputs": [
    {
     "data": {
      "text/plain": [
       "<AxesSubplot:>"
      ]
     },
     "execution_count": 48,
     "metadata": {},
     "output_type": "execute_result"
    },
    {
     "data": {
      "image/png": "[encoded data removed]",
      "text/plain": [
       "<Figure size 432x288 with 1 Axes>"
      ]
     },
     "metadata": {
      "needs_background": "light"
     },
     "output_type": "display_data"
    }
   ],
   "source": [
    "df_train['quilometragem'].hist(bins=30)"
   ]
  },
  {
   "cell_type": "markdown",
   "id": "6638bdfc",
   "metadata": {
    "id": "6638bdfc"
   },
   "source": [
    "A variável quilometragem também tem vários outliers. Abaixo será utilizada a mesma técnica utilizada na variável trip_duration para limpar os dados."
   ]
  },
  {
   "cell_type": "code",
   "execution_count": 49,
   "id": "kXGDy5JQ_dV7",
   "metadata": {
    "executionInfo": {
     "elapsed": 282,
     "status": "ok",
     "timestamp": 1628105886795,
     "user": {
      "displayName": "Bruno Sousa",
      "photoUrl": "",
      "userId": "03776589829833325726"
     },
     "user_tz": 180
    },
    "id": "kXGDy5JQ_dV7"
   },
   "outputs": [],
   "source": [
    "Q1 = df_train['quilometragem'].quantile(0.25)\n",
    "Q3 = df_train['quilometragem'].quantile(0.75)\n",
    "IQR = Q3 - Q1\n",
    "\n",
    "filtered_km = df_train.query('(@Q1 - 1.5 * @IQR) < quilometragem > (@Q3 + 1.5 * @IQR)')\n",
    "df_train.drop(filtered_km.index, inplace=True)"
   ]
  },
  {
   "cell_type": "code",
   "execution_count": 50,
   "id": "441b3529",
   "metadata": {
    "colab": {
     "base_uri": "https://localhost:8080/",
     "height": 401
    },
    "executionInfo": {
     "elapsed": 37,
     "status": "ok",
     "timestamp": 1628105886798,
     "user": {
      "displayName": "Bruno Sousa",
      "photoUrl": "",
      "userId": "03776589829833325726"
     },
     "user_tz": 180
    },
    "id": "441b3529",
    "outputId": "ab5dcc9d-ca0a-4255-9fab-d57892a3b5e3"
   },
   "outputs": [
    {
     "data": {
      "text/plain": [
       "{'whiskers': [<matplotlib.lines.Line2D at 0x28c9702d2b0>,\n",
       "  <matplotlib.lines.Line2D at 0x28c9702d610>],\n",
       " 'caps': [<matplotlib.lines.Line2D at 0x28c9702d970>,\n",
       "  <matplotlib.lines.Line2D at 0x28c9702dcd0>],\n",
       " 'boxes': [<matplotlib.lines.Line2D at 0x28c9701ff10>],\n",
       " 'medians': [<matplotlib.lines.Line2D at 0x28c97038070>],\n",
       " 'fliers': [<matplotlib.lines.Line2D at 0x28c970383d0>],\n",
       " 'means': []}"
      ]
     },
     "execution_count": 50,
     "metadata": {},
     "output_type": "execute_result"
    },
    {
     "data": {
      "image/png": "[encoded data removed]",
      "text/plain": [
       "<Figure size 432x288 with 1 Axes>"
      ]
     },
     "metadata": {
      "needs_background": "light"
     },
     "output_type": "display_data"
    }
   ],
   "source": [
    "plt.boxplot(df_train['quilometragem'])"
   ]
  },
  {
   "cell_type": "code",
   "execution_count": 51,
   "id": "9e456743",
   "metadata": {
    "colab": {
     "base_uri": "https://localhost:8080/",
     "height": 282
    },
    "executionInfo": {
     "elapsed": 417,
     "status": "ok",
     "timestamp": 1628105887195,
     "user": {
      "displayName": "Bruno Sousa",
      "photoUrl": "",
      "userId": "03776589829833325726"
     },
     "user_tz": 180
    },
    "id": "9e456743",
    "outputId": "7ae96456-3cbb-4cf3-c81f-bfb0e3956a37"
   },
   "outputs": [
    {
     "data": {
      "text/plain": [
       "<AxesSubplot:>"
      ]
     },
     "execution_count": 51,
     "metadata": {},
     "output_type": "execute_result"
    },
    {
     "data": {
      "image/png": "[encoded data removed]",
      "text/plain": [
       "<Figure size 432x288 with 1 Axes>"
      ]
     },
     "metadata": {
      "needs_background": "light"
     },
     "output_type": "display_data"
    }
   ],
   "source": [
    "df_train['quilometragem'].hist(bins=30)"
   ]
  },
  {
   "cell_type": "code",
   "execution_count": 52,
   "id": "f8f28f47",
   "metadata": {
    "colab": {
     "base_uri": "https://localhost:8080/",
     "height": 266
    },
    "executionInfo": {
     "elapsed": 244,
     "status": "ok",
     "timestamp": 1628105887425,
     "user": {
      "displayName": "Bruno Sousa",
      "photoUrl": "",
      "userId": "03776589829833325726"
     },
     "user_tz": 180
    },
    "id": "f8f28f47",
    "outputId": "1d23679e-1e0a-4a8b-c8e2-97428ee7991d",
    "scrolled": true
   },
   "outputs": [
    {
     "data": {
      "text/html": [
       "<div>\n",
       "<style scoped>\n",
       "    .dataframe tbody tr th:only-of-type {\n",
       "        vertical-align: middle;\n",
       "    }\n",
       "\n",
       "    .dataframe tbody tr th {\n",
       "        vertical-align: top;\n",
       "    }\n",
       "\n",
       "    .dataframe thead th {\n",
       "        text-align: right;\n",
       "    }\n",
       "</style>\n",
       "<table border=\"1\" class=\"dataframe\">\n",
       "  <thead>\n",
       "    <tr style=\"text-align: right;\">\n",
       "      <th></th>\n",
       "      <th>passenger_count</th>\n",
       "      <th>trip_duration</th>\n",
       "      <th>pickup_datetime_madrugada</th>\n",
       "      <th>pickup_datetime_manha</th>\n",
       "      <th>pickup_datetime_noite</th>\n",
       "      <th>pickup_datetime_tarde</th>\n",
       "      <th>quilometragem</th>\n",
       "    </tr>\n",
       "  </thead>\n",
       "  <tbody>\n",
       "    <tr>\n",
       "      <th>passenger_count</th>\n",
       "      <td>1.000000</td>\n",
       "      <td>0.009909</td>\n",
       "      <td>0.008597</td>\n",
       "      <td>-0.021053</td>\n",
       "      <td>0.010043</td>\n",
       "      <td>0.003604</td>\n",
       "      <td>0.004316</td>\n",
       "    </tr>\n",
       "    <tr>\n",
       "      <th>trip_duration</th>\n",
       "      <td>0.009909</td>\n",
       "      <td>1.000000</td>\n",
       "      <td>-0.083062</td>\n",
       "      <td>-0.005324</td>\n",
       "      <td>-0.012685</td>\n",
       "      <td>0.075243</td>\n",
       "      <td>0.682482</td>\n",
       "    </tr>\n",
       "    <tr>\n",
       "      <th>pickup_datetime_madrugada</th>\n",
       "      <td>0.008597</td>\n",
       "      <td>-0.083062</td>\n",
       "      <td>1.000000</td>\n",
       "      <td>-0.202642</td>\n",
       "      <td>-0.255325</td>\n",
       "      <td>-0.227570</td>\n",
       "      <td>0.095078</td>\n",
       "    </tr>\n",
       "    <tr>\n",
       "      <th>pickup_datetime_manha</th>\n",
       "      <td>-0.021053</td>\n",
       "      <td>-0.005324</td>\n",
       "      <td>-0.202642</td>\n",
       "      <td>1.000000</td>\n",
       "      <td>-0.418630</td>\n",
       "      <td>-0.373124</td>\n",
       "      <td>-0.045445</td>\n",
       "    </tr>\n",
       "    <tr>\n",
       "      <th>pickup_datetime_noite</th>\n",
       "      <td>0.010043</td>\n",
       "      <td>-0.012685</td>\n",
       "      <td>-0.255325</td>\n",
       "      <td>-0.418630</td>\n",
       "      <td>1.000000</td>\n",
       "      <td>-0.470128</td>\n",
       "      <td>0.054297</td>\n",
       "    </tr>\n",
       "    <tr>\n",
       "      <th>pickup_datetime_tarde</th>\n",
       "      <td>0.003604</td>\n",
       "      <td>0.075243</td>\n",
       "      <td>-0.227570</td>\n",
       "      <td>-0.373124</td>\n",
       "      <td>-0.470128</td>\n",
       "      <td>1.000000</td>\n",
       "      <td>-0.078706</td>\n",
       "    </tr>\n",
       "    <tr>\n",
       "      <th>quilometragem</th>\n",
       "      <td>0.004316</td>\n",
       "      <td>0.682482</td>\n",
       "      <td>0.095078</td>\n",
       "      <td>-0.045445</td>\n",
       "      <td>0.054297</td>\n",
       "      <td>-0.078706</td>\n",
       "      <td>1.000000</td>\n",
       "    </tr>\n",
       "  </tbody>\n",
       "</table>\n",
       "</div>"
      ],
      "text/plain": [
       "                           passenger_count  trip_duration  \\\n",
       "passenger_count                   1.000000       0.009909   \n",
       "trip_duration                     0.009909       1.000000   \n",
       "pickup_datetime_madrugada         0.008597      -0.083062   \n",
       "pickup_datetime_manha            -0.021053      -0.005324   \n",
       "pickup_datetime_noite             0.010043      -0.012685   \n",
       "pickup_datetime_tarde             0.003604       0.075243   \n",
       "quilometragem                     0.004316       0.682482   \n",
       "\n",
       "                           pickup_datetime_madrugada  pickup_datetime_manha  \\\n",
       "passenger_count                             0.008597              -0.021053   \n",
       "trip_duration                              -0.083062              -0.005324   \n",
       "pickup_datetime_madrugada                   1.000000              -0.202642   \n",
       "pickup_datetime_manha                      -0.202642               1.000000   \n",
       "pickup_datetime_noite                      -0.255325              -0.418630   \n",
       "pickup_datetime_tarde                      -0.227570              -0.373124   \n",
       "quilometragem                               0.095078              -0.045445   \n",
       "\n",
       "                           pickup_datetime_noite  pickup_datetime_tarde  \\\n",
       "passenger_count                         0.010043               0.003604   \n",
       "trip_duration                          -0.012685               0.075243   \n",
       "pickup_datetime_madrugada              -0.255325              -0.227570   \n",
       "pickup_datetime_manha                  -0.418630              -0.373124   \n",
       "pickup_datetime_noite                   1.000000              -0.470128   \n",
       "pickup_datetime_tarde                  -0.470128               1.000000   \n",
       "quilometragem                           0.054297              -0.078706   \n",
       "\n",
       "                           quilometragem  \n",
       "passenger_count                 0.004316  \n",
       "trip_duration                   0.682482  \n",
       "pickup_datetime_madrugada       0.095078  \n",
       "pickup_datetime_manha          -0.045445  \n",
       "pickup_datetime_noite           0.054297  \n",
       "pickup_datetime_tarde          -0.078706  \n",
       "quilometragem                   1.000000  "
      ]
     },
     "execution_count": 52,
     "metadata": {},
     "output_type": "execute_result"
    }
   ],
   "source": [
    "df_train.corr()"
   ]
  },
  {
   "cell_type": "markdown",
   "id": "cb485816",
   "metadata": {
    "id": "cb485816"
   },
   "source": [
    "A correlação entre as variáveis trip_duration e quilometragem aumentaram 68% com a limpeza dos dados."
   ]
  },
  {
   "cell_type": "markdown",
   "id": "e5161a92",
   "metadata": {
    "id": "e5161a92"
   },
   "source": [
    "Abaixo temos alguns dados da variável passenger_count."
   ]
  },
  {
   "cell_type": "code",
   "execution_count": 53,
   "id": "6c171c44",
   "metadata": {
    "colab": {
     "base_uri": "https://localhost:8080/",
     "height": 282
    },
    "executionInfo": {
     "elapsed": 370,
     "status": "ok",
     "timestamp": 1628105887786,
     "user": {
      "displayName": "Bruno Sousa",
      "photoUrl": "",
      "userId": "03776589829833325726"
     },
     "user_tz": 180
    },
    "id": "6c171c44",
    "outputId": "f2cbe201-daca-4834-eeaa-a1fa438f2cdd"
   },
   "outputs": [
    {
     "data": {
      "text/plain": [
       "<AxesSubplot:>"
      ]
     },
     "execution_count": 53,
     "metadata": {},
     "output_type": "execute_result"
    },
    {
     "data": {
      "image/png": "[encoded data removed]",
      "text/plain": [
       "<Figure size 432x288 with 1 Axes>"
      ]
     },
     "metadata": {
      "needs_background": "light"
     },
     "output_type": "display_data"
    }
   ],
   "source": [
    "df_train['passenger_count'].hist(bins=5)"
   ]
  },
  {
   "cell_type": "code",
   "execution_count": 54,
   "id": "4b0775fa",
   "metadata": {
    "colab": {
     "base_uri": "https://localhost:8080/",
     "height": 401
    },
    "executionInfo": {
     "elapsed": 405,
     "status": "ok",
     "timestamp": 1628105888182,
     "user": {
      "displayName": "Bruno Sousa",
      "photoUrl": "",
      "userId": "03776589829833325726"
     },
     "user_tz": 180
    },
    "id": "4b0775fa",
    "outputId": "24927a05-eb83-43c3-d13b-7325e096ea46",
    "scrolled": true
   },
   "outputs": [
    {
     "data": {
      "text/plain": [
       "{'whiskers': [<matplotlib.lines.Line2D at 0x28c971b91f0>,\n",
       "  <matplotlib.lines.Line2D at 0x28c971b9550>],\n",
       " 'caps': [<matplotlib.lines.Line2D at 0x28c971b98b0>,\n",
       "  <matplotlib.lines.Line2D at 0x28c971b9c10>],\n",
       " 'boxes': [<matplotlib.lines.Line2D at 0x28c971a9e50>],\n",
       " 'medians': [<matplotlib.lines.Line2D at 0x28c971b9f70>],\n",
       " 'fliers': [<matplotlib.lines.Line2D at 0x28c972e4310>],\n",
       " 'means': []}"
      ]
     },
     "execution_count": 54,
     "metadata": {},
     "output_type": "execute_result"
    },
    {
     "data": {
      "image/png": "[encoded data removed]",
      "text/plain": [
       "<Figure size 432x288 with 1 Axes>"
      ]
     },
     "metadata": {
      "needs_background": "light"
     },
     "output_type": "display_data"
    }
   ],
   "source": [
    "plt.boxplot(df_train['passenger_count'])"
   ]
  },
  {
   "cell_type": "markdown",
   "id": "9482859c",
   "metadata": {
    "id": "9482859c"
   },
   "source": [
    "Esta variável também possui vários outliers. Abaixo será aplicado a limpeza dos dados."
   ]
  },
  {
   "cell_type": "code",
   "execution_count": 55,
   "id": "dd2ede56",
   "metadata": {
    "executionInfo": {
     "elapsed": 633,
     "status": "ok",
     "timestamp": 1628105888811,
     "user": {
      "displayName": "Bruno Sousa",
      "photoUrl": "",
      "userId": "03776589829833325726"
     },
     "user_tz": 180
    },
    "id": "dd2ede56"
   },
   "outputs": [],
   "source": [
    "Q1 = df_train['passenger_count'].quantile(0.25)\n",
    "Q3 = df_train['passenger_count'].quantile(0.75)\n",
    "IQR = Q3 - Q1\n",
    "\n",
    "filtered_passenger_count = df_train.query('(@Q1 - 1.5 * @IQR) < passenger_count > (@Q3 + 1.5 * @IQR)')\n",
    "df_train.drop(filtered_passenger_count.index, inplace=True)"
   ]
  },
  {
   "cell_type": "code",
   "execution_count": 56,
   "id": "2311ee08",
   "metadata": {
    "colab": {
     "base_uri": "https://localhost:8080/",
     "height": 282
    },
    "executionInfo": {
     "elapsed": 38,
     "status": "ok",
     "timestamp": 1628105888813,
     "user": {
      "displayName": "Bruno Sousa",
      "photoUrl": "",
      "userId": "03776589829833325726"
     },
     "user_tz": 180
    },
    "id": "2311ee08",
    "outputId": "038b51c9-266e-4d06-fa48-b00e1f8d3850"
   },
   "outputs": [
    {
     "data": {
      "text/plain": [
       "<AxesSubplot:>"
      ]
     },
     "execution_count": 56,
     "metadata": {},
     "output_type": "execute_result"
    },
    {
     "data": {
      "image/png": "[encoded data removed]",
      "text/plain": [
       "<Figure size 432x288 with 1 Axes>"
      ]
     },
     "metadata": {
      "needs_background": "light"
     },
     "output_type": "display_data"
    }
   ],
   "source": [
    "df_train['passenger_count'].hist(bins=3)"
   ]
  },
  {
   "cell_type": "code",
   "execution_count": 57,
   "id": "ecfaf2fd",
   "metadata": {
    "colab": {
     "base_uri": "https://localhost:8080/",
     "height": 401
    },
    "executionInfo": {
     "elapsed": 404,
     "status": "ok",
     "timestamp": 1628105889194,
     "user": {
      "displayName": "Bruno Sousa",
      "photoUrl": "",
      "userId": "03776589829833325726"
     },
     "user_tz": 180
    },
    "id": "ecfaf2fd",
    "outputId": "11597f8f-2a0e-46e9-d95b-db048145e762",
    "scrolled": false
   },
   "outputs": [
    {
     "data": {
      "text/plain": [
       "{'whiskers': [<matplotlib.lines.Line2D at 0x28c974ad4f0>,\n",
       "  <matplotlib.lines.Line2D at 0x28c974ad850>],\n",
       " 'caps': [<matplotlib.lines.Line2D at 0x28c974adbb0>,\n",
       "  <matplotlib.lines.Line2D at 0x28c974adf10>],\n",
       " 'boxes': [<matplotlib.lines.Line2D at 0x28c974ad190>],\n",
       " 'medians': [<matplotlib.lines.Line2D at 0x28c974bb2b0>],\n",
       " 'fliers': [<matplotlib.lines.Line2D at 0x28c974bb610>],\n",
       " 'means': []}"
      ]
     },
     "execution_count": 57,
     "metadata": {},
     "output_type": "execute_result"
    },
    {
     "data": {
      "image/png": "[encoded data removed]",
      "text/plain": [
       "<Figure size 432x288 with 1 Axes>"
      ]
     },
     "metadata": {
      "needs_background": "light"
     },
     "output_type": "display_data"
    }
   ],
   "source": [
    "plt.boxplot(df_train['passenger_count'])"
   ]
  },
  {
   "cell_type": "markdown",
   "id": "3fc471f5",
   "metadata": {
    "id": "3fc471f5"
   },
   "source": [
    "Removendo valores onde o número de passageiros é 0."
   ]
  },
  {
   "cell_type": "code",
   "execution_count": 58,
   "id": "7f6c6695",
   "metadata": {
    "executionInfo": {
     "elapsed": 21,
     "status": "ok",
     "timestamp": 1628105889195,
     "user": {
      "displayName": "Bruno Sousa",
      "photoUrl": "",
      "userId": "03776589829833325726"
     },
     "user_tz": 180
    },
    "id": "7f6c6695"
   },
   "outputs": [],
   "source": [
    "filtered_passenger_count = df_train.query('passenger_count == 0')\n",
    "df_train.drop(filtered_passenger_count.index, inplace=True)"
   ]
  },
  {
   "cell_type": "code",
   "execution_count": 59,
   "id": "a3a72004",
   "metadata": {
    "colab": {
     "base_uri": "https://localhost:8080/",
     "height": 401
    },
    "executionInfo": {
     "elapsed": 416,
     "status": "ok",
     "timestamp": 1628105890026,
     "user": {
      "displayName": "Bruno Sousa",
      "photoUrl": "",
      "userId": "03776589829833325726"
     },
     "user_tz": 180
    },
    "id": "a3a72004",
    "outputId": "f7ee3742-6c3a-499f-e01c-533553d6b06f"
   },
   "outputs": [
    {
     "data": {
      "text/plain": [
       "{'whiskers': [<matplotlib.lines.Line2D at 0x28c97501f70>,\n",
       "  <matplotlib.lines.Line2D at 0x28c97512310>],\n",
       " 'caps': [<matplotlib.lines.Line2D at 0x28c97512670>,\n",
       "  <matplotlib.lines.Line2D at 0x28c975129d0>],\n",
       " 'boxes': [<matplotlib.lines.Line2D at 0x28c97501c10>],\n",
       " 'medians': [<matplotlib.lines.Line2D at 0x28c97512d00>],\n",
       " 'fliers': [<matplotlib.lines.Line2D at 0x28c9751d070>],\n",
       " 'means': []}"
      ]
     },
     "execution_count": 59,
     "metadata": {},
     "output_type": "execute_result"
    },
    {
     "data": {
      "image/png": "[encoded data removed]",
      "text/plain": [
       "<Figure size 432x288 with 1 Axes>"
      ]
     },
     "metadata": {
      "needs_background": "light"
     },
     "output_type": "display_data"
    }
   ],
   "source": [
    "plt.boxplot(df_train['passenger_count'])"
   ]
  },
  {
   "cell_type": "code",
   "execution_count": 60,
   "id": "91a3a193",
   "metadata": {
    "colab": {
     "base_uri": "https://localhost:8080/",
     "height": 266
    },
    "executionInfo": {
     "elapsed": 511,
     "status": "ok",
     "timestamp": 1628105890527,
     "user": {
      "displayName": "Bruno Sousa",
      "photoUrl": "",
      "userId": "03776589829833325726"
     },
     "user_tz": 180
    },
    "id": "91a3a193",
    "outputId": "c86a7d59-9d79-485f-d65c-afae750e9642",
    "scrolled": true
   },
   "outputs": [
    {
     "data": {
      "text/html": [
       "<div>\n",
       "<style scoped>\n",
       "    .dataframe tbody tr th:only-of-type {\n",
       "        vertical-align: middle;\n",
       "    }\n",
       "\n",
       "    .dataframe tbody tr th {\n",
       "        vertical-align: top;\n",
       "    }\n",
       "\n",
       "    .dataframe thead th {\n",
       "        text-align: right;\n",
       "    }\n",
       "</style>\n",
       "<table border=\"1\" class=\"dataframe\">\n",
       "  <thead>\n",
       "    <tr style=\"text-align: right;\">\n",
       "      <th></th>\n",
       "      <th>passenger_count</th>\n",
       "      <th>trip_duration</th>\n",
       "      <th>pickup_datetime_madrugada</th>\n",
       "      <th>pickup_datetime_manha</th>\n",
       "      <th>pickup_datetime_noite</th>\n",
       "      <th>pickup_datetime_tarde</th>\n",
       "      <th>quilometragem</th>\n",
       "    </tr>\n",
       "  </thead>\n",
       "  <tbody>\n",
       "    <tr>\n",
       "      <th>passenger_count</th>\n",
       "      <td>1.000000</td>\n",
       "      <td>0.021838</td>\n",
       "      <td>0.017938</td>\n",
       "      <td>-0.055688</td>\n",
       "      <td>0.033456</td>\n",
       "      <td>0.005712</td>\n",
       "      <td>0.013074</td>\n",
       "    </tr>\n",
       "    <tr>\n",
       "      <th>trip_duration</th>\n",
       "      <td>0.021838</td>\n",
       "      <td>1.000000</td>\n",
       "      <td>-0.083072</td>\n",
       "      <td>-0.005461</td>\n",
       "      <td>-0.012274</td>\n",
       "      <td>0.074883</td>\n",
       "      <td>0.682727</td>\n",
       "    </tr>\n",
       "    <tr>\n",
       "      <th>pickup_datetime_madrugada</th>\n",
       "      <td>0.017938</td>\n",
       "      <td>-0.083072</td>\n",
       "      <td>1.000000</td>\n",
       "      <td>-0.202617</td>\n",
       "      <td>-0.254776</td>\n",
       "      <td>-0.227039</td>\n",
       "      <td>0.095611</td>\n",
       "    </tr>\n",
       "    <tr>\n",
       "      <th>pickup_datetime_manha</th>\n",
       "      <td>-0.055688</td>\n",
       "      <td>-0.005461</td>\n",
       "      <td>-0.202617</td>\n",
       "      <td>1.000000</td>\n",
       "      <td>-0.419271</td>\n",
       "      <td>-0.373625</td>\n",
       "      <td>-0.045638</td>\n",
       "    </tr>\n",
       "    <tr>\n",
       "      <th>pickup_datetime_noite</th>\n",
       "      <td>0.033456</td>\n",
       "      <td>-0.012274</td>\n",
       "      <td>-0.254776</td>\n",
       "      <td>-0.419271</td>\n",
       "      <td>1.000000</td>\n",
       "      <td>-0.469806</td>\n",
       "      <td>0.054897</td>\n",
       "    </tr>\n",
       "    <tr>\n",
       "      <th>pickup_datetime_tarde</th>\n",
       "      <td>0.005712</td>\n",
       "      <td>0.074883</td>\n",
       "      <td>-0.227039</td>\n",
       "      <td>-0.373625</td>\n",
       "      <td>-0.469806</td>\n",
       "      <td>1.000000</td>\n",
       "      <td>-0.079387</td>\n",
       "    </tr>\n",
       "    <tr>\n",
       "      <th>quilometragem</th>\n",
       "      <td>0.013074</td>\n",
       "      <td>0.682727</td>\n",
       "      <td>0.095611</td>\n",
       "      <td>-0.045638</td>\n",
       "      <td>0.054897</td>\n",
       "      <td>-0.079387</td>\n",
       "      <td>1.000000</td>\n",
       "    </tr>\n",
       "  </tbody>\n",
       "</table>\n",
       "</div>"
      ],
      "text/plain": [
       "                           passenger_count  trip_duration  \\\n",
       "passenger_count                   1.000000       0.021838   \n",
       "trip_duration                     0.021838       1.000000   \n",
       "pickup_datetime_madrugada         0.017938      -0.083072   \n",
       "pickup_datetime_manha            -0.055688      -0.005461   \n",
       "pickup_datetime_noite             0.033456      -0.012274   \n",
       "pickup_datetime_tarde             0.005712       0.074883   \n",
       "quilometragem                     0.013074       0.682727   \n",
       "\n",
       "                           pickup_datetime_madrugada  pickup_datetime_manha  \\\n",
       "passenger_count                             0.017938              -0.055688   \n",
       "trip_duration                              -0.083072              -0.005461   \n",
       "pickup_datetime_madrugada                   1.000000              -0.202617   \n",
       "pickup_datetime_manha                      -0.202617               1.000000   \n",
       "pickup_datetime_noite                      -0.254776              -0.419271   \n",
       "pickup_datetime_tarde                      -0.227039              -0.373625   \n",
       "quilometragem                               0.095611              -0.045638   \n",
       "\n",
       "                           pickup_datetime_noite  pickup_datetime_tarde  \\\n",
       "passenger_count                         0.033456               0.005712   \n",
       "trip_duration                          -0.012274               0.074883   \n",
       "pickup_datetime_madrugada              -0.254776              -0.227039   \n",
       "pickup_datetime_manha                  -0.419271              -0.373625   \n",
       "pickup_datetime_noite                   1.000000              -0.469806   \n",
       "pickup_datetime_tarde                  -0.469806               1.000000   \n",
       "quilometragem                           0.054897              -0.079387   \n",
       "\n",
       "                           quilometragem  \n",
       "passenger_count                 0.013074  \n",
       "trip_duration                   0.682727  \n",
       "pickup_datetime_madrugada       0.095611  \n",
       "pickup_datetime_manha          -0.045638  \n",
       "pickup_datetime_noite           0.054897  \n",
       "pickup_datetime_tarde          -0.079387  \n",
       "quilometragem                   1.000000  "
      ]
     },
     "execution_count": 60,
     "metadata": {},
     "output_type": "execute_result"
    }
   ],
   "source": [
    "df_train.corr()"
   ]
  },
  {
   "cell_type": "markdown",
   "id": "959828b7",
   "metadata": {
    "id": "959828b7"
   },
   "source": [
    "A variável passenger_count não possuía uma correlação boa com a variável independente. Mesmo retirando os outliers como feito em outras variáveis, não ajudou muito a aumentar a correlação entre as elas."
   ]
  },
  {
   "cell_type": "markdown",
   "id": "5ff40485",
   "metadata": {
    "id": "5ff40485"
   },
   "source": [
    "## 4 Modeling"
   ]
  },
  {
   "cell_type": "markdown",
   "id": "d8b74685",
   "metadata": {
    "id": "d8b74685"
   },
   "source": [
    "Para realizar o processo de treinamento e previsão dos dados, escolhi o método de Regressão Linear. Sendo a variável trip_duration contínua e tendo uma correlação boa entre a variável quilometragem e trip_duration, é propício a utilização deste método para realizar as previsões."
   ]
  },
  {
   "cell_type": "code",
   "execution_count": 61,
   "id": "c1498c09",
   "metadata": {
    "colab": {
     "base_uri": "https://localhost:8080/",
     "height": 282
    },
    "executionInfo": {
     "elapsed": 43,
     "status": "ok",
     "timestamp": 1628105890531,
     "user": {
      "displayName": "Bruno Sousa",
      "photoUrl": "",
      "userId": "03776589829833325726"
     },
     "user_tz": 180
    },
    "id": "c1498c09",
    "outputId": "5f5094b8-164c-411d-dd17-02dbe85aa86c",
    "scrolled": false
   },
   "outputs": [
    {
     "data": {
      "text/plain": [
       "<matplotlib.collections.PathCollection at 0x28c97563e80>"
      ]
     },
     "execution_count": 61,
     "metadata": {},
     "output_type": "execute_result"
    },
    {
     "data": {
      "image/png": "[encoded data removed]",
      "text/plain": [
       "<Figure size 432x288 with 1 Axes>"
      ]
     },
     "metadata": {
      "needs_background": "light"
     },
     "output_type": "display_data"
    }
   ],
   "source": [
    "plt.scatter(x=df_train['quilometragem'].tail(1000), y=df_train['trip_duration'].tail(1000))"
   ]
  },
  {
   "cell_type": "markdown",
   "id": "20a80b6b",
   "metadata": {
    "id": "20a80b6b"
   },
   "source": [
    "Variável dependente."
   ]
  },
  {
   "cell_type": "code",
   "execution_count": 62,
   "id": "e10307c5",
   "metadata": {
    "executionInfo": {
     "elapsed": 21,
     "status": "ok",
     "timestamp": 1628105890532,
     "user": {
      "displayName": "Bruno Sousa",
      "photoUrl": "",
      "userId": "03776589829833325726"
     },
     "user_tz": 180
    },
    "id": "e10307c5",
    "scrolled": true
   },
   "outputs": [],
   "source": [
    "y = df_train['trip_duration']"
   ]
  },
  {
   "cell_type": "markdown",
   "id": "c05487a0",
   "metadata": {
    "id": "c05487a0"
   },
   "source": [
    "Variável independente."
   ]
  },
  {
   "cell_type": "code",
   "execution_count": 63,
   "id": "9b842d59",
   "metadata": {
    "executionInfo": {
     "elapsed": 25,
     "status": "ok",
     "timestamp": 1628105890536,
     "user": {
      "displayName": "Bruno Sousa",
      "photoUrl": "",
      "userId": "03776589829833325726"
     },
     "user_tz": 180
    },
    "id": "9b842d59",
    "scrolled": false
   },
   "outputs": [],
   "source": [
    "X = df_train.loc[:, ['quilometragem']]"
   ]
  },
  {
   "cell_type": "code",
   "execution_count": 64,
   "id": "ebc82b73",
   "metadata": {
    "executionInfo": {
     "elapsed": 25,
     "status": "ok",
     "timestamp": 1628105890537,
     "user": {
      "displayName": "Bruno Sousa",
      "photoUrl": "",
      "userId": "03776589829833325726"
     },
     "user_tz": 180
    },
    "id": "ebc82b73",
    "scrolled": true
   },
   "outputs": [],
   "source": [
    "model = LinearRegression()"
   ]
  },
  {
   "cell_type": "markdown",
   "id": "59d27b6b",
   "metadata": {
    "id": "59d27b6b"
   },
   "source": [
    "Abaixo será realizada a divisão da base de dados entre treino e teste, o treinamento do algoritmo e também a avaliação utilizando o método MAE (Mean Absolute Error)."
   ]
  },
  {
   "cell_type": "code",
   "execution_count": 72,
   "id": "700905b0",
   "metadata": {
    "colab": {
     "base_uri": "https://localhost:8080/"
    },
    "executionInfo": {
     "elapsed": 364,
     "status": "ok",
     "timestamp": 1628105890877,
     "user": {
      "displayName": "Bruno Sousa",
      "photoUrl": "",
      "userId": "03776589829833325726"
     },
     "user_tz": 180
    },
    "id": "700905b0",
    "outputId": "d94cdb8c-bb7d-4961-e0ac-edeca70f6383"
   },
   "outputs": [
    {
     "data": {
      "text/plain": [
       "289.66246974808644"
      ]
     },
     "execution_count": 72,
     "metadata": {},
     "output_type": "execute_result"
    }
   ],
   "source": [
    "X_train, X_test, y_train, y_test = train_test_split(X, y, test_size=0.3)\n",
    "\n",
    "model.fit(X_train, y_train)\n",
    "\n",
    "y_predicted = model.predict(X_test)\n",
    "\n",
    "math.sqrt(mse(y_predicted, y_test))"
   ]
  },
  {
   "cell_type": "markdown",
   "id": "e677a66b",
   "metadata": {
    "id": "e677a66b"
   },
   "source": [
    "Com os dados que tinhamos para a previsão, alcançamos um valor de erro de 218 segundos entre a linha de regressão e os dados reais."
   ]
  },
  {
   "cell_type": "markdown",
   "id": "c8731698",
   "metadata": {
    "id": "c8731698"
   },
   "source": [
    "## Evaluation"
   ]
  },
  {
   "cell_type": "markdown",
   "id": "4e5e37d5",
   "metadata": {
    "id": "4e5e37d5"
   },
   "source": [
    "Abaixo será computada uma amostra de mil treinamentos e testes da base de dados. Posteriormente, um gráfico é exibido demonstrando o desempenho do algoritmo em cada processo de treino e teste."
   ]
  },
  {
   "cell_type": "code",
   "execution_count": 73,
   "id": "b157bb58",
   "metadata": {
    "executionInfo": {
     "elapsed": 181136,
     "status": "ok",
     "timestamp": 1628106072009,
     "user": {
      "displayName": "Bruno Sousa",
      "photoUrl": "",
      "userId": "03776589829833325726"
     },
     "user_tz": 180
    },
    "id": "b157bb58"
   },
   "outputs": [],
   "source": [
    "list_x = []\n",
    "list_y = []\n",
    "for x in range(1000):\n",
    "    X_train, X_test, y_train, y_test = train_test_split(X, y, test_size=0.3)\n",
    "    model.fit(X_train, y_train)\n",
    "    y_predicted = model.predict(X_test)\n",
    "    list_y.append(math.sqrt(mse(y_predicted, y_test)))\n",
    "    list_x.append(x)"
   ]
  },
  {
   "cell_type": "code",
   "execution_count": 74,
   "id": "aab78cbc",
   "metadata": {
    "colab": {
     "base_uri": "https://localhost:8080/",
     "height": 282
    },
    "executionInfo": {
     "elapsed": 39,
     "status": "ok",
     "timestamp": 1628106072012,
     "user": {
      "displayName": "Bruno Sousa",
      "photoUrl": "",
      "userId": "03776589829833325726"
     },
     "user_tz": 180
    },
    "id": "aab78cbc",
    "outputId": "71fd92a2-b1fc-4a3a-c250-8bcc3d254708",
    "scrolled": true
   },
   "outputs": [
    {
     "data": {
      "text/plain": [
       "[<matplotlib.lines.Line2D at 0x28c977a29a0>]"
      ]
     },
     "execution_count": 74,
     "metadata": {},
     "output_type": "execute_result"
    },
    {
     "data": {
      "image/png": "[encoded data removed]",
      "text/plain": [
       "<Figure size 432x288 with 1 Axes>"
      ]
     },
     "metadata": {
      "needs_background": "light"
     },
     "output_type": "display_data"
    }
   ],
   "source": [
    "plt.plot(list_x, list_y)"
   ]
  },
  {
   "cell_type": "markdown",
   "id": "J28KIPs7yXkw",
   "metadata": {
    "id": "J28KIPs7yXkw"
   },
   "source": [
    "## Aplicando o modelo"
   ]
  },
  {
   "cell_type": "markdown",
   "id": "1bb47abc",
   "metadata": {
    "id": "1bb47abc"
   },
   "source": [
    "Abaixo desenvolvi uma aplicação simples para demonstrar o que foi feito no modelo anteriormente. Você deve entrar com as localizações de origem e destino e o algoritmo dá uma previsão do tempo que a corrida irá levar. Para a demonstração do mapa, foi utilizado a biblioteca OSMPythonTools que utiliza o Open Street Map como fonte de consulta."
   ]
  },
  {
   "cell_type": "code",
   "execution_count": 77,
   "id": "3ggdpI5rybSW",
   "metadata": {
    "colab": {
     "base_uri": "https://localhost:8080/"
    },
    "executionInfo": {
     "elapsed": 619254,
     "status": "ok",
     "timestamp": 1628106691243,
     "user": {
      "displayName": "Bruno Sousa",
      "photoUrl": "",
      "userId": "03776589829833325726"
     },
     "user_tz": 180
    },
    "id": "3ggdpI5rybSW",
    "outputId": "5b9bda13-bd6e-4bc9-ddcb-d565f2750a33"
   },
   "outputs": [],
   "source": [
    "def calcula_distancia():\n",
    "    nominatim = Nominatim()\n",
    "    input_dados = True\n",
    "    while(input_dados):\n",
    "      print('---Digite as informações de origem e destino.---')\n",
    "      print('Os dados devem seguir a seguinte ordem. Rua, número, bairro, cidade, estado, país. \\n')\n",
    "\n",
    "      origin = input(\"Digite o local de origem: \\n\")\n",
    "      print('\\n')\n",
    "      destination = input(\"Digite o local de destino: \\n\")\n",
    "      print('\\n')\n",
    "\n",
    "      #pegando coordenadas de origem\n",
    "      origin_coordiantes = nominatim.query(origin)\n",
    "      origin_coordiantes = origin_coordiantes.toJSON()\n",
    "\n",
    "      #pegando coordenadas de destino\n",
    "      destination_coordiantes = nominatim.query(destination)\n",
    "      destination_coordiantes = destination_coordiantes.toJSON()\n",
    "\n",
    "      if len(origin_coordiantes) == 0:\n",
    "        print(\"Dados de origem não encontrados, digite novamente \\n\")\n",
    "      elif len(destination_coordiantes) == 0:\n",
    "        print(\"Dados de destino não encontrados, digite novamente \\n\")\n",
    "      else:\n",
    "        input_dados = False\n",
    "    \n",
    "    distance = round(haversine((float(origin_coordiantes[0]['lat']), float(origin_coordiantes[0]['lon'])),\n",
    "                            (float(destination_coordiantes[0]['lat']),float(destination_coordiantes[0]['lon']))), 1)\n",
    "    previsao = model.predict([[distance]])\n",
    "\n",
    "    map_corrida = folium.Map(location=[float(origin_coordiantes[0]['lat']), float(origin_coordiantes[0]['lon'])], zoom_start=14)\n",
    "\n",
    "    folium.Marker(location=[float(origin_coordiantes[0]['lat']), float(origin_coordiantes[0]['lon'])], \n",
    "                  icon=folium.Icon(color='green', icon='glyphicon glyphicon-record'), \n",
    "                  popup=\"Origem\").add_to(map_corrida)\n",
    "\n",
    "    folium.Marker(location=[float(destination_coordiantes[0]['lat']), float(destination_coordiantes[0]['lon'])], \n",
    "                  icon=folium.Icon(color='red', icon='glyphicon glyphicon-map-marker'), \n",
    "                  popup=\"Destino\").add_to(map_corrida)\n",
    "    \n",
    "    hora, minuto, segundo, resto = 0,0,0,0\n",
    "    convert_pervisao = int(previsao[0])\n",
    "\n",
    "    if convert_pervisao % 3600 == convert_pervisao:\n",
    "        hora = 0\n",
    "    else:\n",
    "        hora = int(convert_pervisao / 3600)\n",
    "\n",
    "    if convert_pervisao % 60 == convert_pervisao:\n",
    "        minuto = 0\n",
    "    else:\n",
    "        minuto = int(convert_pervisao / 60)\n",
    "        \n",
    "    string_tempo_previsto = \"\"\n",
    "    if hora == 0 and minuto == 1:\n",
    "        string_tempo_previsto = 'Tempo esmtimado é de 1 minuto'\n",
    "    elif hora == 0 and minuto > 1:\n",
    "        string_tempo_previsto= 'Tempo esmtimado é de {} minutos'.format(minuto)\n",
    "    elif hora == 1 and minuto == 1:\n",
    "        string_tempo_previsto = 'Tempo esmtimado é de 1 hora e 1 minuto'\n",
    "    elif hora > 1 and minuto > 1:\n",
    "        string_tempo_previsto = 'Tempo esmtimado é de {} horas e {} minutos'.format(horam,minuto)\n",
    "        \n",
    "    return map_corrida, string_tempo_previsto"
   ]
  },
  {
   "cell_type": "code",
   "execution_count": 78,
   "id": "e2r8N8SNp06o",
   "metadata": {
    "colab": {
     "base_uri": "https://localhost:8080/"
    },
    "executionInfo": {
     "elapsed": 242,
     "status": "ok",
     "timestamp": 1628106703301,
     "user": {
      "displayName": "Bruno Sousa",
      "photoUrl": "",
      "userId": "03776589829833325726"
     },
     "user_tz": 180
    },
    "id": "e2r8N8SNp06o",
    "outputId": "67ac7d77-9d93-4e7d-8411-11a85d570ab5",
    "scrolled": false
   },
   "outputs": [
    {
     "name": "stdout",
     "output_type": "stream",
     "text": [
      "---Digite as informações de origem e destino.---\n",
      "Os dados devem seguir a seguinte ordem. Rua, número, bairro, cidade, estado, país. \n",
      "\n",
      "Digite o local de origem: \n",
      "West 50th Street, Theater District, Manhattan, New York County, Nova Iorque, 10019, Estados Unidos da América\n",
      "\n",
      "\n",
      "Digite o local de destino: \n",
      "Central Park South, Manhattan Community Board 5, Manhattan, New York County, Nova Iorque, 10019, Estados Unidos da América\n",
      "\n",
      "\n"
     ]
    }
   ],
   "source": [
    "map_corrida, string_tempo_previsto = calcula_distancia()"
   ]
  },
  {
   "cell_type": "code",
   "execution_count": 83,
   "id": "42a2d81b",
   "metadata": {},
   "outputs": [
    {
     "data": {
      "text/plain": [
       "'Tempo esmtimado é de 6 minutos'"
      ]
     },
     "execution_count": 83,
     "metadata": {},
     "output_type": "execute_result"
    }
   ],
   "source": [
    "string_tempo_previsto"
   ]
  },
  {
   "cell_type": "code",
   "execution_count": 82,
   "id": "o2tDw0Wapv6a",
   "metadata": {
    "colab": {
     "base_uri": "https://localhost:8080/"
    },
    "executionInfo": {
     "elapsed": 291,
     "status": "ok",
     "timestamp": 1628106795455,
     "user": {
      "displayName": "Bruno Sousa",
      "photoUrl": "",
      "userId": "03776589829833325726"
     },
     "user_tz": 180
    },
    "id": "o2tDw0Wapv6a",
    "outputId": "21020eed-5bdf-465c-d148-08993829812c"
   },
   "outputs": [
    {
     "data": {
      "text/html": [
       "<div style=\"width:100%;\"><div style=\"position:relative;width:100%;height:0;padding-bottom:60%;\"><span style=\"color:#565656\">Make this Notebook Trusted to load map: File -> Trust Notebook</span><iframe src=\"about:blank\" style=\"position:absolute;width:100%;height:100%;left:0;top:0;border:none !important;\" data-html=%3C%21DOCTYPE%20html%3E%0A%3Chead%3E%20%20%20%20%0A%20%20%20%20%3Cmeta%20http-equiv%3D%22content-type%22%20content%3D%22text/html%3B%20charset%3DUTF-8%22%20/%3E%0A%20%20%20%20%0A%20%20%20%20%20%20%20%20%3Cscript%3E%0A%20%20%20%20%20%20%20%20%20%20%20%20L_NO_TOUCH%20%3D%20false%3B%0A%20%20%20%20%20%20%20%20%20%20%20%20L_DISABLE_3D%20%3D%20false%3B%0A%20%20%20%20%20%20%20%20%3C/script%3E%0A%20%20%20%20%0A%20%20%20%20%3Cstyle%3Ehtml%2C%20body%20%7Bwidth%3A%20100%25%3Bheight%3A%20100%25%3Bmargin%3A%200%3Bpadding%3A%200%3B%7D%3C/style%3E%0A%20%20%20%20%3Cstyle%3E%23map%20%7Bposition%3Aabsolute%3Btop%3A0%3Bbottom%3A0%3Bright%3A0%3Bleft%3A0%3B%7D%3C/style%3E%0A%20%20%20%20%3Cscript%20src%3D%22https%3A//cdn.jsdelivr.net/npm/leaflet%401.6.0/dist/leaflet.js%22%3E%3C/script%3E%0A%20%20%20%20%3Cscript%20src%3D%22https%3A//code.jquery.com/jquery-1.12.4.min.js%22%3E%3C/script%3E%0A%20%20%20%20%3Cscript%20src%3D%22https%3A//maxcdn.bootstrapcdn.com/bootstrap/3.2.0/js/bootstrap.min.js%22%3E%3C/script%3E%0A%20%20%20%20%3Cscript%20src%3D%22https%3A//cdnjs.cloudflare.com/ajax/libs/Leaflet.awesome-markers/2.0.2/leaflet.awesome-markers.js%22%3E%3C/script%3E%0A%20%20%20%20%3Clink%20rel%3D%22stylesheet%22%20href%3D%22https%3A//cdn.jsdelivr.net/npm/leaflet%401.6.0/dist/leaflet.css%22/%3E%0A%20%20%20%20%3Clink%20rel%3D%22stylesheet%22%20href%3D%22https%3A//maxcdn.bootstrapcdn.com/bootstrap/3.2.0/css/bootstrap.min.css%22/%3E%0A%20%20%20%20%3Clink%20rel%3D%22stylesheet%22%20href%3D%22https%3A//maxcdn.bootstrapcdn.com/bootstrap/3.2.0/css/bootstrap-theme.min.css%22/%3E%0A%20%20%20%20%3Clink%20rel%3D%22stylesheet%22%20href%3D%22https%3A//maxcdn.bootstrapcdn.com/font-awesome/4.6.3/css/font-awesome.min.css%22/%3E%0A%20%20%20%20%3Clink%20rel%3D%22stylesheet%22%20href%3D%22https%3A//cdnjs.cloudflare.com/ajax/libs/Leaflet.awesome-markers/2.0.2/leaflet.awesome-markers.css%22/%3E%0A%20%20%20%20%3Clink%20rel%3D%22stylesheet%22%20href%3D%22https%3A//cdn.jsdelivr.net/gh/python-visualization/folium/folium/templates/leaflet.awesome.rotate.min.css%22/%3E%0A%20%20%20%20%0A%20%20%20%20%20%20%20%20%20%20%20%20%3Cmeta%20name%3D%22viewport%22%20content%3D%22width%3Ddevice-width%2C%0A%20%20%20%20%20%20%20%20%20%20%20%20%20%20%20%20initial-scale%3D1.0%2C%20maximum-scale%3D1.0%2C%20user-scalable%3Dno%22%20/%3E%0A%20%20%20%20%20%20%20%20%20%20%20%20%3Cstyle%3E%0A%20%20%20%20%20%20%20%20%20%20%20%20%20%20%20%20%23map_22b0c8885a104e849b9f29c42bd82fb7%20%7B%0A%20%20%20%20%20%20%20%20%20%20%20%20%20%20%20%20%20%20%20%20position%3A%20relative%3B%0A%20%20%20%20%20%20%20%20%20%20%20%20%20%20%20%20%20%20%20%20width%3A%20100.0%25%3B%0A%20%20%20%20%20%20%20%20%20%20%20%20%20%20%20%20%20%20%20%20height%3A%20100.0%25%3B%0A%20%20%20%20%20%20%20%20%20%20%20%20%20%20%20%20%20%20%20%20left%3A%200.0%25%3B%0A%20%20%20%20%20%20%20%20%20%20%20%20%20%20%20%20%20%20%20%20top%3A%200.0%25%3B%0A%20%20%20%20%20%20%20%20%20%20%20%20%20%20%20%20%7D%0A%20%20%20%20%20%20%20%20%20%20%20%20%3C/style%3E%0A%20%20%20%20%20%20%20%20%0A%3C/head%3E%0A%3Cbody%3E%20%20%20%20%0A%20%20%20%20%0A%20%20%20%20%20%20%20%20%20%20%20%20%3Cdiv%20class%3D%22folium-map%22%20id%3D%22map_22b0c8885a104e849b9f29c42bd82fb7%22%20%3E%3C/div%3E%0A%20%20%20%20%20%20%20%20%0A%3C/body%3E%0A%3Cscript%3E%20%20%20%20%0A%20%20%20%20%0A%20%20%20%20%20%20%20%20%20%20%20%20var%20map_22b0c8885a104e849b9f29c42bd82fb7%20%3D%20L.map%28%0A%20%20%20%20%20%20%20%20%20%20%20%20%20%20%20%20%22map_22b0c8885a104e849b9f29c42bd82fb7%22%2C%0A%20%20%20%20%20%20%20%20%20%20%20%20%20%20%20%20%7B%0A%20%20%20%20%20%20%20%20%20%20%20%20%20%20%20%20%20%20%20%20center%3A%20%5B40.7604917%2C%20-73.9818069%5D%2C%0A%20%20%20%20%20%20%20%20%20%20%20%20%20%20%20%20%20%20%20%20crs%3A%20L.CRS.EPSG3857%2C%0A%20%20%20%20%20%20%20%20%20%20%20%20%20%20%20%20%20%20%20%20zoom%3A%2014%2C%0A%20%20%20%20%20%20%20%20%20%20%20%20%20%20%20%20%20%20%20%20zoomControl%3A%20true%2C%0A%20%20%20%20%20%20%20%20%20%20%20%20%20%20%20%20%20%20%20%20preferCanvas%3A%20false%2C%0A%20%20%20%20%20%20%20%20%20%20%20%20%20%20%20%20%7D%0A%20%20%20%20%20%20%20%20%20%20%20%20%29%3B%0A%0A%20%20%20%20%20%20%20%20%20%20%20%20%0A%0A%20%20%20%20%20%20%20%20%0A%20%20%20%20%0A%20%20%20%20%20%20%20%20%20%20%20%20var%20tile_layer_86cdba83a7ab4068bc2e033a158c54c7%20%3D%20L.tileLayer%28%0A%20%20%20%20%20%20%20%20%20%20%20%20%20%20%20%20%22https%3A//%7Bs%7D.tile.openstreetmap.org/%7Bz%7D/%7Bx%7D/%7By%7D.png%22%2C%0A%20%20%20%20%20%20%20%20%20%20%20%20%20%20%20%20%7B%22attribution%22%3A%20%22Data%20by%20%5Cu0026copy%3B%20%5Cu003ca%20href%3D%5C%22http%3A//openstreetmap.org%5C%22%5Cu003eOpenStreetMap%5Cu003c/a%5Cu003e%2C%20under%20%5Cu003ca%20href%3D%5C%22http%3A//www.openstreetmap.org/copyright%5C%22%5Cu003eODbL%5Cu003c/a%5Cu003e.%22%2C%20%22detectRetina%22%3A%20false%2C%20%22maxNativeZoom%22%3A%2018%2C%20%22maxZoom%22%3A%2018%2C%20%22minZoom%22%3A%200%2C%20%22noWrap%22%3A%20false%2C%20%22opacity%22%3A%201%2C%20%22subdomains%22%3A%20%22abc%22%2C%20%22tms%22%3A%20false%7D%0A%20%20%20%20%20%20%20%20%20%20%20%20%29.addTo%28map_22b0c8885a104e849b9f29c42bd82fb7%29%3B%0A%20%20%20%20%20%20%20%20%0A%20%20%20%20%0A%20%20%20%20%20%20%20%20%20%20%20%20var%20marker_b8f376a2673d47f481f8f5356029c9da%20%3D%20L.marker%28%0A%20%20%20%20%20%20%20%20%20%20%20%20%20%20%20%20%5B40.7604917%2C%20-73.9818069%5D%2C%0A%20%20%20%20%20%20%20%20%20%20%20%20%20%20%20%20%7B%7D%0A%20%20%20%20%20%20%20%20%20%20%20%20%29.addTo%28map_22b0c8885a104e849b9f29c42bd82fb7%29%3B%0A%20%20%20%20%20%20%20%20%0A%20%20%20%20%0A%20%20%20%20%20%20%20%20%20%20%20%20var%20icon_bdd40b8542af471996aeabe0814fcb34%20%3D%20L.AwesomeMarkers.icon%28%0A%20%20%20%20%20%20%20%20%20%20%20%20%20%20%20%20%7B%22extraClasses%22%3A%20%22fa-rotate-0%22%2C%20%22icon%22%3A%20%22glyphicon%20glyphicon-record%22%2C%20%22iconColor%22%3A%20%22white%22%2C%20%22markerColor%22%3A%20%22green%22%2C%20%22prefix%22%3A%20%22glyphicon%22%7D%0A%20%20%20%20%20%20%20%20%20%20%20%20%29%3B%0A%20%20%20%20%20%20%20%20%20%20%20%20marker_b8f376a2673d47f481f8f5356029c9da.setIcon%28icon_bdd40b8542af471996aeabe0814fcb34%29%3B%0A%20%20%20%20%20%20%20%20%0A%20%20%20%20%0A%20%20%20%20%20%20%20%20var%20popup_2205acb0d7c844f092263d10b86c19f0%20%3D%20L.popup%28%7B%22maxWidth%22%3A%20%22100%25%22%7D%29%3B%0A%0A%20%20%20%20%20%20%20%20%0A%20%20%20%20%20%20%20%20%20%20%20%20var%20html_e1404d0f7a9c49ad81dbbe8ade68a0f2%20%3D%20%24%28%60%3Cdiv%20id%3D%22html_e1404d0f7a9c49ad81dbbe8ade68a0f2%22%20style%3D%22width%3A%20100.0%25%3B%20height%3A%20100.0%25%3B%22%3EOrigem%3C/div%3E%60%29%5B0%5D%3B%0A%20%20%20%20%20%20%20%20%20%20%20%20popup_2205acb0d7c844f092263d10b86c19f0.setContent%28html_e1404d0f7a9c49ad81dbbe8ade68a0f2%29%3B%0A%20%20%20%20%20%20%20%20%0A%0A%20%20%20%20%20%20%20%20marker_b8f376a2673d47f481f8f5356029c9da.bindPopup%28popup_2205acb0d7c844f092263d10b86c19f0%29%0A%20%20%20%20%20%20%20%20%3B%0A%0A%20%20%20%20%20%20%20%20%0A%20%20%20%20%0A%20%20%20%20%0A%20%20%20%20%20%20%20%20%20%20%20%20var%20marker_d4908fa3633443cbb35560b962497165%20%3D%20L.marker%28%0A%20%20%20%20%20%20%20%20%20%20%20%20%20%20%20%20%5B40.7660432%2C%20-73.9770965%5D%2C%0A%20%20%20%20%20%20%20%20%20%20%20%20%20%20%20%20%7B%7D%0A%20%20%20%20%20%20%20%20%20%20%20%20%29.addTo%28map_22b0c8885a104e849b9f29c42bd82fb7%29%3B%0A%20%20%20%20%20%20%20%20%0A%20%20%20%20%0A%20%20%20%20%20%20%20%20%20%20%20%20var%20icon_860048870f324fdd94ecbf412c1bb5d8%20%3D%20L.AwesomeMarkers.icon%28%0A%20%20%20%20%20%20%20%20%20%20%20%20%20%20%20%20%7B%22extraClasses%22%3A%20%22fa-rotate-0%22%2C%20%22icon%22%3A%20%22glyphicon%20glyphicon-map-marker%22%2C%20%22iconColor%22%3A%20%22white%22%2C%20%22markerColor%22%3A%20%22red%22%2C%20%22prefix%22%3A%20%22glyphicon%22%7D%0A%20%20%20%20%20%20%20%20%20%20%20%20%29%3B%0A%20%20%20%20%20%20%20%20%20%20%20%20marker_d4908fa3633443cbb35560b962497165.setIcon%28icon_860048870f324fdd94ecbf412c1bb5d8%29%3B%0A%20%20%20%20%20%20%20%20%0A%20%20%20%20%0A%20%20%20%20%20%20%20%20var%20popup_587b9734b0724c7da9bcfe26a9808685%20%3D%20L.popup%28%7B%22maxWidth%22%3A%20%22100%25%22%7D%29%3B%0A%0A%20%20%20%20%20%20%20%20%0A%20%20%20%20%20%20%20%20%20%20%20%20var%20html_91f3618ed2e1460494eb351adc73ddea%20%3D%20%24%28%60%3Cdiv%20id%3D%22html_91f3618ed2e1460494eb351adc73ddea%22%20style%3D%22width%3A%20100.0%25%3B%20height%3A%20100.0%25%3B%22%3EDestino%3C/div%3E%60%29%5B0%5D%3B%0A%20%20%20%20%20%20%20%20%20%20%20%20popup_587b9734b0724c7da9bcfe26a9808685.setContent%28html_91f3618ed2e1460494eb351adc73ddea%29%3B%0A%20%20%20%20%20%20%20%20%0A%0A%20%20%20%20%20%20%20%20marker_d4908fa3633443cbb35560b962497165.bindPopup%28popup_587b9734b0724c7da9bcfe26a9808685%29%0A%20%20%20%20%20%20%20%20%3B%0A%0A%20%20%20%20%20%20%20%20%0A%20%20%20%20%0A%3C/script%3E onload=\"this.contentDocument.open();this.contentDocument.write(    decodeURIComponent(this.getAttribute('data-html')));this.contentDocument.close();\" allowfullscreen webkitallowfullscreen mozallowfullscreen></iframe></div></div>"
      ],
      "text/plain": [
       "<folium.folium.Map at 0x28cb78a70d0>"
      ]
     },
     "execution_count": 82,
     "metadata": {},
     "output_type": "execute_result"
    }
   ],
   "source": [
    "map_corrida"
   ]
  },
  {
   "cell_type": "code",
   "execution_count": null,
   "id": "ZnzT0pdoMVhK",
   "metadata": {
    "executionInfo": {
     "elapsed": 66,
     "status": "aborted",
     "timestamp": 1628106691247,
     "user": {
      "displayName": "Bruno Sousa",
      "photoUrl": "",
      "userId": "03776589829833325726"
     },
     "user_tz": 180
    },
    "id": "ZnzT0pdoMVhK"
   },
   "outputs": [],
   "source": [
    "\n",
    "\n",
    "\n",
    "\n"
   ]
  }
 ],
 "metadata": {
  "colab": {
   "collapsed_sections": [],
   "name": "Project_1_Taxi_Prediction.ipynb",
   "provenance": []
  },
  "kernelspec": {
   "display_name": "Python 3",
   "language": "python",
   "name": "python3"
  },
  "language_info": {
   "codemirror_mode": {
    "name": "ipython",
    "version": 3
   },
   "file_extension": ".py",
   "mimetype": "text/x-python",
   "name": "python",
   "nbconvert_exporter": "python",
   "pygments_lexer": "ipython3",
   "version": "3.8.8"
  }
 },
 "nbformat": 4,
 "nbformat_minor": 5
}
